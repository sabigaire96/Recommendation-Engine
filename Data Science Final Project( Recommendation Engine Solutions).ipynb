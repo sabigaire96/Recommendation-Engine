{
 "cells": [
  {
   "cell_type": "markdown",
   "metadata": {},
   "source": [
    "# Load the required modules"
   ]
  },
  {
   "cell_type": "code",
   "execution_count": 1,
   "metadata": {},
   "outputs": [],
   "source": [
    "\n",
    "import pandas as pd\n",
    "import numpy as np\n",
    "import time\n",
    "import turicreate as tc\n",
    "from sklearn.model_selection import train_test_split\n"
   ]
  },
  {
   "cell_type": "markdown",
   "metadata": {},
   "source": [
    "# load the data"
   ]
  },
  {
   "cell_type": "code",
   "execution_count": 2,
   "metadata": {},
   "outputs": [],
   "source": [
    "\n",
    "transactions = pd.read_csv('transaction_data.csv')"
   ]
  },
  {
   "cell_type": "code",
   "execution_count": 3,
   "metadata": {},
   "outputs": [],
   "source": [
    "data = transactions"
   ]
  },
  {
   "cell_type": "code",
   "execution_count": 4,
   "metadata": {},
   "outputs": [],
   "source": [
    "customer = data['customerid'].unique()"
   ]
  },
  {
   "cell_type": "code",
   "execution_count": 5,
   "metadata": {},
   "outputs": [],
   "source": [
    "customers = pd.DataFrame(customer, columns=['customerid'])"
   ]
  },
  {
   "cell_type": "markdown",
   "metadata": {},
   "source": [
    "# create dummy data"
   ]
  },
  {
   "cell_type": "code",
   "execution_count": 6,
   "metadata": {},
   "outputs": [],
   "source": [
    "\n",
    "def create_data_dummy(datas):\n",
    "    data_dummy = datas.copy()\n",
    "    data_dummy ['purchase_dummy'] = 1\n",
    "    return data_dummy\n",
    "data_dummy = create_data_dummy(data)\n",
    "    "
   ]
  },
  {
   "cell_type": "code",
   "execution_count": 7,
   "metadata": {},
   "outputs": [
    {
     "data": {
      "text/html": [
       "<div>\n",
       "<style scoped>\n",
       "    .dataframe tbody tr th:only-of-type {\n",
       "        vertical-align: middle;\n",
       "    }\n",
       "\n",
       "    .dataframe tbody tr th {\n",
       "        vertical-align: top;\n",
       "    }\n",
       "\n",
       "    .dataframe thead th {\n",
       "        text-align: right;\n",
       "    }\n",
       "</style>\n",
       "<table border=\"1\" class=\"dataframe\">\n",
       "  <thead>\n",
       "    <tr style=\"text-align: right;\">\n",
       "      <th></th>\n",
       "      <th>customerid</th>\n",
       "      <th>productid</th>\n",
       "      <th>purchase_count</th>\n",
       "      <th>purchase_dummy</th>\n",
       "    </tr>\n",
       "  </thead>\n",
       "  <tbody>\n",
       "    <tr>\n",
       "      <th>0</th>\n",
       "      <td>11000</td>\n",
       "      <td>344</td>\n",
       "      <td>1</td>\n",
       "      <td>1</td>\n",
       "    </tr>\n",
       "    <tr>\n",
       "      <th>1</th>\n",
       "      <td>11000</td>\n",
       "      <td>353</td>\n",
       "      <td>1</td>\n",
       "      <td>1</td>\n",
       "    </tr>\n",
       "    <tr>\n",
       "      <th>2</th>\n",
       "      <td>11000</td>\n",
       "      <td>485</td>\n",
       "      <td>1</td>\n",
       "      <td>1</td>\n",
       "    </tr>\n",
       "    <tr>\n",
       "      <th>3</th>\n",
       "      <td>11000</td>\n",
       "      <td>488</td>\n",
       "      <td>1</td>\n",
       "      <td>1</td>\n",
       "    </tr>\n",
       "    <tr>\n",
       "      <th>4</th>\n",
       "      <td>11000</td>\n",
       "      <td>530</td>\n",
       "      <td>1</td>\n",
       "      <td>1</td>\n",
       "    </tr>\n",
       "    <tr>\n",
       "      <th>5</th>\n",
       "      <td>11000</td>\n",
       "      <td>541</td>\n",
       "      <td>1</td>\n",
       "      <td>1</td>\n",
       "    </tr>\n",
       "    <tr>\n",
       "      <th>6</th>\n",
       "      <td>11000</td>\n",
       "      <td>573</td>\n",
       "      <td>1</td>\n",
       "      <td>1</td>\n",
       "    </tr>\n",
       "    <tr>\n",
       "      <th>7</th>\n",
       "      <td>11000</td>\n",
       "      <td>214</td>\n",
       "      <td>1</td>\n",
       "      <td>1</td>\n",
       "    </tr>\n",
       "    <tr>\n",
       "      <th>8</th>\n",
       "      <td>11001</td>\n",
       "      <td>217</td>\n",
       "      <td>1</td>\n",
       "      <td>1</td>\n",
       "    </tr>\n",
       "    <tr>\n",
       "      <th>9</th>\n",
       "      <td>11001</td>\n",
       "      <td>350</td>\n",
       "      <td>1</td>\n",
       "      <td>1</td>\n",
       "    </tr>\n",
       "    <tr>\n",
       "      <th>10</th>\n",
       "      <td>11001</td>\n",
       "      <td>353</td>\n",
       "      <td>1</td>\n",
       "      <td>1</td>\n",
       "    </tr>\n",
       "    <tr>\n",
       "      <th>11</th>\n",
       "      <td>11001</td>\n",
       "      <td>478</td>\n",
       "      <td>1</td>\n",
       "      <td>1</td>\n",
       "    </tr>\n",
       "    <tr>\n",
       "      <th>12</th>\n",
       "      <td>11001</td>\n",
       "      <td>485</td>\n",
       "      <td>1</td>\n",
       "      <td>1</td>\n",
       "    </tr>\n",
       "    <tr>\n",
       "      <th>13</th>\n",
       "      <td>11001</td>\n",
       "      <td>491</td>\n",
       "      <td>1</td>\n",
       "      <td>1</td>\n",
       "    </tr>\n",
       "    <tr>\n",
       "      <th>14</th>\n",
       "      <td>11001</td>\n",
       "      <td>604</td>\n",
       "      <td>1</td>\n",
       "      <td>1</td>\n",
       "    </tr>\n",
       "    <tr>\n",
       "      <th>15</th>\n",
       "      <td>11001</td>\n",
       "      <td>477</td>\n",
       "      <td>2</td>\n",
       "      <td>1</td>\n",
       "    </tr>\n",
       "    <tr>\n",
       "      <th>16</th>\n",
       "      <td>11001</td>\n",
       "      <td>225</td>\n",
       "      <td>1</td>\n",
       "      <td>1</td>\n",
       "    </tr>\n",
       "    <tr>\n",
       "      <th>17</th>\n",
       "      <td>11001</td>\n",
       "      <td>479</td>\n",
       "      <td>1</td>\n",
       "      <td>1</td>\n",
       "    </tr>\n",
       "    <tr>\n",
       "      <th>18</th>\n",
       "      <td>11002</td>\n",
       "      <td>222</td>\n",
       "      <td>1</td>\n",
       "      <td>1</td>\n",
       "    </tr>\n",
       "    <tr>\n",
       "      <th>19</th>\n",
       "      <td>11002</td>\n",
       "      <td>359</td>\n",
       "      <td>1</td>\n",
       "      <td>1</td>\n",
       "    </tr>\n",
       "    <tr>\n",
       "      <th>20</th>\n",
       "      <td>11002</td>\n",
       "      <td>346</td>\n",
       "      <td>1</td>\n",
       "      <td>1</td>\n",
       "    </tr>\n",
       "    <tr>\n",
       "      <th>21</th>\n",
       "      <td>11002</td>\n",
       "      <td>561</td>\n",
       "      <td>1</td>\n",
       "      <td>1</td>\n",
       "    </tr>\n",
       "    <tr>\n",
       "      <th>22</th>\n",
       "      <td>11003</td>\n",
       "      <td>477</td>\n",
       "      <td>1</td>\n",
       "      <td>1</td>\n",
       "    </tr>\n",
       "    <tr>\n",
       "      <th>23</th>\n",
       "      <td>11003</td>\n",
       "      <td>480</td>\n",
       "      <td>1</td>\n",
       "      <td>1</td>\n",
       "    </tr>\n",
       "    <tr>\n",
       "      <th>24</th>\n",
       "      <td>11003</td>\n",
       "      <td>564</td>\n",
       "      <td>1</td>\n",
       "      <td>1</td>\n",
       "    </tr>\n",
       "    <tr>\n",
       "      <th>25</th>\n",
       "      <td>11003</td>\n",
       "      <td>346</td>\n",
       "      <td>1</td>\n",
       "      <td>1</td>\n",
       "    </tr>\n",
       "    <tr>\n",
       "      <th>26</th>\n",
       "      <td>11003</td>\n",
       "      <td>478</td>\n",
       "      <td>1</td>\n",
       "      <td>1</td>\n",
       "    </tr>\n",
       "    <tr>\n",
       "      <th>27</th>\n",
       "      <td>11003</td>\n",
       "      <td>361</td>\n",
       "      <td>1</td>\n",
       "      <td>1</td>\n",
       "    </tr>\n",
       "    <tr>\n",
       "      <th>28</th>\n",
       "      <td>11003</td>\n",
       "      <td>541</td>\n",
       "      <td>1</td>\n",
       "      <td>1</td>\n",
       "    </tr>\n",
       "    <tr>\n",
       "      <th>29</th>\n",
       "      <td>11003</td>\n",
       "      <td>225</td>\n",
       "      <td>1</td>\n",
       "      <td>1</td>\n",
       "    </tr>\n",
       "    <tr>\n",
       "      <th>...</th>\n",
       "      <td>...</td>\n",
       "      <td>...</td>\n",
       "      <td>...</td>\n",
       "      <td>...</td>\n",
       "    </tr>\n",
       "    <tr>\n",
       "      <th>59021</th>\n",
       "      <td>29469</td>\n",
       "      <td>482</td>\n",
       "      <td>1</td>\n",
       "      <td>1</td>\n",
       "    </tr>\n",
       "    <tr>\n",
       "      <th>59022</th>\n",
       "      <td>29469</td>\n",
       "      <td>575</td>\n",
       "      <td>1</td>\n",
       "      <td>1</td>\n",
       "    </tr>\n",
       "    <tr>\n",
       "      <th>59023</th>\n",
       "      <td>29470</td>\n",
       "      <td>529</td>\n",
       "      <td>1</td>\n",
       "      <td>1</td>\n",
       "    </tr>\n",
       "    <tr>\n",
       "      <th>59024</th>\n",
       "      <td>29470</td>\n",
       "      <td>538</td>\n",
       "      <td>1</td>\n",
       "      <td>1</td>\n",
       "    </tr>\n",
       "    <tr>\n",
       "      <th>59025</th>\n",
       "      <td>29470</td>\n",
       "      <td>222</td>\n",
       "      <td>1</td>\n",
       "      <td>1</td>\n",
       "    </tr>\n",
       "    <tr>\n",
       "      <th>59026</th>\n",
       "      <td>29471</td>\n",
       "      <td>480</td>\n",
       "      <td>1</td>\n",
       "      <td>1</td>\n",
       "    </tr>\n",
       "    <tr>\n",
       "      <th>59027</th>\n",
       "      <td>29471</td>\n",
       "      <td>538</td>\n",
       "      <td>1</td>\n",
       "      <td>1</td>\n",
       "    </tr>\n",
       "    <tr>\n",
       "      <th>59028</th>\n",
       "      <td>29472</td>\n",
       "      <td>538</td>\n",
       "      <td>1</td>\n",
       "      <td>1</td>\n",
       "    </tr>\n",
       "    <tr>\n",
       "      <th>59029</th>\n",
       "      <td>29472</td>\n",
       "      <td>471</td>\n",
       "      <td>1</td>\n",
       "      <td>1</td>\n",
       "    </tr>\n",
       "    <tr>\n",
       "      <th>59030</th>\n",
       "      <td>29472</td>\n",
       "      <td>529</td>\n",
       "      <td>1</td>\n",
       "      <td>1</td>\n",
       "    </tr>\n",
       "    <tr>\n",
       "      <th>59031</th>\n",
       "      <td>29473</td>\n",
       "      <td>214</td>\n",
       "      <td>1</td>\n",
       "      <td>1</td>\n",
       "    </tr>\n",
       "    <tr>\n",
       "      <th>59032</th>\n",
       "      <td>29473</td>\n",
       "      <td>574</td>\n",
       "      <td>1</td>\n",
       "      <td>1</td>\n",
       "    </tr>\n",
       "    <tr>\n",
       "      <th>59033</th>\n",
       "      <td>29474</td>\n",
       "      <td>349</td>\n",
       "      <td>1</td>\n",
       "      <td>1</td>\n",
       "    </tr>\n",
       "    <tr>\n",
       "      <th>59034</th>\n",
       "      <td>29475</td>\n",
       "      <td>344</td>\n",
       "      <td>1</td>\n",
       "      <td>1</td>\n",
       "    </tr>\n",
       "    <tr>\n",
       "      <th>59035</th>\n",
       "      <td>29476</td>\n",
       "      <td>346</td>\n",
       "      <td>1</td>\n",
       "      <td>1</td>\n",
       "    </tr>\n",
       "    <tr>\n",
       "      <th>59036</th>\n",
       "      <td>29477</td>\n",
       "      <td>575</td>\n",
       "      <td>1</td>\n",
       "      <td>1</td>\n",
       "    </tr>\n",
       "    <tr>\n",
       "      <th>59037</th>\n",
       "      <td>29477</td>\n",
       "      <td>222</td>\n",
       "      <td>1</td>\n",
       "      <td>1</td>\n",
       "    </tr>\n",
       "    <tr>\n",
       "      <th>59038</th>\n",
       "      <td>29477</td>\n",
       "      <td>225</td>\n",
       "      <td>1</td>\n",
       "      <td>1</td>\n",
       "    </tr>\n",
       "    <tr>\n",
       "      <th>59039</th>\n",
       "      <td>29478</td>\n",
       "      <td>479</td>\n",
       "      <td>1</td>\n",
       "      <td>1</td>\n",
       "    </tr>\n",
       "    <tr>\n",
       "      <th>59040</th>\n",
       "      <td>29478</td>\n",
       "      <td>575</td>\n",
       "      <td>1</td>\n",
       "      <td>1</td>\n",
       "    </tr>\n",
       "    <tr>\n",
       "      <th>59041</th>\n",
       "      <td>29478</td>\n",
       "      <td>477</td>\n",
       "      <td>1</td>\n",
       "      <td>1</td>\n",
       "    </tr>\n",
       "    <tr>\n",
       "      <th>59042</th>\n",
       "      <td>29479</td>\n",
       "      <td>358</td>\n",
       "      <td>1</td>\n",
       "      <td>1</td>\n",
       "    </tr>\n",
       "    <tr>\n",
       "      <th>59043</th>\n",
       "      <td>29480</td>\n",
       "      <td>217</td>\n",
       "      <td>1</td>\n",
       "      <td>1</td>\n",
       "    </tr>\n",
       "    <tr>\n",
       "      <th>59044</th>\n",
       "      <td>29480</td>\n",
       "      <td>477</td>\n",
       "      <td>1</td>\n",
       "      <td>1</td>\n",
       "    </tr>\n",
       "    <tr>\n",
       "      <th>59045</th>\n",
       "      <td>29480</td>\n",
       "      <td>479</td>\n",
       "      <td>1</td>\n",
       "      <td>1</td>\n",
       "    </tr>\n",
       "    <tr>\n",
       "      <th>59046</th>\n",
       "      <td>29480</td>\n",
       "      <td>225</td>\n",
       "      <td>1</td>\n",
       "      <td>1</td>\n",
       "    </tr>\n",
       "    <tr>\n",
       "      <th>59047</th>\n",
       "      <td>29480</td>\n",
       "      <td>562</td>\n",
       "      <td>1</td>\n",
       "      <td>1</td>\n",
       "    </tr>\n",
       "    <tr>\n",
       "      <th>59048</th>\n",
       "      <td>29481</td>\n",
       "      <td>349</td>\n",
       "      <td>1</td>\n",
       "      <td>1</td>\n",
       "    </tr>\n",
       "    <tr>\n",
       "      <th>59049</th>\n",
       "      <td>29482</td>\n",
       "      <td>358</td>\n",
       "      <td>1</td>\n",
       "      <td>1</td>\n",
       "    </tr>\n",
       "    <tr>\n",
       "      <th>59050</th>\n",
       "      <td>29483</td>\n",
       "      <td>360</td>\n",
       "      <td>1</td>\n",
       "      <td>1</td>\n",
       "    </tr>\n",
       "  </tbody>\n",
       "</table>\n",
       "<p>59051 rows × 4 columns</p>\n",
       "</div>"
      ],
      "text/plain": [
       "       customerid  productid  purchase_count  purchase_dummy\n",
       "0           11000        344               1               1\n",
       "1           11000        353               1               1\n",
       "2           11000        485               1               1\n",
       "3           11000        488               1               1\n",
       "4           11000        530               1               1\n",
       "5           11000        541               1               1\n",
       "6           11000        573               1               1\n",
       "7           11000        214               1               1\n",
       "8           11001        217               1               1\n",
       "9           11001        350               1               1\n",
       "10          11001        353               1               1\n",
       "11          11001        478               1               1\n",
       "12          11001        485               1               1\n",
       "13          11001        491               1               1\n",
       "14          11001        604               1               1\n",
       "15          11001        477               2               1\n",
       "16          11001        225               1               1\n",
       "17          11001        479               1               1\n",
       "18          11002        222               1               1\n",
       "19          11002        359               1               1\n",
       "20          11002        346               1               1\n",
       "21          11002        561               1               1\n",
       "22          11003        477               1               1\n",
       "23          11003        480               1               1\n",
       "24          11003        564               1               1\n",
       "25          11003        346               1               1\n",
       "26          11003        478               1               1\n",
       "27          11003        361               1               1\n",
       "28          11003        541               1               1\n",
       "29          11003        225               1               1\n",
       "...           ...        ...             ...             ...\n",
       "59021       29469        482               1               1\n",
       "59022       29469        575               1               1\n",
       "59023       29470        529               1               1\n",
       "59024       29470        538               1               1\n",
       "59025       29470        222               1               1\n",
       "59026       29471        480               1               1\n",
       "59027       29471        538               1               1\n",
       "59028       29472        538               1               1\n",
       "59029       29472        471               1               1\n",
       "59030       29472        529               1               1\n",
       "59031       29473        214               1               1\n",
       "59032       29473        574               1               1\n",
       "59033       29474        349               1               1\n",
       "59034       29475        344               1               1\n",
       "59035       29476        346               1               1\n",
       "59036       29477        575               1               1\n",
       "59037       29477        222               1               1\n",
       "59038       29477        225               1               1\n",
       "59039       29478        479               1               1\n",
       "59040       29478        575               1               1\n",
       "59041       29478        477               1               1\n",
       "59042       29479        358               1               1\n",
       "59043       29480        217               1               1\n",
       "59044       29480        477               1               1\n",
       "59045       29480        479               1               1\n",
       "59046       29480        225               1               1\n",
       "59047       29480        562               1               1\n",
       "59048       29481        349               1               1\n",
       "59049       29482        358               1               1\n",
       "59050       29483        360               1               1\n",
       "\n",
       "[59051 rows x 4 columns]"
      ]
     },
     "execution_count": 7,
     "metadata": {},
     "output_type": "execute_result"
    }
   ],
   "source": [
    "data_dummy"
   ]
  },
  {
   "cell_type": "markdown",
   "metadata": {},
   "source": [
    "# Normalise item values across users"
   ]
  },
  {
   "cell_type": "code",
   "execution_count": 8,
   "metadata": {},
   "outputs": [],
   "source": [
    "\n",
    "df_matrix = pd.pivot_table(data, values='purchase_count', index ='customerid', columns='productid')"
   ]
  },
  {
   "cell_type": "code",
   "execution_count": null,
   "metadata": {},
   "outputs": [],
   "source": []
  },
  {
   "cell_type": "code",
   "execution_count": 9,
   "metadata": {},
   "outputs": [],
   "source": [
    "df_matrix_norm = (df_matrix-df_matrix.min())/(df_matrix.max()-df_matrix.min())"
   ]
  },
  {
   "cell_type": "markdown",
   "metadata": {},
   "source": [
    "# create a table for input to the modeling"
   ]
  },
  {
   "cell_type": "code",
   "execution_count": 10,
   "metadata": {},
   "outputs": [
    {
     "name": "stdout",
     "output_type": "stream",
     "text": [
      "(40031, 3)\n"
     ]
    },
    {
     "data": {
      "text/html": [
       "<div>\n",
       "<style scoped>\n",
       "    .dataframe tbody tr th:only-of-type {\n",
       "        vertical-align: middle;\n",
       "    }\n",
       "\n",
       "    .dataframe tbody tr th {\n",
       "        vertical-align: top;\n",
       "    }\n",
       "\n",
       "    .dataframe thead th {\n",
       "        text-align: right;\n",
       "    }\n",
       "</style>\n",
       "<table border=\"1\" class=\"dataframe\">\n",
       "  <thead>\n",
       "    <tr style=\"text-align: right;\">\n",
       "      <th></th>\n",
       "      <th>customerid</th>\n",
       "      <th>productid</th>\n",
       "      <th>scaled_purchase_freq</th>\n",
       "    </tr>\n",
       "  </thead>\n",
       "  <tbody>\n",
       "    <tr>\n",
       "      <th>0</th>\n",
       "      <td>11000</td>\n",
       "      <td>214</td>\n",
       "      <td>0.0</td>\n",
       "    </tr>\n",
       "    <tr>\n",
       "      <th>4</th>\n",
       "      <td>11004</td>\n",
       "      <td>214</td>\n",
       "      <td>0.0</td>\n",
       "    </tr>\n",
       "    <tr>\n",
       "      <th>7</th>\n",
       "      <td>11007</td>\n",
       "      <td>214</td>\n",
       "      <td>0.0</td>\n",
       "    </tr>\n",
       "    <tr>\n",
       "      <th>8</th>\n",
       "      <td>11008</td>\n",
       "      <td>214</td>\n",
       "      <td>0.0</td>\n",
       "    </tr>\n",
       "    <tr>\n",
       "      <th>19</th>\n",
       "      <td>11019</td>\n",
       "      <td>214</td>\n",
       "      <td>0.0</td>\n",
       "    </tr>\n",
       "  </tbody>\n",
       "</table>\n",
       "</div>"
      ],
      "text/plain": [
       "    customerid productid  scaled_purchase_freq\n",
       "0        11000       214                   0.0\n",
       "4        11004       214                   0.0\n",
       "7        11007       214                   0.0\n",
       "8        11008       214                   0.0\n",
       "19       11019       214                   0.0"
      ]
     },
     "execution_count": 10,
     "metadata": {},
     "output_type": "execute_result"
    }
   ],
   "source": [
    "\n",
    "d = df_matrix_norm.reset_index()\n",
    "d.index.names = ['scaled_purchased-freq']\n",
    "data_norm = pd.melt(d,id_vars=['customerid'],\n",
    "value_name ='scaled_purchase_freq').dropna()\n",
    "\n",
    "print(data_norm.shape)\n",
    "data_norm.head()"
   ]
  },
  {
   "cell_type": "markdown",
   "metadata": {},
   "source": [
    "# Split data into training and testing set"
   ]
  },
  {
   "cell_type": "code",
   "execution_count": 11,
   "metadata": {},
   "outputs": [],
   "source": [
    "def split_data(data):\n",
    "    '''\n",
    "    Splits dataset into training and test set.\n",
    "    \n",
    "    Args:\n",
    "        data (pandas.DataFrame)\n",
    "        \n",
    "    Returns\n",
    "        train_data (tc.SFrame)\n",
    "        test_data (tc.SFrame)\n",
    "    '''\n",
    "    train, test = train_test_split(data, test_size = .2)\n",
    "    train_data = tc.SFrame(train)\n",
    "    test_data = tc.SFrame(test)\n",
    "    return train_data, test_data"
   ]
  },
  {
   "cell_type": "code",
   "execution_count": 12,
   "metadata": {},
   "outputs": [
    {
     "data": {
      "text/html": [
       "<div>\n",
       "<style scoped>\n",
       "    .dataframe tbody tr th:only-of-type {\n",
       "        vertical-align: middle;\n",
       "    }\n",
       "\n",
       "    .dataframe tbody tr th {\n",
       "        vertical-align: top;\n",
       "    }\n",
       "\n",
       "    .dataframe thead th {\n",
       "        text-align: right;\n",
       "    }\n",
       "</style>\n",
       "<table border=\"1\" class=\"dataframe\">\n",
       "  <thead>\n",
       "    <tr style=\"text-align: right;\">\n",
       "      <th></th>\n",
       "      <th>customerid</th>\n",
       "      <th>productid</th>\n",
       "      <th>purchase_count</th>\n",
       "    </tr>\n",
       "  </thead>\n",
       "  <tbody>\n",
       "    <tr>\n",
       "      <th>0</th>\n",
       "      <td>11000</td>\n",
       "      <td>344</td>\n",
       "      <td>1</td>\n",
       "    </tr>\n",
       "    <tr>\n",
       "      <th>1</th>\n",
       "      <td>11000</td>\n",
       "      <td>353</td>\n",
       "      <td>1</td>\n",
       "    </tr>\n",
       "    <tr>\n",
       "      <th>2</th>\n",
       "      <td>11000</td>\n",
       "      <td>485</td>\n",
       "      <td>1</td>\n",
       "    </tr>\n",
       "    <tr>\n",
       "      <th>3</th>\n",
       "      <td>11000</td>\n",
       "      <td>488</td>\n",
       "      <td>1</td>\n",
       "    </tr>\n",
       "    <tr>\n",
       "      <th>4</th>\n",
       "      <td>11000</td>\n",
       "      <td>530</td>\n",
       "      <td>1</td>\n",
       "    </tr>\n",
       "    <tr>\n",
       "      <th>5</th>\n",
       "      <td>11000</td>\n",
       "      <td>541</td>\n",
       "      <td>1</td>\n",
       "    </tr>\n",
       "    <tr>\n",
       "      <th>6</th>\n",
       "      <td>11000</td>\n",
       "      <td>573</td>\n",
       "      <td>1</td>\n",
       "    </tr>\n",
       "    <tr>\n",
       "      <th>7</th>\n",
       "      <td>11000</td>\n",
       "      <td>214</td>\n",
       "      <td>1</td>\n",
       "    </tr>\n",
       "    <tr>\n",
       "      <th>8</th>\n",
       "      <td>11001</td>\n",
       "      <td>217</td>\n",
       "      <td>1</td>\n",
       "    </tr>\n",
       "    <tr>\n",
       "      <th>9</th>\n",
       "      <td>11001</td>\n",
       "      <td>350</td>\n",
       "      <td>1</td>\n",
       "    </tr>\n",
       "    <tr>\n",
       "      <th>10</th>\n",
       "      <td>11001</td>\n",
       "      <td>353</td>\n",
       "      <td>1</td>\n",
       "    </tr>\n",
       "    <tr>\n",
       "      <th>11</th>\n",
       "      <td>11001</td>\n",
       "      <td>478</td>\n",
       "      <td>1</td>\n",
       "    </tr>\n",
       "    <tr>\n",
       "      <th>12</th>\n",
       "      <td>11001</td>\n",
       "      <td>485</td>\n",
       "      <td>1</td>\n",
       "    </tr>\n",
       "    <tr>\n",
       "      <th>13</th>\n",
       "      <td>11001</td>\n",
       "      <td>491</td>\n",
       "      <td>1</td>\n",
       "    </tr>\n",
       "    <tr>\n",
       "      <th>14</th>\n",
       "      <td>11001</td>\n",
       "      <td>604</td>\n",
       "      <td>1</td>\n",
       "    </tr>\n",
       "    <tr>\n",
       "      <th>15</th>\n",
       "      <td>11001</td>\n",
       "      <td>477</td>\n",
       "      <td>2</td>\n",
       "    </tr>\n",
       "    <tr>\n",
       "      <th>16</th>\n",
       "      <td>11001</td>\n",
       "      <td>225</td>\n",
       "      <td>1</td>\n",
       "    </tr>\n",
       "    <tr>\n",
       "      <th>17</th>\n",
       "      <td>11001</td>\n",
       "      <td>479</td>\n",
       "      <td>1</td>\n",
       "    </tr>\n",
       "    <tr>\n",
       "      <th>18</th>\n",
       "      <td>11002</td>\n",
       "      <td>222</td>\n",
       "      <td>1</td>\n",
       "    </tr>\n",
       "    <tr>\n",
       "      <th>19</th>\n",
       "      <td>11002</td>\n",
       "      <td>359</td>\n",
       "      <td>1</td>\n",
       "    </tr>\n",
       "    <tr>\n",
       "      <th>20</th>\n",
       "      <td>11002</td>\n",
       "      <td>346</td>\n",
       "      <td>1</td>\n",
       "    </tr>\n",
       "    <tr>\n",
       "      <th>21</th>\n",
       "      <td>11002</td>\n",
       "      <td>561</td>\n",
       "      <td>1</td>\n",
       "    </tr>\n",
       "    <tr>\n",
       "      <th>22</th>\n",
       "      <td>11003</td>\n",
       "      <td>477</td>\n",
       "      <td>1</td>\n",
       "    </tr>\n",
       "    <tr>\n",
       "      <th>23</th>\n",
       "      <td>11003</td>\n",
       "      <td>480</td>\n",
       "      <td>1</td>\n",
       "    </tr>\n",
       "    <tr>\n",
       "      <th>24</th>\n",
       "      <td>11003</td>\n",
       "      <td>564</td>\n",
       "      <td>1</td>\n",
       "    </tr>\n",
       "    <tr>\n",
       "      <th>25</th>\n",
       "      <td>11003</td>\n",
       "      <td>346</td>\n",
       "      <td>1</td>\n",
       "    </tr>\n",
       "    <tr>\n",
       "      <th>26</th>\n",
       "      <td>11003</td>\n",
       "      <td>478</td>\n",
       "      <td>1</td>\n",
       "    </tr>\n",
       "    <tr>\n",
       "      <th>27</th>\n",
       "      <td>11003</td>\n",
       "      <td>361</td>\n",
       "      <td>1</td>\n",
       "    </tr>\n",
       "    <tr>\n",
       "      <th>28</th>\n",
       "      <td>11003</td>\n",
       "      <td>541</td>\n",
       "      <td>1</td>\n",
       "    </tr>\n",
       "    <tr>\n",
       "      <th>29</th>\n",
       "      <td>11003</td>\n",
       "      <td>225</td>\n",
       "      <td>1</td>\n",
       "    </tr>\n",
       "    <tr>\n",
       "      <th>...</th>\n",
       "      <td>...</td>\n",
       "      <td>...</td>\n",
       "      <td>...</td>\n",
       "    </tr>\n",
       "    <tr>\n",
       "      <th>59021</th>\n",
       "      <td>29469</td>\n",
       "      <td>482</td>\n",
       "      <td>1</td>\n",
       "    </tr>\n",
       "    <tr>\n",
       "      <th>59022</th>\n",
       "      <td>29469</td>\n",
       "      <td>575</td>\n",
       "      <td>1</td>\n",
       "    </tr>\n",
       "    <tr>\n",
       "      <th>59023</th>\n",
       "      <td>29470</td>\n",
       "      <td>529</td>\n",
       "      <td>1</td>\n",
       "    </tr>\n",
       "    <tr>\n",
       "      <th>59024</th>\n",
       "      <td>29470</td>\n",
       "      <td>538</td>\n",
       "      <td>1</td>\n",
       "    </tr>\n",
       "    <tr>\n",
       "      <th>59025</th>\n",
       "      <td>29470</td>\n",
       "      <td>222</td>\n",
       "      <td>1</td>\n",
       "    </tr>\n",
       "    <tr>\n",
       "      <th>59026</th>\n",
       "      <td>29471</td>\n",
       "      <td>480</td>\n",
       "      <td>1</td>\n",
       "    </tr>\n",
       "    <tr>\n",
       "      <th>59027</th>\n",
       "      <td>29471</td>\n",
       "      <td>538</td>\n",
       "      <td>1</td>\n",
       "    </tr>\n",
       "    <tr>\n",
       "      <th>59028</th>\n",
       "      <td>29472</td>\n",
       "      <td>538</td>\n",
       "      <td>1</td>\n",
       "    </tr>\n",
       "    <tr>\n",
       "      <th>59029</th>\n",
       "      <td>29472</td>\n",
       "      <td>471</td>\n",
       "      <td>1</td>\n",
       "    </tr>\n",
       "    <tr>\n",
       "      <th>59030</th>\n",
       "      <td>29472</td>\n",
       "      <td>529</td>\n",
       "      <td>1</td>\n",
       "    </tr>\n",
       "    <tr>\n",
       "      <th>59031</th>\n",
       "      <td>29473</td>\n",
       "      <td>214</td>\n",
       "      <td>1</td>\n",
       "    </tr>\n",
       "    <tr>\n",
       "      <th>59032</th>\n",
       "      <td>29473</td>\n",
       "      <td>574</td>\n",
       "      <td>1</td>\n",
       "    </tr>\n",
       "    <tr>\n",
       "      <th>59033</th>\n",
       "      <td>29474</td>\n",
       "      <td>349</td>\n",
       "      <td>1</td>\n",
       "    </tr>\n",
       "    <tr>\n",
       "      <th>59034</th>\n",
       "      <td>29475</td>\n",
       "      <td>344</td>\n",
       "      <td>1</td>\n",
       "    </tr>\n",
       "    <tr>\n",
       "      <th>59035</th>\n",
       "      <td>29476</td>\n",
       "      <td>346</td>\n",
       "      <td>1</td>\n",
       "    </tr>\n",
       "    <tr>\n",
       "      <th>59036</th>\n",
       "      <td>29477</td>\n",
       "      <td>575</td>\n",
       "      <td>1</td>\n",
       "    </tr>\n",
       "    <tr>\n",
       "      <th>59037</th>\n",
       "      <td>29477</td>\n",
       "      <td>222</td>\n",
       "      <td>1</td>\n",
       "    </tr>\n",
       "    <tr>\n",
       "      <th>59038</th>\n",
       "      <td>29477</td>\n",
       "      <td>225</td>\n",
       "      <td>1</td>\n",
       "    </tr>\n",
       "    <tr>\n",
       "      <th>59039</th>\n",
       "      <td>29478</td>\n",
       "      <td>479</td>\n",
       "      <td>1</td>\n",
       "    </tr>\n",
       "    <tr>\n",
       "      <th>59040</th>\n",
       "      <td>29478</td>\n",
       "      <td>575</td>\n",
       "      <td>1</td>\n",
       "    </tr>\n",
       "    <tr>\n",
       "      <th>59041</th>\n",
       "      <td>29478</td>\n",
       "      <td>477</td>\n",
       "      <td>1</td>\n",
       "    </tr>\n",
       "    <tr>\n",
       "      <th>59042</th>\n",
       "      <td>29479</td>\n",
       "      <td>358</td>\n",
       "      <td>1</td>\n",
       "    </tr>\n",
       "    <tr>\n",
       "      <th>59043</th>\n",
       "      <td>29480</td>\n",
       "      <td>217</td>\n",
       "      <td>1</td>\n",
       "    </tr>\n",
       "    <tr>\n",
       "      <th>59044</th>\n",
       "      <td>29480</td>\n",
       "      <td>477</td>\n",
       "      <td>1</td>\n",
       "    </tr>\n",
       "    <tr>\n",
       "      <th>59045</th>\n",
       "      <td>29480</td>\n",
       "      <td>479</td>\n",
       "      <td>1</td>\n",
       "    </tr>\n",
       "    <tr>\n",
       "      <th>59046</th>\n",
       "      <td>29480</td>\n",
       "      <td>225</td>\n",
       "      <td>1</td>\n",
       "    </tr>\n",
       "    <tr>\n",
       "      <th>59047</th>\n",
       "      <td>29480</td>\n",
       "      <td>562</td>\n",
       "      <td>1</td>\n",
       "    </tr>\n",
       "    <tr>\n",
       "      <th>59048</th>\n",
       "      <td>29481</td>\n",
       "      <td>349</td>\n",
       "      <td>1</td>\n",
       "    </tr>\n",
       "    <tr>\n",
       "      <th>59049</th>\n",
       "      <td>29482</td>\n",
       "      <td>358</td>\n",
       "      <td>1</td>\n",
       "    </tr>\n",
       "    <tr>\n",
       "      <th>59050</th>\n",
       "      <td>29483</td>\n",
       "      <td>360</td>\n",
       "      <td>1</td>\n",
       "    </tr>\n",
       "  </tbody>\n",
       "</table>\n",
       "<p>59051 rows × 3 columns</p>\n",
       "</div>"
      ],
      "text/plain": [
       "       customerid  productid  purchase_count\n",
       "0           11000        344               1\n",
       "1           11000        353               1\n",
       "2           11000        485               1\n",
       "3           11000        488               1\n",
       "4           11000        530               1\n",
       "5           11000        541               1\n",
       "6           11000        573               1\n",
       "7           11000        214               1\n",
       "8           11001        217               1\n",
       "9           11001        350               1\n",
       "10          11001        353               1\n",
       "11          11001        478               1\n",
       "12          11001        485               1\n",
       "13          11001        491               1\n",
       "14          11001        604               1\n",
       "15          11001        477               2\n",
       "16          11001        225               1\n",
       "17          11001        479               1\n",
       "18          11002        222               1\n",
       "19          11002        359               1\n",
       "20          11002        346               1\n",
       "21          11002        561               1\n",
       "22          11003        477               1\n",
       "23          11003        480               1\n",
       "24          11003        564               1\n",
       "25          11003        346               1\n",
       "26          11003        478               1\n",
       "27          11003        361               1\n",
       "28          11003        541               1\n",
       "29          11003        225               1\n",
       "...           ...        ...             ...\n",
       "59021       29469        482               1\n",
       "59022       29469        575               1\n",
       "59023       29470        529               1\n",
       "59024       29470        538               1\n",
       "59025       29470        222               1\n",
       "59026       29471        480               1\n",
       "59027       29471        538               1\n",
       "59028       29472        538               1\n",
       "59029       29472        471               1\n",
       "59030       29472        529               1\n",
       "59031       29473        214               1\n",
       "59032       29473        574               1\n",
       "59033       29474        349               1\n",
       "59034       29475        344               1\n",
       "59035       29476        346               1\n",
       "59036       29477        575               1\n",
       "59037       29477        222               1\n",
       "59038       29477        225               1\n",
       "59039       29478        479               1\n",
       "59040       29478        575               1\n",
       "59041       29478        477               1\n",
       "59042       29479        358               1\n",
       "59043       29480        217               1\n",
       "59044       29480        477               1\n",
       "59045       29480        479               1\n",
       "59046       29480        225               1\n",
       "59047       29480        562               1\n",
       "59048       29481        349               1\n",
       "59049       29482        358               1\n",
       "59050       29483        360               1\n",
       "\n",
       "[59051 rows x 3 columns]"
      ]
     },
     "execution_count": 12,
     "metadata": {},
     "output_type": "execute_result"
    }
   ],
   "source": [
    "data"
   ]
  },
  {
   "cell_type": "code",
   "execution_count": 13,
   "metadata": {},
   "outputs": [],
   "source": [
    "train_data, test_data = split_data(data)\n",
    "train_data_dummy, test_data_dummy = split_data(data_dummy)\n",
    "train_data_norm, test_data_norm = split_data(data_norm)"
   ]
  },
  {
   "cell_type": "code",
   "execution_count": null,
   "metadata": {},
   "outputs": [],
   "source": []
  },
  {
   "cell_type": "code",
   "execution_count": 14,
   "metadata": {},
   "outputs": [],
   "source": [
    "# constant variables to define field names include:\n",
    "user_id = 'customerid'\n",
    "item_id = 'productid'\n",
    "users_to_recommend = list(customers[user_id])\n",
    "n_rec = 10 # number of items to recommend\n",
    "n_display = 30 # to display the first few rows in an output dataset"
   ]
  },
  {
   "cell_type": "markdown",
   "metadata": {},
   "source": [
    "# training data using 3 different algorithms"
   ]
  },
  {
   "cell_type": "code",
   "execution_count": 15,
   "metadata": {},
   "outputs": [],
   "source": [
    "def model(train_data, name, user_id, item_id, target, users_to_recommend, n_rec, n_display):\n",
    "    if name == 'popularity':\n",
    "        model = tc.popularity_recommender.create(train_data, \n",
    "                                                    user_id=user_id, \n",
    "                                                    item_id=item_id, \n",
    "                                                    target=target)\n",
    "    elif name == 'cosine':\n",
    "        model = tc.item_similarity_recommender.create(train_data, \n",
    "                                                    user_id=user_id, \n",
    "                                                    item_id=item_id, \n",
    "                                                    target=target, \n",
    "                                                    similarity_type='cosine')\n",
    "    elif name == 'pearson':\n",
    "        model = tc.item_similarity_recommender.create(train_data, \n",
    "                                                        user_id=user_id, \n",
    "                                                        item_id=item_id, \n",
    "                                                        target=target, \n",
    "                                                        similarity_type='pearson')\n",
    "\n",
    "    recom = model.recommend(users=users_to_recommend, k=n_rec)\n",
    "    recom.print_rows(n_display)\n",
    "    return model"
   ]
  },
  {
   "cell_type": "markdown",
   "metadata": {},
   "source": [
    "# training data in each target using popularity algorithm"
   ]
  },
  {
   "cell_type": "code",
   "execution_count": 16,
   "metadata": {},
   "outputs": [
    {
     "data": {
      "text/html": [
       "<pre>Preparing data set.</pre>"
      ],
      "text/plain": [
       "Preparing data set."
      ]
     },
     "metadata": {},
     "output_type": "display_data"
    },
    {
     "data": {
      "text/html": [
       "<pre>    Data has 47240 observations with 17741 users and 158 items.</pre>"
      ],
      "text/plain": [
       "    Data has 47240 observations with 17741 users and 158 items."
      ]
     },
     "metadata": {},
     "output_type": "display_data"
    },
    {
     "data": {
      "text/html": [
       "<pre>    Data prepared in: 0.0748s</pre>"
      ],
      "text/plain": [
       "    Data prepared in: 0.0748s"
      ]
     },
     "metadata": {},
     "output_type": "display_data"
    },
    {
     "data": {
      "text/html": [
       "<pre>47240 observations to process; with 158 unique items.</pre>"
      ],
      "text/plain": [
       "47240 observations to process; with 158 unique items."
      ]
     },
     "metadata": {},
     "output_type": "display_data"
    },
    {
     "data": {
      "text/html": [
       "<pre>recommendations finished on 1000/18484 queries. users per second: 79107.7</pre>"
      ],
      "text/plain": [
       "recommendations finished on 1000/18484 queries. users per second: 79107.7"
      ]
     },
     "metadata": {},
     "output_type": "display_data"
    },
    {
     "data": {
      "text/html": [
       "<pre>recommendations finished on 2000/18484 queries. users per second: 131484</pre>"
      ],
      "text/plain": [
       "recommendations finished on 2000/18484 queries. users per second: 131484"
      ]
     },
     "metadata": {},
     "output_type": "display_data"
    },
    {
     "data": {
      "text/html": [
       "<pre>recommendations finished on 3000/18484 queries. users per second: 154210</pre>"
      ],
      "text/plain": [
       "recommendations finished on 3000/18484 queries. users per second: 154210"
      ]
     },
     "metadata": {},
     "output_type": "display_data"
    },
    {
     "data": {
      "text/html": [
       "<pre>recommendations finished on 4000/18484 queries. users per second: 182999</pre>"
      ],
      "text/plain": [
       "recommendations finished on 4000/18484 queries. users per second: 182999"
      ]
     },
     "metadata": {},
     "output_type": "display_data"
    },
    {
     "data": {
      "text/html": [
       "<pre>recommendations finished on 5000/18484 queries. users per second: 208751</pre>"
      ],
      "text/plain": [
       "recommendations finished on 5000/18484 queries. users per second: 208751"
      ]
     },
     "metadata": {},
     "output_type": "display_data"
    },
    {
     "data": {
      "text/html": [
       "<pre>recommendations finished on 6000/18484 queries. users per second: 231241</pre>"
      ],
      "text/plain": [
       "recommendations finished on 6000/18484 queries. users per second: 231241"
      ]
     },
     "metadata": {},
     "output_type": "display_data"
    },
    {
     "data": {
      "text/html": [
       "<pre>recommendations finished on 7000/18484 queries. users per second: 234931</pre>"
      ],
      "text/plain": [
       "recommendations finished on 7000/18484 queries. users per second: 234931"
      ]
     },
     "metadata": {},
     "output_type": "display_data"
    },
    {
     "data": {
      "text/html": [
       "<pre>recommendations finished on 8000/18484 queries. users per second: 208932</pre>"
      ],
      "text/plain": [
       "recommendations finished on 8000/18484 queries. users per second: 208932"
      ]
     },
     "metadata": {},
     "output_type": "display_data"
    },
    {
     "data": {
      "text/html": [
       "<pre>recommendations finished on 9000/18484 queries. users per second: 222151</pre>"
      ],
      "text/plain": [
       "recommendations finished on 9000/18484 queries. users per second: 222151"
      ]
     },
     "metadata": {},
     "output_type": "display_data"
    },
    {
     "data": {
      "text/html": [
       "<pre>recommendations finished on 10000/18484 queries. users per second: 232126</pre>"
      ],
      "text/plain": [
       "recommendations finished on 10000/18484 queries. users per second: 232126"
      ]
     },
     "metadata": {},
     "output_type": "display_data"
    },
    {
     "name": "stdout",
     "output_type": "stream",
     "text": [
      "+------------+-----------+--------------------+------+\n",
      "| customerid | productid |       score        | rank |\n",
      "+------------+-----------+--------------------+------+\n",
      "|   11000    |    480    | 1.086067319982957  |  1   |\n",
      "|   11000    |    529    | 1.0600109110747409 |  2   |\n",
      "|   11000    |    528    | 1.046402724563644  |  3   |\n",
      "|   11000    |    539    | 1.0446927374301676 |  4   |\n",
      "|   11000    |    477    | 1.043200486766048  |  5   |\n",
      "|   11000    |    222    | 1.0374923171481254 |  6   |\n",
      "|   11000    |    484    | 1.0363372093023255 |  7   |\n",
      "|   11000    |    535    | 1.0308823529411764 |  8   |\n",
      "|   11000    |    217    | 1.0291201982651796 |  9   |\n",
      "|   11000    |    225    | 1.0267538644470868 |  10  |\n",
      "|   11001    |    480    | 1.086067319982957  |  1   |\n",
      "|   11001    |    529    | 1.0600109110747409 |  2   |\n",
      "|   11001    |    528    | 1.046402724563644  |  3   |\n",
      "|   11001    |    539    | 1.0446927374301676 |  4   |\n",
      "|   11001    |    477    | 1.043200486766048  |  5   |\n",
      "|   11001    |    530    | 1.0397175639894087 |  6   |\n",
      "|   11001    |    214    | 1.038840579710145  |  7   |\n",
      "|   11001    |    222    | 1.0374923171481254 |  8   |\n",
      "|   11001    |    484    | 1.0363372093023255 |  9   |\n",
      "|   11001    |    535    | 1.0308823529411764 |  10  |\n",
      "|   11002    |    480    | 1.086067319982957  |  1   |\n",
      "|   11002    |    529    | 1.0600109110747409 |  2   |\n",
      "|   11002    |    528    | 1.046402724563644  |  3   |\n",
      "|   11002    |    539    | 1.0446927374301676 |  4   |\n",
      "|   11002    |    477    | 1.043200486766048  |  5   |\n",
      "|   11002    |    530    | 1.0397175639894087 |  6   |\n",
      "|   11002    |    214    | 1.038840579710145  |  7   |\n",
      "|   11002    |    484    | 1.0363372093023255 |  8   |\n",
      "|   11002    |    535    | 1.0308823529411764 |  9   |\n",
      "|   11002    |    217    | 1.0291201982651796 |  10  |\n",
      "+------------+-----------+--------------------+------+\n",
      "[184840 rows x 4 columns]\n",
      "\n"
     ]
    },
    {
     "data": {
      "text/html": [
       "<pre>recommendations finished on 11000/18484 queries. users per second: 242227</pre>"
      ],
      "text/plain": [
       "recommendations finished on 11000/18484 queries. users per second: 242227"
      ]
     },
     "metadata": {},
     "output_type": "display_data"
    },
    {
     "data": {
      "text/html": [
       "<pre>recommendations finished on 12000/18484 queries. users per second: 247173</pre>"
      ],
      "text/plain": [
       "recommendations finished on 12000/18484 queries. users per second: 247173"
      ]
     },
     "metadata": {},
     "output_type": "display_data"
    },
    {
     "data": {
      "text/html": [
       "<pre>recommendations finished on 13000/18484 queries. users per second: 244476</pre>"
      ],
      "text/plain": [
       "recommendations finished on 13000/18484 queries. users per second: 244476"
      ]
     },
     "metadata": {},
     "output_type": "display_data"
    }
   ],
   "source": [
    "name = 'popularity'\n",
    "target = 'purchase_count'\n",
    "popularity = model(train_data, name, user_id, item_id, target, users_to_recommend, n_rec, n_display)"
   ]
  },
  {
   "cell_type": "code",
   "execution_count": null,
   "metadata": {},
   "outputs": [],
   "source": []
  },
  {
   "cell_type": "code",
   "execution_count": 17,
   "metadata": {},
   "outputs": [
    {
     "data": {
      "text/html": [
       "<pre>recommendations finished on 14000/18484 queries. users per second: 251040</pre>"
      ],
      "text/plain": [
       "recommendations finished on 14000/18484 queries. users per second: 251040"
      ]
     },
     "metadata": {},
     "output_type": "display_data"
    },
    {
     "data": {
      "text/html": [
       "<pre>recommendations finished on 15000/18484 queries. users per second: 260060</pre>"
      ],
      "text/plain": [
       "recommendations finished on 15000/18484 queries. users per second: 260060"
      ]
     },
     "metadata": {},
     "output_type": "display_data"
    },
    {
     "data": {
      "text/html": [
       "<pre>recommendations finished on 16000/18484 queries. users per second: 262981</pre>"
      ],
      "text/plain": [
       "recommendations finished on 16000/18484 queries. users per second: 262981"
      ]
     },
     "metadata": {},
     "output_type": "display_data"
    },
    {
     "data": {
      "text/html": [
       "<pre>recommendations finished on 17000/18484 queries. users per second: 268847</pre>"
      ],
      "text/plain": [
       "recommendations finished on 17000/18484 queries. users per second: 268847"
      ]
     },
     "metadata": {},
     "output_type": "display_data"
    },
    {
     "data": {
      "text/html": [
       "<pre>recommendations finished on 18000/18484 queries. users per second: 263273</pre>"
      ],
      "text/plain": [
       "recommendations finished on 18000/18484 queries. users per second: 263273"
      ]
     },
     "metadata": {},
     "output_type": "display_data"
    },
    {
     "data": {
      "text/html": [
       "<pre>Warning: Ignoring columns purchase_count;</pre>"
      ],
      "text/plain": [
       "Warning: Ignoring columns purchase_count;"
      ]
     },
     "metadata": {},
     "output_type": "display_data"
    },
    {
     "data": {
      "text/html": [
       "<pre>    To use these columns in scoring predictions, use a model that allows the use of additional features.</pre>"
      ],
      "text/plain": [
       "    To use these columns in scoring predictions, use a model that allows the use of additional features."
      ]
     },
     "metadata": {},
     "output_type": "display_data"
    },
    {
     "data": {
      "text/html": [
       "<pre>Preparing data set.</pre>"
      ],
      "text/plain": [
       "Preparing data set."
      ]
     },
     "metadata": {},
     "output_type": "display_data"
    },
    {
     "data": {
      "text/html": [
       "<pre>    Data has 47240 observations with 17785 users and 158 items.</pre>"
      ],
      "text/plain": [
       "    Data has 47240 observations with 17785 users and 158 items."
      ]
     },
     "metadata": {},
     "output_type": "display_data"
    },
    {
     "data": {
      "text/html": [
       "<pre>    Data prepared in: 0.08537s</pre>"
      ],
      "text/plain": [
       "    Data prepared in: 0.08537s"
      ]
     },
     "metadata": {},
     "output_type": "display_data"
    },
    {
     "data": {
      "text/html": [
       "<pre>47240 observations to process; with 158 unique items.</pre>"
      ],
      "text/plain": [
       "47240 observations to process; with 158 unique items."
      ]
     },
     "metadata": {},
     "output_type": "display_data"
    },
    {
     "data": {
      "text/html": [
       "<pre>recommendations finished on 1000/18484 queries. users per second: 157134</pre>"
      ],
      "text/plain": [
       "recommendations finished on 1000/18484 queries. users per second: 157134"
      ]
     },
     "metadata": {},
     "output_type": "display_data"
    },
    {
     "data": {
      "text/html": [
       "<pre>recommendations finished on 2000/18484 queries. users per second: 217415</pre>"
      ],
      "text/plain": [
       "recommendations finished on 2000/18484 queries. users per second: 217415"
      ]
     },
     "metadata": {},
     "output_type": "display_data"
    },
    {
     "data": {
      "text/html": [
       "<pre>recommendations finished on 3000/18484 queries. users per second: 231768</pre>"
      ],
      "text/plain": [
       "recommendations finished on 3000/18484 queries. users per second: 231768"
      ]
     },
     "metadata": {},
     "output_type": "display_data"
    },
    {
     "data": {
      "text/html": [
       "<pre>recommendations finished on 4000/18484 queries. users per second: 248957</pre>"
      ],
      "text/plain": [
       "recommendations finished on 4000/18484 queries. users per second: 248957"
      ]
     },
     "metadata": {},
     "output_type": "display_data"
    },
    {
     "data": {
      "text/html": [
       "<pre>recommendations finished on 5000/18484 queries. users per second: 262757</pre>"
      ],
      "text/plain": [
       "recommendations finished on 5000/18484 queries. users per second: 262757"
      ]
     },
     "metadata": {},
     "output_type": "display_data"
    },
    {
     "data": {
      "text/html": [
       "<pre>recommendations finished on 6000/18484 queries. users per second: 262881</pre>"
      ],
      "text/plain": [
       "recommendations finished on 6000/18484 queries. users per second: 262881"
      ]
     },
     "metadata": {},
     "output_type": "display_data"
    },
    {
     "data": {
      "text/html": [
       "<pre>recommendations finished on 7000/18484 queries. users per second: 268477</pre>"
      ],
      "text/plain": [
       "recommendations finished on 7000/18484 queries. users per second: 268477"
      ]
     },
     "metadata": {},
     "output_type": "display_data"
    },
    {
     "data": {
      "text/html": [
       "<pre>recommendations finished on 8000/18484 queries. users per second: 281254</pre>"
      ],
      "text/plain": [
       "recommendations finished on 8000/18484 queries. users per second: 281254"
      ]
     },
     "metadata": {},
     "output_type": "display_data"
    },
    {
     "data": {
      "text/html": [
       "<pre>recommendations finished on 9000/18484 queries. users per second: 292721</pre>"
      ],
      "text/plain": [
       "recommendations finished on 9000/18484 queries. users per second: 292721"
      ]
     },
     "metadata": {},
     "output_type": "display_data"
    },
    {
     "data": {
      "text/html": [
       "<pre>recommendations finished on 10000/18484 queries. users per second: 300860</pre>"
      ],
      "text/plain": [
       "recommendations finished on 10000/18484 queries. users per second: 300860"
      ]
     },
     "metadata": {},
     "output_type": "display_data"
    },
    {
     "data": {
      "text/html": [
       "<pre>recommendations finished on 11000/18484 queries. users per second: 304355</pre>"
      ],
      "text/plain": [
       "recommendations finished on 11000/18484 queries. users per second: 304355"
      ]
     },
     "metadata": {},
     "output_type": "display_data"
    },
    {
     "data": {
      "text/html": [
       "<pre>recommendations finished on 12000/18484 queries. users per second: 301265</pre>"
      ],
      "text/plain": [
       "recommendations finished on 12000/18484 queries. users per second: 301265"
      ]
     },
     "metadata": {},
     "output_type": "display_data"
    },
    {
     "data": {
      "text/html": [
       "<pre>recommendations finished on 13000/18484 queries. users per second: 303193</pre>"
      ],
      "text/plain": [
       "recommendations finished on 13000/18484 queries. users per second: 303193"
      ]
     },
     "metadata": {},
     "output_type": "display_data"
    },
    {
     "data": {
      "text/html": [
       "<pre>recommendations finished on 14000/18484 queries. users per second: 304958</pre>"
      ],
      "text/plain": [
       "recommendations finished on 14000/18484 queries. users per second: 304958"
      ]
     },
     "metadata": {},
     "output_type": "display_data"
    },
    {
     "data": {
      "text/html": [
       "<pre>recommendations finished on 15000/18484 queries. users per second: 308128</pre>"
      ],
      "text/plain": [
       "recommendations finished on 15000/18484 queries. users per second: 308128"
      ]
     },
     "metadata": {},
     "output_type": "display_data"
    },
    {
     "data": {
      "text/html": [
       "<pre>recommendations finished on 16000/18484 queries. users per second: 301744</pre>"
      ],
      "text/plain": [
       "recommendations finished on 16000/18484 queries. users per second: 301744"
      ]
     },
     "metadata": {},
     "output_type": "display_data"
    },
    {
     "data": {
      "text/html": [
       "<pre>recommendations finished on 17000/18484 queries. users per second: 293802</pre>"
      ],
      "text/plain": [
       "recommendations finished on 17000/18484 queries. users per second: 293802"
      ]
     },
     "metadata": {},
     "output_type": "display_data"
    },
    {
     "data": {
      "text/html": [
       "<pre>recommendations finished on 18000/18484 queries. users per second: 254004</pre>"
      ],
      "text/plain": [
       "recommendations finished on 18000/18484 queries. users per second: 254004"
      ]
     },
     "metadata": {},
     "output_type": "display_data"
    },
    {
     "name": "stdout",
     "output_type": "stream",
     "text": [
      "+------------+-----------+-------+------+\n",
      "| customerid | productid | score | rank |\n",
      "+------------+-----------+-------+------+\n",
      "|   11000    |    477    |  1.0  |  1   |\n",
      "|   11000    |    484    |  1.0  |  2   |\n",
      "|   11000    |    465    |  1.0  |  3   |\n",
      "|   11000    |    478    |  1.0  |  4   |\n",
      "|   11000    |    333    |  1.0  |  5   |\n",
      "|   11000    |    536    |  1.0  |  6   |\n",
      "|   11000    |    579    |  1.0  |  7   |\n",
      "|   11000    |    390    |  1.0  |  8   |\n",
      "|   11000    |    540    |  1.0  |  9   |\n",
      "|   11000    |    217    |  1.0  |  10  |\n",
      "|   11001    |    537    |  1.0  |  1   |\n",
      "|   11001    |    484    |  1.0  |  2   |\n",
      "|   11001    |    465    |  1.0  |  3   |\n",
      "|   11001    |    333    |  1.0  |  4   |\n",
      "|   11001    |    536    |  1.0  |  5   |\n",
      "|   11001    |    579    |  1.0  |  6   |\n",
      "|   11001    |    390    |  1.0  |  7   |\n",
      "|   11001    |    488    |  1.0  |  8   |\n",
      "|   11001    |    540    |  1.0  |  9   |\n",
      "|   11001    |    214    |  1.0  |  10  |\n",
      "|   11002    |    465    |  1.0  |  1   |\n",
      "|   11002    |    478    |  1.0  |  2   |\n",
      "|   11002    |    333    |  1.0  |  3   |\n",
      "|   11002    |    536    |  1.0  |  4   |\n",
      "|   11002    |    579    |  1.0  |  5   |\n",
      "|   11002    |    390    |  1.0  |  6   |\n",
      "|   11002    |    488    |  1.0  |  7   |\n",
      "|   11002    |    540    |  1.0  |  8   |\n",
      "|   11002    |    217    |  1.0  |  9   |\n",
      "|   11002    |    214    |  1.0  |  10  |\n",
      "+------------+-----------+-------+------+\n",
      "[184840 rows x 4 columns]\n",
      "\n"
     ]
    }
   ],
   "source": [
    "name = 'popularity'\n",
    "target = 'purchase_dummy'\n",
    "pop_dummy = model(train_data_dummy, name, user_id, item_id, target, users_to_recommend, n_rec, n_display)\n"
   ]
  },
  {
   "cell_type": "code",
   "execution_count": null,
   "metadata": {},
   "outputs": [],
   "source": []
  },
  {
   "cell_type": "code",
   "execution_count": 18,
   "metadata": {},
   "outputs": [
    {
     "data": {
      "text/html": [
       "<pre>Preparing data set.</pre>"
      ],
      "text/plain": [
       "Preparing data set."
      ]
     },
     "metadata": {},
     "output_type": "display_data"
    },
    {
     "data": {
      "text/html": [
       "<pre>    Data has 32024 observations with 15312 users and 36 items.</pre>"
      ],
      "text/plain": [
       "    Data has 32024 observations with 15312 users and 36 items."
      ]
     },
     "metadata": {},
     "output_type": "display_data"
    },
    {
     "data": {
      "text/html": [
       "<pre>    Data prepared in: 0.071042s</pre>"
      ],
      "text/plain": [
       "    Data prepared in: 0.071042s"
      ]
     },
     "metadata": {},
     "output_type": "display_data"
    },
    {
     "data": {
      "text/html": [
       "<pre>32024 observations to process; with 36 unique items.</pre>"
      ],
      "text/plain": [
       "32024 observations to process; with 36 unique items."
      ]
     },
     "metadata": {},
     "output_type": "display_data"
    },
    {
     "data": {
      "text/html": [
       "<pre>recommendations finished on 1000/18484 queries. users per second: 151584</pre>"
      ],
      "text/plain": [
       "recommendations finished on 1000/18484 queries. users per second: 151584"
      ]
     },
     "metadata": {},
     "output_type": "display_data"
    },
    {
     "data": {
      "text/html": [
       "<pre>recommendations finished on 2000/18484 queries. users per second: 221951</pre>"
      ],
      "text/plain": [
       "recommendations finished on 2000/18484 queries. users per second: 221951"
      ]
     },
     "metadata": {},
     "output_type": "display_data"
    },
    {
     "data": {
      "text/html": [
       "<pre>recommendations finished on 3000/18484 queries. users per second: 249958</pre>"
      ],
      "text/plain": [
       "recommendations finished on 3000/18484 queries. users per second: 249958"
      ]
     },
     "metadata": {},
     "output_type": "display_data"
    },
    {
     "data": {
      "text/html": [
       "<pre>recommendations finished on 4000/18484 queries. users per second: 280781</pre>"
      ],
      "text/plain": [
       "recommendations finished on 4000/18484 queries. users per second: 280781"
      ]
     },
     "metadata": {},
     "output_type": "display_data"
    },
    {
     "data": {
      "text/html": [
       "<pre>recommendations finished on 5000/18484 queries. users per second: 287158</pre>"
      ],
      "text/plain": [
       "recommendations finished on 5000/18484 queries. users per second: 287158"
      ]
     },
     "metadata": {},
     "output_type": "display_data"
    },
    {
     "data": {
      "text/html": [
       "<pre>recommendations finished on 6000/18484 queries. users per second: 288337</pre>"
      ],
      "text/plain": [
       "recommendations finished on 6000/18484 queries. users per second: 288337"
      ]
     },
     "metadata": {},
     "output_type": "display_data"
    },
    {
     "data": {
      "text/html": [
       "<pre>recommendations finished on 7000/18484 queries. users per second: 261741</pre>"
      ],
      "text/plain": [
       "recommendations finished on 7000/18484 queries. users per second: 261741"
      ]
     },
     "metadata": {},
     "output_type": "display_data"
    },
    {
     "data": {
      "text/html": [
       "<pre>recommendations finished on 8000/18484 queries. users per second: 266925</pre>"
      ],
      "text/plain": [
       "recommendations finished on 8000/18484 queries. users per second: 266925"
      ]
     },
     "metadata": {},
     "output_type": "display_data"
    },
    {
     "data": {
      "text/html": [
       "<pre>recommendations finished on 9000/18484 queries. users per second: 267284</pre>"
      ],
      "text/plain": [
       "recommendations finished on 9000/18484 queries. users per second: 267284"
      ]
     },
     "metadata": {},
     "output_type": "display_data"
    },
    {
     "data": {
      "text/html": [
       "<pre>recommendations finished on 10000/18484 queries. users per second: 260641</pre>"
      ],
      "text/plain": [
       "recommendations finished on 10000/18484 queries. users per second: 260641"
      ]
     },
     "metadata": {},
     "output_type": "display_data"
    },
    {
     "data": {
      "text/html": [
       "<pre>recommendations finished on 11000/18484 queries. users per second: 269416</pre>"
      ],
      "text/plain": [
       "recommendations finished on 11000/18484 queries. users per second: 269416"
      ]
     },
     "metadata": {},
     "output_type": "display_data"
    },
    {
     "data": {
      "text/html": [
       "<pre>recommendations finished on 12000/18484 queries. users per second: 272152</pre>"
      ],
      "text/plain": [
       "recommendations finished on 12000/18484 queries. users per second: 272152"
      ]
     },
     "metadata": {},
     "output_type": "display_data"
    },
    {
     "data": {
      "text/html": [
       "<pre>recommendations finished on 13000/18484 queries. users per second: 278510</pre>"
      ],
      "text/plain": [
       "recommendations finished on 13000/18484 queries. users per second: 278510"
      ]
     },
     "metadata": {},
     "output_type": "display_data"
    },
    {
     "data": {
      "text/html": [
       "<pre>recommendations finished on 14000/18484 queries. users per second: 282355</pre>"
      ],
      "text/plain": [
       "recommendations finished on 14000/18484 queries. users per second: 282355"
      ]
     },
     "metadata": {},
     "output_type": "display_data"
    },
    {
     "data": {
      "text/html": [
       "<pre>recommendations finished on 15000/18484 queries. users per second: 268068</pre>"
      ],
      "text/plain": [
       "recommendations finished on 15000/18484 queries. users per second: 268068"
      ]
     },
     "metadata": {},
     "output_type": "display_data"
    },
    {
     "data": {
      "text/html": [
       "<pre>recommendations finished on 16000/18484 queries. users per second: 251481</pre>"
      ],
      "text/plain": [
       "recommendations finished on 16000/18484 queries. users per second: 251481"
      ]
     },
     "metadata": {},
     "output_type": "display_data"
    },
    {
     "data": {
      "text/html": [
       "<pre>recommendations finished on 17000/18484 queries. users per second: 247036</pre>"
      ],
      "text/plain": [
       "recommendations finished on 17000/18484 queries. users per second: 247036"
      ]
     },
     "metadata": {},
     "output_type": "display_data"
    },
    {
     "data": {
      "text/html": [
       "<pre>recommendations finished on 18000/18484 queries. users per second: 246964</pre>"
      ],
      "text/plain": [
       "recommendations finished on 18000/18484 queries. users per second: 246964"
      ]
     },
     "metadata": {},
     "output_type": "display_data"
    },
    {
     "name": "stdout",
     "output_type": "stream",
     "text": [
      "+------------+-----------+----------------------+------+\n",
      "| customerid | productid |        score         | rank |\n",
      "+------------+-----------+----------------------+------+\n",
      "|   11000    |    486    | 0.02197802197802198  |  1   |\n",
      "|   11000    |    539    |         0.02         |  2   |\n",
      "|   11000    |    540    | 0.016511867905056758 |  3   |\n",
      "|   11000    |    467    | 0.014450867052023121 |  4   |\n",
      "|   11000    |    561    | 0.014285714285714285 |  5   |\n",
      "|   11000    |    463    | 0.013157894736842105 |  6   |\n",
      "|   11000    |    465    | 0.013089005235602094 |  7   |\n",
      "|   11000    |    481    | 0.013043478260869565 |  8   |\n",
      "|   11000    |    491    | 0.012422360248447204 |  9   |\n",
      "|   11000    |    483    | 0.011857707509881422 |  10  |\n",
      "|   11001    |    486    | 0.02197802197802198  |  1   |\n",
      "|   11001    |    539    |         0.02         |  2   |\n",
      "|   11001    |    540    | 0.016511867905056758 |  3   |\n",
      "|   11001    |    467    | 0.014450867052023121 |  4   |\n",
      "|   11001    |    561    | 0.014285714285714285 |  5   |\n",
      "|   11001    |    463    | 0.013157894736842105 |  6   |\n",
      "|   11001    |    465    | 0.013089005235602094 |  7   |\n",
      "|   11001    |    481    | 0.013043478260869565 |  8   |\n",
      "|   11001    |    483    | 0.011857707509881422 |  9   |\n",
      "|   11001    |    535    | 0.01183127572016461  |  10  |\n",
      "|   11002    |    486    | 0.02197802197802198  |  1   |\n",
      "|   11002    |    539    |         0.02         |  2   |\n",
      "|   11002    |    540    | 0.016511867905056758 |  3   |\n",
      "|   11002    |    467    | 0.014450867052023121 |  4   |\n",
      "|   11002    |    463    | 0.013157894736842105 |  5   |\n",
      "|   11002    |    465    | 0.013089005235602094 |  6   |\n",
      "|   11002    |    481    | 0.013043478260869565 |  7   |\n",
      "|   11002    |    491    | 0.012422360248447204 |  8   |\n",
      "|   11002    |    483    | 0.011857707509881422 |  9   |\n",
      "|   11002    |    535    | 0.01183127572016461  |  10  |\n",
      "+------------+-----------+----------------------+------+\n",
      "[184840 rows x 4 columns]\n",
      "\n"
     ]
    }
   ],
   "source": [
    "name = 'popularity'\n",
    "target = 'scaled_purchase_freq'\n",
    "pop_norm = model(train_data_norm, name, user_id, item_id, target, users_to_recommend, n_rec, n_display)"
   ]
  },
  {
   "cell_type": "markdown",
   "metadata": {},
   "source": [
    "# Collaborative filtering models"
   ]
  },
  {
   "cell_type": "code",
   "execution_count": 19,
   "metadata": {},
   "outputs": [
    {
     "data": {
      "text/html": [
       "<pre>Preparing data set.</pre>"
      ],
      "text/plain": [
       "Preparing data set."
      ]
     },
     "metadata": {},
     "output_type": "display_data"
    },
    {
     "data": {
      "text/html": [
       "<pre>    Data has 47240 observations with 17741 users and 158 items.</pre>"
      ],
      "text/plain": [
       "    Data has 47240 observations with 17741 users and 158 items."
      ]
     },
     "metadata": {},
     "output_type": "display_data"
    },
    {
     "data": {
      "text/html": [
       "<pre>    Data prepared in: 0.078244s</pre>"
      ],
      "text/plain": [
       "    Data prepared in: 0.078244s"
      ]
     },
     "metadata": {},
     "output_type": "display_data"
    },
    {
     "data": {
      "text/html": [
       "<pre>Training model from provided data.</pre>"
      ],
      "text/plain": [
       "Training model from provided data."
      ]
     },
     "metadata": {},
     "output_type": "display_data"
    },
    {
     "data": {
      "text/html": [
       "<pre>Gathering per-item and per-user statistics.</pre>"
      ],
      "text/plain": [
       "Gathering per-item and per-user statistics."
      ]
     },
     "metadata": {},
     "output_type": "display_data"
    },
    {
     "data": {
      "text/html": [
       "<pre>+--------------------------------+------------+</pre>"
      ],
      "text/plain": [
       "+--------------------------------+------------+"
      ]
     },
     "metadata": {},
     "output_type": "display_data"
    },
    {
     "data": {
      "text/html": [
       "<pre>| Elapsed Time (Item Statistics) | % Complete |</pre>"
      ],
      "text/plain": [
       "| Elapsed Time (Item Statistics) | % Complete |"
      ]
     },
     "metadata": {},
     "output_type": "display_data"
    },
    {
     "data": {
      "text/html": [
       "<pre>+--------------------------------+------------+</pre>"
      ],
      "text/plain": [
       "+--------------------------------+------------+"
      ]
     },
     "metadata": {},
     "output_type": "display_data"
    },
    {
     "data": {
      "text/html": [
       "<pre>| 6.228ms                        | 5.5        |</pre>"
      ],
      "text/plain": [
       "| 6.228ms                        | 5.5        |"
      ]
     },
     "metadata": {},
     "output_type": "display_data"
    },
    {
     "data": {
      "text/html": [
       "<pre>| 10.349ms                       | 100        |</pre>"
      ],
      "text/plain": [
       "| 10.349ms                       | 100        |"
      ]
     },
     "metadata": {},
     "output_type": "display_data"
    },
    {
     "data": {
      "text/html": [
       "<pre>+--------------------------------+------------+</pre>"
      ],
      "text/plain": [
       "+--------------------------------+------------+"
      ]
     },
     "metadata": {},
     "output_type": "display_data"
    },
    {
     "data": {
      "text/html": [
       "<pre>Setting up lookup tables.</pre>"
      ],
      "text/plain": [
       "Setting up lookup tables."
      ]
     },
     "metadata": {},
     "output_type": "display_data"
    },
    {
     "data": {
      "text/html": [
       "<pre>Processing data in one pass using dense lookup tables.</pre>"
      ],
      "text/plain": [
       "Processing data in one pass using dense lookup tables."
      ]
     },
     "metadata": {},
     "output_type": "display_data"
    },
    {
     "data": {
      "text/html": [
       "<pre>+-------------------------------------+------------------+-----------------+</pre>"
      ],
      "text/plain": [
       "+-------------------------------------+------------------+-----------------+"
      ]
     },
     "metadata": {},
     "output_type": "display_data"
    },
    {
     "data": {
      "text/html": [
       "<pre>| Elapsed Time (Constructing Lookups) | Total % Complete | Items Processed |</pre>"
      ],
      "text/plain": [
       "| Elapsed Time (Constructing Lookups) | Total % Complete | Items Processed |"
      ]
     },
     "metadata": {},
     "output_type": "display_data"
    },
    {
     "data": {
      "text/html": [
       "<pre>+-------------------------------------+------------------+-----------------+</pre>"
      ],
      "text/plain": [
       "+-------------------------------------+------------------+-----------------+"
      ]
     },
     "metadata": {},
     "output_type": "display_data"
    },
    {
     "data": {
      "text/html": [
       "<pre>| 11.712ms                            | 0                | 0               |</pre>"
      ],
      "text/plain": [
       "| 11.712ms                            | 0                | 0               |"
      ]
     },
     "metadata": {},
     "output_type": "display_data"
    },
    {
     "data": {
      "text/html": [
       "<pre>| 17.801ms                            | 100              | 158             |</pre>"
      ],
      "text/plain": [
       "| 17.801ms                            | 100              | 158             |"
      ]
     },
     "metadata": {},
     "output_type": "display_data"
    },
    {
     "data": {
      "text/html": [
       "<pre>+-------------------------------------+------------------+-----------------+</pre>"
      ],
      "text/plain": [
       "+-------------------------------------+------------------+-----------------+"
      ]
     },
     "metadata": {},
     "output_type": "display_data"
    },
    {
     "data": {
      "text/html": [
       "<pre>Finalizing lookup tables.</pre>"
      ],
      "text/plain": [
       "Finalizing lookup tables."
      ]
     },
     "metadata": {},
     "output_type": "display_data"
    },
    {
     "data": {
      "text/html": [
       "<pre>Generating candidate set for working with new users.</pre>"
      ],
      "text/plain": [
       "Generating candidate set for working with new users."
      ]
     },
     "metadata": {},
     "output_type": "display_data"
    },
    {
     "data": {
      "text/html": [
       "<pre>Finished training in 1.03254s</pre>"
      ],
      "text/plain": [
       "Finished training in 1.03254s"
      ]
     },
     "metadata": {},
     "output_type": "display_data"
    },
    {
     "data": {
      "text/html": [
       "<pre>recommendations finished on 1000/18484 queries. users per second: 67285.7</pre>"
      ],
      "text/plain": [
       "recommendations finished on 1000/18484 queries. users per second: 67285.7"
      ]
     },
     "metadata": {},
     "output_type": "display_data"
    },
    {
     "data": {
      "text/html": [
       "<pre>recommendations finished on 2000/18484 queries. users per second: 83444.6</pre>"
      ],
      "text/plain": [
       "recommendations finished on 2000/18484 queries. users per second: 83444.6"
      ]
     },
     "metadata": {},
     "output_type": "display_data"
    },
    {
     "data": {
      "text/html": [
       "<pre>recommendations finished on 3000/18484 queries. users per second: 106849</pre>"
      ],
      "text/plain": [
       "recommendations finished on 3000/18484 queries. users per second: 106849"
      ]
     },
     "metadata": {},
     "output_type": "display_data"
    },
    {
     "data": {
      "text/html": [
       "<pre>recommendations finished on 4000/18484 queries. users per second: 116077</pre>"
      ],
      "text/plain": [
       "recommendations finished on 4000/18484 queries. users per second: 116077"
      ]
     },
     "metadata": {},
     "output_type": "display_data"
    },
    {
     "data": {
      "text/html": [
       "<pre>recommendations finished on 5000/18484 queries. users per second: 120282</pre>"
      ],
      "text/plain": [
       "recommendations finished on 5000/18484 queries. users per second: 120282"
      ]
     },
     "metadata": {},
     "output_type": "display_data"
    },
    {
     "data": {
      "text/html": [
       "<pre>recommendations finished on 6000/18484 queries. users per second: 110910</pre>"
      ],
      "text/plain": [
       "recommendations finished on 6000/18484 queries. users per second: 110910"
      ]
     },
     "metadata": {},
     "output_type": "display_data"
    },
    {
     "data": {
      "text/html": [
       "<pre>recommendations finished on 7000/18484 queries. users per second: 107372</pre>"
      ],
      "text/plain": [
       "recommendations finished on 7000/18484 queries. users per second: 107372"
      ]
     },
     "metadata": {},
     "output_type": "display_data"
    },
    {
     "data": {
      "text/html": [
       "<pre>recommendations finished on 8000/18484 queries. users per second: 105562</pre>"
      ],
      "text/plain": [
       "recommendations finished on 8000/18484 queries. users per second: 105562"
      ]
     },
     "metadata": {},
     "output_type": "display_data"
    },
    {
     "data": {
      "text/html": [
       "<pre>recommendations finished on 9000/18484 queries. users per second: 101652</pre>"
      ],
      "text/plain": [
       "recommendations finished on 9000/18484 queries. users per second: 101652"
      ]
     },
     "metadata": {},
     "output_type": "display_data"
    },
    {
     "data": {
      "text/html": [
       "<pre>recommendations finished on 10000/18484 queries. users per second: 93169.7</pre>"
      ],
      "text/plain": [
       "recommendations finished on 10000/18484 queries. users per second: 93169.7"
      ]
     },
     "metadata": {},
     "output_type": "display_data"
    },
    {
     "data": {
      "text/html": [
       "<pre>recommendations finished on 11000/18484 queries. users per second: 82054</pre>"
      ],
      "text/plain": [
       "recommendations finished on 11000/18484 queries. users per second: 82054"
      ]
     },
     "metadata": {},
     "output_type": "display_data"
    },
    {
     "data": {
      "text/html": [
       "<pre>recommendations finished on 12000/18484 queries. users per second: 86580.7</pre>"
      ],
      "text/plain": [
       "recommendations finished on 12000/18484 queries. users per second: 86580.7"
      ]
     },
     "metadata": {},
     "output_type": "display_data"
    },
    {
     "data": {
      "text/html": [
       "<pre>recommendations finished on 13000/18484 queries. users per second: 89088.1</pre>"
      ],
      "text/plain": [
       "recommendations finished on 13000/18484 queries. users per second: 89088.1"
      ]
     },
     "metadata": {},
     "output_type": "display_data"
    },
    {
     "data": {
      "text/html": [
       "<pre>recommendations finished on 14000/18484 queries. users per second: 91349.8</pre>"
      ],
      "text/plain": [
       "recommendations finished on 14000/18484 queries. users per second: 91349.8"
      ]
     },
     "metadata": {},
     "output_type": "display_data"
    },
    {
     "data": {
      "text/html": [
       "<pre>recommendations finished on 15000/18484 queries. users per second: 94678.4</pre>"
      ],
      "text/plain": [
       "recommendations finished on 15000/18484 queries. users per second: 94678.4"
      ]
     },
     "metadata": {},
     "output_type": "display_data"
    },
    {
     "data": {
      "text/html": [
       "<pre>recommendations finished on 16000/18484 queries. users per second: 98601.1</pre>"
      ],
      "text/plain": [
       "recommendations finished on 16000/18484 queries. users per second: 98601.1"
      ]
     },
     "metadata": {},
     "output_type": "display_data"
    },
    {
     "data": {
      "text/html": [
       "<pre>recommendations finished on 17000/18484 queries. users per second: 100358</pre>"
      ],
      "text/plain": [
       "recommendations finished on 17000/18484 queries. users per second: 100358"
      ]
     },
     "metadata": {},
     "output_type": "display_data"
    },
    {
     "data": {
      "text/html": [
       "<pre>recommendations finished on 18000/18484 queries. users per second: 102528</pre>"
      ],
      "text/plain": [
       "recommendations finished on 18000/18484 queries. users per second: 102528"
      ]
     },
     "metadata": {},
     "output_type": "display_data"
    },
    {
     "name": "stdout",
     "output_type": "stream",
     "text": [
      "+------------+-----------+----------------------+------+\n",
      "| customerid | productid |        score         | rank |\n",
      "+------------+-----------+----------------------+------+\n",
      "|   11000    |    480    | 0.10125453770160675  |  1   |\n",
      "|   11000    |    477    | 0.09121781587600708  |  2   |\n",
      "|   11000    |    478    | 0.08351795375347137  |  3   |\n",
      "|   11000    |    528    | 0.08085720986127853  |  4   |\n",
      "|   11000    |    222    | 0.07712101936340332  |  5   |\n",
      "|   11000    |    529    | 0.07613804936408997  |  6   |\n",
      "|   11000    |    225    | 0.07359151542186737  |  7   |\n",
      "|   11000    |    537    | 0.07198265194892883  |  8   |\n",
      "|   11000    |    217    | 0.06905513256788254  |  9   |\n",
      "|   11000    |    487    | 0.058402761816978455 |  10  |\n",
      "|   11001    |    477    | 0.22427197865077428  |  1   |\n",
      "|   11001    |    528    | 0.09053138324192592  |  2   |\n",
      "|   11001    |    214    | 0.08361170121601649  |  3   |\n",
      "|   11001    |    222    | 0.07805293798446655  |  4   |\n",
      "|   11001    |    537    | 0.07801926987511772  |  5   |\n",
      "|   11001    |    480    |  0.0744916456086295  |  6   |\n",
      "|   11001    |    487    | 0.06688919237681798  |  7   |\n",
      "|   11001    |    529    | 0.06375095673969813  |  8   |\n",
      "|   11001    |    353    | 0.061653707708631246 |  9   |\n",
      "|   11001    |    484    | 0.059735630239759176 |  10  |\n",
      "|   11002    |    528    | 0.12631818652153015  |  1   |\n",
      "|   11002    |    477    | 0.12347176671028137  |  2   |\n",
      "|   11002    |    478    | 0.12216883897781372  |  3   |\n",
      "|   11002    |    537    | 0.10130751132965088  |  4   |\n",
      "|   11002    |    485    | 0.10117107629776001  |  5   |\n",
      "|   11002    |    529    | 0.09208318591117859  |  6   |\n",
      "|   11002    |    225    | 0.08172252774238586  |  7   |\n",
      "|   11002    |    480    | 0.07910186052322388  |  8   |\n",
      "|   11002    |    530    | 0.07882148027420044  |  9   |\n",
      "|   11002    |    479    | 0.07319626212120056  |  10  |\n",
      "+------------+-----------+----------------------+------+\n",
      "[184840 rows x 4 columns]\n",
      "\n"
     ]
    }
   ],
   "source": [
    "name = 'cosine'\n",
    "target = 'purchase_count'\n",
    "cos = model(train_data, name, user_id, item_id, target, users_to_recommend, n_rec, n_display)"
   ]
  },
  {
   "cell_type": "code",
   "execution_count": 20,
   "metadata": {},
   "outputs": [
    {
     "data": {
      "text/html": [
       "<pre>Warning: Ignoring columns purchase_count;</pre>"
      ],
      "text/plain": [
       "Warning: Ignoring columns purchase_count;"
      ]
     },
     "metadata": {},
     "output_type": "display_data"
    },
    {
     "data": {
      "text/html": [
       "<pre>    To use these columns in scoring predictions, use a model that allows the use of additional features.</pre>"
      ],
      "text/plain": [
       "    To use these columns in scoring predictions, use a model that allows the use of additional features."
      ]
     },
     "metadata": {},
     "output_type": "display_data"
    },
    {
     "data": {
      "text/html": [
       "<pre>Preparing data set.</pre>"
      ],
      "text/plain": [
       "Preparing data set."
      ]
     },
     "metadata": {},
     "output_type": "display_data"
    },
    {
     "data": {
      "text/html": [
       "<pre>    Data has 47240 observations with 17785 users and 158 items.</pre>"
      ],
      "text/plain": [
       "    Data has 47240 observations with 17785 users and 158 items."
      ]
     },
     "metadata": {},
     "output_type": "display_data"
    },
    {
     "data": {
      "text/html": [
       "<pre>    Data prepared in: 0.077295s</pre>"
      ],
      "text/plain": [
       "    Data prepared in: 0.077295s"
      ]
     },
     "metadata": {},
     "output_type": "display_data"
    },
    {
     "data": {
      "text/html": [
       "<pre>Training model from provided data.</pre>"
      ],
      "text/plain": [
       "Training model from provided data."
      ]
     },
     "metadata": {},
     "output_type": "display_data"
    },
    {
     "data": {
      "text/html": [
       "<pre>Gathering per-item and per-user statistics.</pre>"
      ],
      "text/plain": [
       "Gathering per-item and per-user statistics."
      ]
     },
     "metadata": {},
     "output_type": "display_data"
    },
    {
     "data": {
      "text/html": [
       "<pre>+--------------------------------+------------+</pre>"
      ],
      "text/plain": [
       "+--------------------------------+------------+"
      ]
     },
     "metadata": {},
     "output_type": "display_data"
    },
    {
     "data": {
      "text/html": [
       "<pre>| Elapsed Time (Item Statistics) | % Complete |</pre>"
      ],
      "text/plain": [
       "| Elapsed Time (Item Statistics) | % Complete |"
      ]
     },
     "metadata": {},
     "output_type": "display_data"
    },
    {
     "data": {
      "text/html": [
       "<pre>+--------------------------------+------------+</pre>"
      ],
      "text/plain": [
       "+--------------------------------+------------+"
      ]
     },
     "metadata": {},
     "output_type": "display_data"
    },
    {
     "data": {
      "text/html": [
       "<pre>| 3.056ms                        | 5.5        |</pre>"
      ],
      "text/plain": [
       "| 3.056ms                        | 5.5        |"
      ]
     },
     "metadata": {},
     "output_type": "display_data"
    },
    {
     "data": {
      "text/html": [
       "<pre>| 10.864ms                       | 100        |</pre>"
      ],
      "text/plain": [
       "| 10.864ms                       | 100        |"
      ]
     },
     "metadata": {},
     "output_type": "display_data"
    },
    {
     "data": {
      "text/html": [
       "<pre>+--------------------------------+------------+</pre>"
      ],
      "text/plain": [
       "+--------------------------------+------------+"
      ]
     },
     "metadata": {},
     "output_type": "display_data"
    },
    {
     "data": {
      "text/html": [
       "<pre>Setting up lookup tables.</pre>"
      ],
      "text/plain": [
       "Setting up lookup tables."
      ]
     },
     "metadata": {},
     "output_type": "display_data"
    },
    {
     "data": {
      "text/html": [
       "<pre>Processing data in one pass using dense lookup tables.</pre>"
      ],
      "text/plain": [
       "Processing data in one pass using dense lookup tables."
      ]
     },
     "metadata": {},
     "output_type": "display_data"
    },
    {
     "data": {
      "text/html": [
       "<pre>+-------------------------------------+------------------+-----------------+</pre>"
      ],
      "text/plain": [
       "+-------------------------------------+------------------+-----------------+"
      ]
     },
     "metadata": {},
     "output_type": "display_data"
    },
    {
     "data": {
      "text/html": [
       "<pre>| Elapsed Time (Constructing Lookups) | Total % Complete | Items Processed |</pre>"
      ],
      "text/plain": [
       "| Elapsed Time (Constructing Lookups) | Total % Complete | Items Processed |"
      ]
     },
     "metadata": {},
     "output_type": "display_data"
    },
    {
     "data": {
      "text/html": [
       "<pre>+-------------------------------------+------------------+-----------------+</pre>"
      ],
      "text/plain": [
       "+-------------------------------------+------------------+-----------------+"
      ]
     },
     "metadata": {},
     "output_type": "display_data"
    },
    {
     "data": {
      "text/html": [
       "<pre>| 11.61ms                             | 0                | 0               |</pre>"
      ],
      "text/plain": [
       "| 11.61ms                             | 0                | 0               |"
      ]
     },
     "metadata": {},
     "output_type": "display_data"
    },
    {
     "data": {
      "text/html": [
       "<pre>| 22.314ms                            | 100              | 158             |</pre>"
      ],
      "text/plain": [
       "| 22.314ms                            | 100              | 158             |"
      ]
     },
     "metadata": {},
     "output_type": "display_data"
    },
    {
     "data": {
      "text/html": [
       "<pre>+-------------------------------------+------------------+-----------------+</pre>"
      ],
      "text/plain": [
       "+-------------------------------------+------------------+-----------------+"
      ]
     },
     "metadata": {},
     "output_type": "display_data"
    },
    {
     "data": {
      "text/html": [
       "<pre>Finalizing lookup tables.</pre>"
      ],
      "text/plain": [
       "Finalizing lookup tables."
      ]
     },
     "metadata": {},
     "output_type": "display_data"
    },
    {
     "data": {
      "text/html": [
       "<pre>Generating candidate set for working with new users.</pre>"
      ],
      "text/plain": [
       "Generating candidate set for working with new users."
      ]
     },
     "metadata": {},
     "output_type": "display_data"
    },
    {
     "data": {
      "text/html": [
       "<pre>Finished training in 0.030349s</pre>"
      ],
      "text/plain": [
       "Finished training in 0.030349s"
      ]
     },
     "metadata": {},
     "output_type": "display_data"
    },
    {
     "data": {
      "text/html": [
       "<pre>recommendations finished on 1000/18484 queries. users per second: 74593.5</pre>"
      ],
      "text/plain": [
       "recommendations finished on 1000/18484 queries. users per second: 74593.5"
      ]
     },
     "metadata": {},
     "output_type": "display_data"
    },
    {
     "data": {
      "text/html": [
       "<pre>recommendations finished on 2000/18484 queries. users per second: 112372</pre>"
      ],
      "text/plain": [
       "recommendations finished on 2000/18484 queries. users per second: 112372"
      ]
     },
     "metadata": {},
     "output_type": "display_data"
    },
    {
     "data": {
      "text/html": [
       "<pre>recommendations finished on 3000/18484 queries. users per second: 135404</pre>"
      ],
      "text/plain": [
       "recommendations finished on 3000/18484 queries. users per second: 135404"
      ]
     },
     "metadata": {},
     "output_type": "display_data"
    },
    {
     "data": {
      "text/html": [
       "<pre>recommendations finished on 4000/18484 queries. users per second: 150235</pre>"
      ],
      "text/plain": [
       "recommendations finished on 4000/18484 queries. users per second: 150235"
      ]
     },
     "metadata": {},
     "output_type": "display_data"
    },
    {
     "data": {
      "text/html": [
       "<pre>recommendations finished on 5000/18484 queries. users per second: 160354</pre>"
      ],
      "text/plain": [
       "recommendations finished on 5000/18484 queries. users per second: 160354"
      ]
     },
     "metadata": {},
     "output_type": "display_data"
    },
    {
     "data": {
      "text/html": [
       "<pre>recommendations finished on 6000/18484 queries. users per second: 164438</pre>"
      ],
      "text/plain": [
       "recommendations finished on 6000/18484 queries. users per second: 164438"
      ]
     },
     "metadata": {},
     "output_type": "display_data"
    },
    {
     "data": {
      "text/html": [
       "<pre>recommendations finished on 7000/18484 queries. users per second: 173212</pre>"
      ],
      "text/plain": [
       "recommendations finished on 7000/18484 queries. users per second: 173212"
      ]
     },
     "metadata": {},
     "output_type": "display_data"
    },
    {
     "data": {
      "text/html": [
       "<pre>recommendations finished on 8000/18484 queries. users per second: 176569</pre>"
      ],
      "text/plain": [
       "recommendations finished on 8000/18484 queries. users per second: 176569"
      ]
     },
     "metadata": {},
     "output_type": "display_data"
    },
    {
     "data": {
      "text/html": [
       "<pre>recommendations finished on 9000/18484 queries. users per second: 177127</pre>"
      ],
      "text/plain": [
       "recommendations finished on 9000/18484 queries. users per second: 177127"
      ]
     },
     "metadata": {},
     "output_type": "display_data"
    },
    {
     "data": {
      "text/html": [
       "<pre>recommendations finished on 10000/18484 queries. users per second: 181274</pre>"
      ],
      "text/plain": [
       "recommendations finished on 10000/18484 queries. users per second: 181274"
      ]
     },
     "metadata": {},
     "output_type": "display_data"
    },
    {
     "data": {
      "text/html": [
       "<pre>recommendations finished on 11000/18484 queries. users per second: 176591</pre>"
      ],
      "text/plain": [
       "recommendations finished on 11000/18484 queries. users per second: 176591"
      ]
     },
     "metadata": {},
     "output_type": "display_data"
    },
    {
     "data": {
      "text/html": [
       "<pre>recommendations finished on 12000/18484 queries. users per second: 167961</pre>"
      ],
      "text/plain": [
       "recommendations finished on 12000/18484 queries. users per second: 167961"
      ]
     },
     "metadata": {},
     "output_type": "display_data"
    },
    {
     "data": {
      "text/html": [
       "<pre>recommendations finished on 13000/18484 queries. users per second: 170113</pre>"
      ],
      "text/plain": [
       "recommendations finished on 13000/18484 queries. users per second: 170113"
      ]
     },
     "metadata": {},
     "output_type": "display_data"
    },
    {
     "data": {
      "text/html": [
       "<pre>recommendations finished on 14000/18484 queries. users per second: 172724</pre>"
      ],
      "text/plain": [
       "recommendations finished on 14000/18484 queries. users per second: 172724"
      ]
     },
     "metadata": {},
     "output_type": "display_data"
    },
    {
     "data": {
      "text/html": [
       "<pre>recommendations finished on 15000/18484 queries. users per second: 174754</pre>"
      ],
      "text/plain": [
       "recommendations finished on 15000/18484 queries. users per second: 174754"
      ]
     },
     "metadata": {},
     "output_type": "display_data"
    },
    {
     "data": {
      "text/html": [
       "<pre>recommendations finished on 16000/18484 queries. users per second: 170973</pre>"
      ],
      "text/plain": [
       "recommendations finished on 16000/18484 queries. users per second: 170973"
      ]
     },
     "metadata": {},
     "output_type": "display_data"
    },
    {
     "data": {
      "text/html": [
       "<pre>recommendations finished on 17000/18484 queries. users per second: 164861</pre>"
      ],
      "text/plain": [
       "recommendations finished on 17000/18484 queries. users per second: 164861"
      ]
     },
     "metadata": {},
     "output_type": "display_data"
    },
    {
     "data": {
      "text/html": [
       "<pre>recommendations finished on 18000/18484 queries. users per second: 157451</pre>"
      ],
      "text/plain": [
       "recommendations finished on 18000/18484 queries. users per second: 157451"
      ]
     },
     "metadata": {},
     "output_type": "display_data"
    },
    {
     "name": "stdout",
     "output_type": "stream",
     "text": [
      "+------------+-----------+----------------------+------+\n",
      "| customerid | productid |        score         | rank |\n",
      "+------------+-----------+----------------------+------+\n",
      "|   11000    |    477    | 0.07888364046812057  |  1   |\n",
      "|   11000    |    478    |  0.078419528901577   |  2   |\n",
      "|   11000    |    480    | 0.07045881450176239  |  3   |\n",
      "|   11000    |    225    | 0.06927888095378876  |  4   |\n",
      "|   11000    |    537    | 0.06604594737291336  |  5   |\n",
      "|   11000    |    222    | 0.06296557188034058  |  6   |\n",
      "|   11000    |    528    | 0.061501286923885345 |  7   |\n",
      "|   11000    |    479    | 0.05382126569747925  |  8   |\n",
      "|   11000    |    487    | 0.05250490456819534  |  9   |\n",
      "|   11000    |    217    | 0.04830383509397507  |  10  |\n",
      "|   11001    |    479    | 0.11889280378818512  |  1   |\n",
      "|   11001    |    528    | 0.07885675877332687  |  2   |\n",
      "|   11001    |    537    | 0.07849996536970139  |  3   |\n",
      "|   11001    |    222    | 0.07350622862577438  |  4   |\n",
      "|   11001    |    214    |  0.0676901638507843  |  5   |\n",
      "|   11001    |    487    | 0.06670200079679489  |  6   |\n",
      "|   11001    |    480    | 0.058598607778549194 |  7   |\n",
      "|   11001    |    359    | 0.055772192776203156 |  8   |\n",
      "|   11001    |    357    | 0.05320090800523758  |  9   |\n",
      "|   11001    |    484    | 0.05177783966064453  |  10  |\n",
      "|   11002    |    478    | 0.05790505806605021  |  1   |\n",
      "|   11002    |    477    | 0.05577892065048218  |  2   |\n",
      "|   11002    |    479    | 0.04808340469996134  |  3   |\n",
      "|   11002    |    485    | 0.04808197418848673  |  4   |\n",
      "|   11002    |    360    | 0.04280984401702881  |  5   |\n",
      "|   11002    |    222    | 0.04002857208251953  |  6   |\n",
      "|   11002    |    225    |  0.0397764245669047  |  7   |\n",
      "|   11002    |    564    | 0.03930771350860596  |  8   |\n",
      "|   11002    |    217    | 0.038100739320119224 |  9   |\n",
      "|   11002    |    578    | 0.037582337856292725 |  10  |\n",
      "+------------+-----------+----------------------+------+\n",
      "[184840 rows x 4 columns]\n",
      "\n"
     ]
    }
   ],
   "source": [
    "name = 'cosine'\n",
    "target = 'purchase_dummy'\n",
    "cos_dummy = model(train_data_dummy, name, user_id, item_id, target, users_to_recommend, n_rec, n_display)"
   ]
  },
  {
   "cell_type": "code",
   "execution_count": 21,
   "metadata": {},
   "outputs": [
    {
     "data": {
      "text/html": [
       "<pre>Preparing data set.</pre>"
      ],
      "text/plain": [
       "Preparing data set."
      ]
     },
     "metadata": {},
     "output_type": "display_data"
    },
    {
     "data": {
      "text/html": [
       "<pre>    Data has 32024 observations with 15312 users and 36 items.</pre>"
      ],
      "text/plain": [
       "    Data has 32024 observations with 15312 users and 36 items."
      ]
     },
     "metadata": {},
     "output_type": "display_data"
    },
    {
     "data": {
      "text/html": [
       "<pre>    Data prepared in: 0.060826s</pre>"
      ],
      "text/plain": [
       "    Data prepared in: 0.060826s"
      ]
     },
     "metadata": {},
     "output_type": "display_data"
    },
    {
     "data": {
      "text/html": [
       "<pre>Training model from provided data.</pre>"
      ],
      "text/plain": [
       "Training model from provided data."
      ]
     },
     "metadata": {},
     "output_type": "display_data"
    },
    {
     "data": {
      "text/html": [
       "<pre>Gathering per-item and per-user statistics.</pre>"
      ],
      "text/plain": [
       "Gathering per-item and per-user statistics."
      ]
     },
     "metadata": {},
     "output_type": "display_data"
    },
    {
     "data": {
      "text/html": [
       "<pre>+--------------------------------+------------+</pre>"
      ],
      "text/plain": [
       "+--------------------------------+------------+"
      ]
     },
     "metadata": {},
     "output_type": "display_data"
    },
    {
     "data": {
      "text/html": [
       "<pre>| Elapsed Time (Item Statistics) | % Complete |</pre>"
      ],
      "text/plain": [
       "| Elapsed Time (Item Statistics) | % Complete |"
      ]
     },
     "metadata": {},
     "output_type": "display_data"
    },
    {
     "data": {
      "text/html": [
       "<pre>+--------------------------------+------------+</pre>"
      ],
      "text/plain": [
       "+--------------------------------+------------+"
      ]
     },
     "metadata": {},
     "output_type": "display_data"
    },
    {
     "data": {
      "text/html": [
       "<pre>| 1.904ms                        | 6.5        |</pre>"
      ],
      "text/plain": [
       "| 1.904ms                        | 6.5        |"
      ]
     },
     "metadata": {},
     "output_type": "display_data"
    },
    {
     "data": {
      "text/html": [
       "<pre>| 9.803ms                        | 100        |</pre>"
      ],
      "text/plain": [
       "| 9.803ms                        | 100        |"
      ]
     },
     "metadata": {},
     "output_type": "display_data"
    },
    {
     "data": {
      "text/html": [
       "<pre>+--------------------------------+------------+</pre>"
      ],
      "text/plain": [
       "+--------------------------------+------------+"
      ]
     },
     "metadata": {},
     "output_type": "display_data"
    },
    {
     "data": {
      "text/html": [
       "<pre>Setting up lookup tables.</pre>"
      ],
      "text/plain": [
       "Setting up lookup tables."
      ]
     },
     "metadata": {},
     "output_type": "display_data"
    },
    {
     "data": {
      "text/html": [
       "<pre>Processing data in one pass using dense lookup tables.</pre>"
      ],
      "text/plain": [
       "Processing data in one pass using dense lookup tables."
      ]
     },
     "metadata": {},
     "output_type": "display_data"
    },
    {
     "data": {
      "text/html": [
       "<pre>+-------------------------------------+------------------+-----------------+</pre>"
      ],
      "text/plain": [
       "+-------------------------------------+------------------+-----------------+"
      ]
     },
     "metadata": {},
     "output_type": "display_data"
    },
    {
     "data": {
      "text/html": [
       "<pre>| Elapsed Time (Constructing Lookups) | Total % Complete | Items Processed |</pre>"
      ],
      "text/plain": [
       "| Elapsed Time (Constructing Lookups) | Total % Complete | Items Processed |"
      ]
     },
     "metadata": {},
     "output_type": "display_data"
    },
    {
     "data": {
      "text/html": [
       "<pre>+-------------------------------------+------------------+-----------------+</pre>"
      ],
      "text/plain": [
       "+-------------------------------------+------------------+-----------------+"
      ]
     },
     "metadata": {},
     "output_type": "display_data"
    },
    {
     "data": {
      "text/html": [
       "<pre>| 10.493ms                            | 0                | 0               |</pre>"
      ],
      "text/plain": [
       "| 10.493ms                            | 0                | 0               |"
      ]
     },
     "metadata": {},
     "output_type": "display_data"
    },
    {
     "data": {
      "text/html": [
       "<pre>| 17.475ms                            | 100              | 36              |</pre>"
      ],
      "text/plain": [
       "| 17.475ms                            | 100              | 36              |"
      ]
     },
     "metadata": {},
     "output_type": "display_data"
    },
    {
     "data": {
      "text/html": [
       "<pre>+-------------------------------------+------------------+-----------------+</pre>"
      ],
      "text/plain": [
       "+-------------------------------------+------------------+-----------------+"
      ]
     },
     "metadata": {},
     "output_type": "display_data"
    },
    {
     "data": {
      "text/html": [
       "<pre>Finalizing lookup tables.</pre>"
      ],
      "text/plain": [
       "Finalizing lookup tables."
      ]
     },
     "metadata": {},
     "output_type": "display_data"
    },
    {
     "data": {
      "text/html": [
       "<pre>Generating candidate set for working with new users.</pre>"
      ],
      "text/plain": [
       "Generating candidate set for working with new users."
      ]
     },
     "metadata": {},
     "output_type": "display_data"
    },
    {
     "data": {
      "text/html": [
       "<pre>Finished training in 0.035219s</pre>"
      ],
      "text/plain": [
       "Finished training in 0.035219s"
      ]
     },
     "metadata": {},
     "output_type": "display_data"
    },
    {
     "data": {
      "text/html": [
       "<pre>recommendations finished on 1000/18484 queries. users per second: 97818.6</pre>"
      ],
      "text/plain": [
       "recommendations finished on 1000/18484 queries. users per second: 97818.6"
      ]
     },
     "metadata": {},
     "output_type": "display_data"
    },
    {
     "data": {
      "text/html": [
       "<pre>recommendations finished on 2000/18484 queries. users per second: 148280</pre>"
      ],
      "text/plain": [
       "recommendations finished on 2000/18484 queries. users per second: 148280"
      ]
     },
     "metadata": {},
     "output_type": "display_data"
    },
    {
     "data": {
      "text/html": [
       "<pre>recommendations finished on 3000/18484 queries. users per second: 173853</pre>"
      ],
      "text/plain": [
       "recommendations finished on 3000/18484 queries. users per second: 173853"
      ]
     },
     "metadata": {},
     "output_type": "display_data"
    },
    {
     "data": {
      "text/html": [
       "<pre>recommendations finished on 4000/18484 queries. users per second: 189861</pre>"
      ],
      "text/plain": [
       "recommendations finished on 4000/18484 queries. users per second: 189861"
      ]
     },
     "metadata": {},
     "output_type": "display_data"
    },
    {
     "data": {
      "text/html": [
       "<pre>recommendations finished on 5000/18484 queries. users per second: 201248</pre>"
      ],
      "text/plain": [
       "recommendations finished on 5000/18484 queries. users per second: 201248"
      ]
     },
     "metadata": {},
     "output_type": "display_data"
    },
    {
     "data": {
      "text/html": [
       "<pre>recommendations finished on 6000/18484 queries. users per second: 204026</pre>"
      ],
      "text/plain": [
       "recommendations finished on 6000/18484 queries. users per second: 204026"
      ]
     },
     "metadata": {},
     "output_type": "display_data"
    },
    {
     "data": {
      "text/html": [
       "<pre>recommendations finished on 7000/18484 queries. users per second: 214698</pre>"
      ],
      "text/plain": [
       "recommendations finished on 7000/18484 queries. users per second: 214698"
      ]
     },
     "metadata": {},
     "output_type": "display_data"
    },
    {
     "data": {
      "text/html": [
       "<pre>recommendations finished on 8000/18484 queries. users per second: 209441</pre>"
      ],
      "text/plain": [
       "recommendations finished on 8000/18484 queries. users per second: 209441"
      ]
     },
     "metadata": {},
     "output_type": "display_data"
    },
    {
     "data": {
      "text/html": [
       "<pre>recommendations finished on 9000/18484 queries. users per second: 209069</pre>"
      ],
      "text/plain": [
       "recommendations finished on 9000/18484 queries. users per second: 209069"
      ]
     },
     "metadata": {},
     "output_type": "display_data"
    },
    {
     "data": {
      "text/html": [
       "<pre>recommendations finished on 10000/18484 queries. users per second: 206432</pre>"
      ],
      "text/plain": [
       "recommendations finished on 10000/18484 queries. users per second: 206432"
      ]
     },
     "metadata": {},
     "output_type": "display_data"
    },
    {
     "data": {
      "text/html": [
       "<pre>recommendations finished on 11000/18484 queries. users per second: 182276</pre>"
      ],
      "text/plain": [
       "recommendations finished on 11000/18484 queries. users per second: 182276"
      ]
     },
     "metadata": {},
     "output_type": "display_data"
    },
    {
     "data": {
      "text/html": [
       "<pre>recommendations finished on 12000/18484 queries. users per second: 189780</pre>"
      ],
      "text/plain": [
       "recommendations finished on 12000/18484 queries. users per second: 189780"
      ]
     },
     "metadata": {},
     "output_type": "display_data"
    },
    {
     "data": {
      "text/html": [
       "<pre>recommendations finished on 13000/18484 queries. users per second: 188838</pre>"
      ],
      "text/plain": [
       "recommendations finished on 13000/18484 queries. users per second: 188838"
      ]
     },
     "metadata": {},
     "output_type": "display_data"
    },
    {
     "data": {
      "text/html": [
       "<pre>recommendations finished on 14000/18484 queries. users per second: 189222</pre>"
      ],
      "text/plain": [
       "recommendations finished on 14000/18484 queries. users per second: 189222"
      ]
     },
     "metadata": {},
     "output_type": "display_data"
    },
    {
     "data": {
      "text/html": [
       "<pre>recommendations finished on 15000/18484 queries. users per second: 196325</pre>"
      ],
      "text/plain": [
       "recommendations finished on 15000/18484 queries. users per second: 196325"
      ]
     },
     "metadata": {},
     "output_type": "display_data"
    },
    {
     "data": {
      "text/html": [
       "<pre>recommendations finished on 16000/18484 queries. users per second: 201646</pre>"
      ],
      "text/plain": [
       "recommendations finished on 16000/18484 queries. users per second: 201646"
      ]
     },
     "metadata": {},
     "output_type": "display_data"
    },
    {
     "data": {
      "text/html": [
       "<pre>recommendations finished on 17000/18484 queries. users per second: 204285</pre>"
      ],
      "text/plain": [
       "recommendations finished on 17000/18484 queries. users per second: 204285"
      ]
     },
     "metadata": {},
     "output_type": "display_data"
    },
    {
     "data": {
      "text/html": [
       "<pre>recommendations finished on 18000/18484 queries. users per second: 207211</pre>"
      ],
      "text/plain": [
       "recommendations finished on 18000/18484 queries. users per second: 207211"
      ]
     },
     "metadata": {},
     "output_type": "display_data"
    },
    {
     "name": "stdout",
     "output_type": "stream",
     "text": [
      "+------------+-----------+-----------------------+------+\n",
      "| customerid | productid |         score         | rank |\n",
      "+------------+-----------+-----------------------+------+\n",
      "|   11000    |    228    |          0.0          |  1   |\n",
      "|   11000    |    480    |          0.0          |  2   |\n",
      "|   11000    |    490    |          0.0          |  3   |\n",
      "|   11000    |    529    |          0.0          |  4   |\n",
      "|   11000    |    538    |          0.0          |  5   |\n",
      "|   11000    |    222    |          0.0          |  6   |\n",
      "|   11000    |    465    |          0.0          |  7   |\n",
      "|   11000    |    477    |          0.0          |  8   |\n",
      "|   11000    |    540    |          0.0          |  9   |\n",
      "|   11000    |    528    |          0.0          |  10  |\n",
      "|   11001    |    540    |  0.009339610735575357 |  1   |\n",
      "|   11001    |    529    |  0.00846711794535319  |  2   |\n",
      "|   11001    |    217    | 0.0075136224428812666 |  3   |\n",
      "|   11001    |    535    | 0.0074531833330790205 |  4   |\n",
      "|   11001    |    214    |  0.006808708111445109 |  5   |\n",
      "|   11001    |    539    |  0.006389200687408447 |  6   |\n",
      "|   11001    |    463    |  0.005785077810287476 |  7   |\n",
      "|   11001    |    528    |  0.005773087342580159 |  8   |\n",
      "|   11001    |    480    |  0.005704313516616821 |  9   |\n",
      "|   11001    |    231    |  0.004850933949152629 |  10  |\n",
      "|   11002    |    480    |          0.0          |  1   |\n",
      "|   11002    |    490    |          0.0          |  2   |\n",
      "|   11002    |    485    |          0.0          |  3   |\n",
      "|   11002    |    529    |          0.0          |  4   |\n",
      "|   11002    |    538    |          0.0          |  5   |\n",
      "|   11002    |    541    |          0.0          |  6   |\n",
      "|   11002    |    465    |          0.0          |  7   |\n",
      "|   11002    |    477    |          0.0          |  8   |\n",
      "|   11002    |    540    |          0.0          |  9   |\n",
      "|   11002    |    528    |          0.0          |  10  |\n",
      "+------------+-----------+-----------------------+------+\n",
      "[184840 rows x 4 columns]\n",
      "\n"
     ]
    }
   ],
   "source": [
    "name = 'cosine' \n",
    "target = 'scaled_purchase_freq' \n",
    "cos_norm = model(train_data_norm, name, user_id, item_id, target, users_to_recommend, n_rec, n_display)"
   ]
  },
  {
   "cell_type": "code",
   "execution_count": 22,
   "metadata": {},
   "outputs": [
    {
     "data": {
      "text/html": [
       "<pre>Preparing data set.</pre>"
      ],
      "text/plain": [
       "Preparing data set."
      ]
     },
     "metadata": {},
     "output_type": "display_data"
    },
    {
     "data": {
      "text/html": [
       "<pre>    Data has 47240 observations with 17741 users and 158 items.</pre>"
      ],
      "text/plain": [
       "    Data has 47240 observations with 17741 users and 158 items."
      ]
     },
     "metadata": {},
     "output_type": "display_data"
    },
    {
     "data": {
      "text/html": [
       "<pre>    Data prepared in: 0.076023s</pre>"
      ],
      "text/plain": [
       "    Data prepared in: 0.076023s"
      ]
     },
     "metadata": {},
     "output_type": "display_data"
    },
    {
     "data": {
      "text/html": [
       "<pre>Training model from provided data.</pre>"
      ],
      "text/plain": [
       "Training model from provided data."
      ]
     },
     "metadata": {},
     "output_type": "display_data"
    },
    {
     "data": {
      "text/html": [
       "<pre>Gathering per-item and per-user statistics.</pre>"
      ],
      "text/plain": [
       "Gathering per-item and per-user statistics."
      ]
     },
     "metadata": {},
     "output_type": "display_data"
    },
    {
     "data": {
      "text/html": [
       "<pre>+--------------------------------+------------+</pre>"
      ],
      "text/plain": [
       "+--------------------------------+------------+"
      ]
     },
     "metadata": {},
     "output_type": "display_data"
    },
    {
     "data": {
      "text/html": [
       "<pre>| Elapsed Time (Item Statistics) | % Complete |</pre>"
      ],
      "text/plain": [
       "| Elapsed Time (Item Statistics) | % Complete |"
      ]
     },
     "metadata": {},
     "output_type": "display_data"
    },
    {
     "data": {
      "text/html": [
       "<pre>+--------------------------------+------------+</pre>"
      ],
      "text/plain": [
       "+--------------------------------+------------+"
      ]
     },
     "metadata": {},
     "output_type": "display_data"
    },
    {
     "data": {
      "text/html": [
       "<pre>| 2.017ms                        | 5.5        |</pre>"
      ],
      "text/plain": [
       "| 2.017ms                        | 5.5        |"
      ]
     },
     "metadata": {},
     "output_type": "display_data"
    },
    {
     "data": {
      "text/html": [
       "<pre>| 9.102ms                        | 100        |</pre>"
      ],
      "text/plain": [
       "| 9.102ms                        | 100        |"
      ]
     },
     "metadata": {},
     "output_type": "display_data"
    },
    {
     "data": {
      "text/html": [
       "<pre>+--------------------------------+------------+</pre>"
      ],
      "text/plain": [
       "+--------------------------------+------------+"
      ]
     },
     "metadata": {},
     "output_type": "display_data"
    },
    {
     "data": {
      "text/html": [
       "<pre>Setting up lookup tables.</pre>"
      ],
      "text/plain": [
       "Setting up lookup tables."
      ]
     },
     "metadata": {},
     "output_type": "display_data"
    },
    {
     "data": {
      "text/html": [
       "<pre>Processing data in one pass using dense lookup tables.</pre>"
      ],
      "text/plain": [
       "Processing data in one pass using dense lookup tables."
      ]
     },
     "metadata": {},
     "output_type": "display_data"
    },
    {
     "data": {
      "text/html": [
       "<pre>+-------------------------------------+------------------+-----------------+</pre>"
      ],
      "text/plain": [
       "+-------------------------------------+------------------+-----------------+"
      ]
     },
     "metadata": {},
     "output_type": "display_data"
    },
    {
     "data": {
      "text/html": [
       "<pre>| Elapsed Time (Constructing Lookups) | Total % Complete | Items Processed |</pre>"
      ],
      "text/plain": [
       "| Elapsed Time (Constructing Lookups) | Total % Complete | Items Processed |"
      ]
     },
     "metadata": {},
     "output_type": "display_data"
    },
    {
     "data": {
      "text/html": [
       "<pre>+-------------------------------------+------------------+-----------------+</pre>"
      ],
      "text/plain": [
       "+-------------------------------------+------------------+-----------------+"
      ]
     },
     "metadata": {},
     "output_type": "display_data"
    },
    {
     "data": {
      "text/html": [
       "<pre>| 10.201ms                            | 0                | 0               |</pre>"
      ],
      "text/plain": [
       "| 10.201ms                            | 0                | 0               |"
      ]
     },
     "metadata": {},
     "output_type": "display_data"
    },
    {
     "data": {
      "text/html": [
       "<pre>| 19.888ms                            | 100              | 158             |</pre>"
      ],
      "text/plain": [
       "| 19.888ms                            | 100              | 158             |"
      ]
     },
     "metadata": {},
     "output_type": "display_data"
    },
    {
     "data": {
      "text/html": [
       "<pre>+-------------------------------------+------------------+-----------------+</pre>"
      ],
      "text/plain": [
       "+-------------------------------------+------------------+-----------------+"
      ]
     },
     "metadata": {},
     "output_type": "display_data"
    },
    {
     "data": {
      "text/html": [
       "<pre>Finalizing lookup tables.</pre>"
      ],
      "text/plain": [
       "Finalizing lookup tables."
      ]
     },
     "metadata": {},
     "output_type": "display_data"
    },
    {
     "data": {
      "text/html": [
       "<pre>Generating candidate set for working with new users.</pre>"
      ],
      "text/plain": [
       "Generating candidate set for working with new users."
      ]
     },
     "metadata": {},
     "output_type": "display_data"
    },
    {
     "data": {
      "text/html": [
       "<pre>Finished training in 0.024789s</pre>"
      ],
      "text/plain": [
       "Finished training in 0.024789s"
      ]
     },
     "metadata": {},
     "output_type": "display_data"
    },
    {
     "data": {
      "text/html": [
       "<pre>recommendations finished on 1000/18484 queries. users per second: 102030</pre>"
      ],
      "text/plain": [
       "recommendations finished on 1000/18484 queries. users per second: 102030"
      ]
     },
     "metadata": {},
     "output_type": "display_data"
    },
    {
     "data": {
      "text/html": [
       "<pre>recommendations finished on 2000/18484 queries. users per second: 141133</pre>"
      ],
      "text/plain": [
       "recommendations finished on 2000/18484 queries. users per second: 141133"
      ]
     },
     "metadata": {},
     "output_type": "display_data"
    },
    {
     "data": {
      "text/html": [
       "<pre>recommendations finished on 3000/18484 queries. users per second: 160333</pre>"
      ],
      "text/plain": [
       "recommendations finished on 3000/18484 queries. users per second: 160333"
      ]
     },
     "metadata": {},
     "output_type": "display_data"
    },
    {
     "data": {
      "text/html": [
       "<pre>recommendations finished on 4000/18484 queries. users per second: 179067</pre>"
      ],
      "text/plain": [
       "recommendations finished on 4000/18484 queries. users per second: 179067"
      ]
     },
     "metadata": {},
     "output_type": "display_data"
    },
    {
     "data": {
      "text/html": [
       "<pre>recommendations finished on 5000/18484 queries. users per second: 188274</pre>"
      ],
      "text/plain": [
       "recommendations finished on 5000/18484 queries. users per second: 188274"
      ]
     },
     "metadata": {},
     "output_type": "display_data"
    },
    {
     "data": {
      "text/html": [
       "<pre>recommendations finished on 6000/18484 queries. users per second: 191467</pre>"
      ],
      "text/plain": [
       "recommendations finished on 6000/18484 queries. users per second: 191467"
      ]
     },
     "metadata": {},
     "output_type": "display_data"
    },
    {
     "data": {
      "text/html": [
       "<pre>recommendations finished on 7000/18484 queries. users per second: 199283</pre>"
      ],
      "text/plain": [
       "recommendations finished on 7000/18484 queries. users per second: 199283"
      ]
     },
     "metadata": {},
     "output_type": "display_data"
    },
    {
     "data": {
      "text/html": [
       "<pre>recommendations finished on 8000/18484 queries. users per second: 200738</pre>"
      ],
      "text/plain": [
       "recommendations finished on 8000/18484 queries. users per second: 200738"
      ]
     },
     "metadata": {},
     "output_type": "display_data"
    },
    {
     "data": {
      "text/html": [
       "<pre>recommendations finished on 9000/18484 queries. users per second: 207934</pre>"
      ],
      "text/plain": [
       "recommendations finished on 9000/18484 queries. users per second: 207934"
      ]
     },
     "metadata": {},
     "output_type": "display_data"
    },
    {
     "data": {
      "text/html": [
       "<pre>recommendations finished on 10000/18484 queries. users per second: 208564</pre>"
      ],
      "text/plain": [
       "recommendations finished on 10000/18484 queries. users per second: 208564"
      ]
     },
     "metadata": {},
     "output_type": "display_data"
    },
    {
     "data": {
      "text/html": [
       "<pre>recommendations finished on 11000/18484 queries. users per second: 209664</pre>"
      ],
      "text/plain": [
       "recommendations finished on 11000/18484 queries. users per second: 209664"
      ]
     },
     "metadata": {},
     "output_type": "display_data"
    },
    {
     "data": {
      "text/html": [
       "<pre>recommendations finished on 12000/18484 queries. users per second: 215823</pre>"
      ],
      "text/plain": [
       "recommendations finished on 12000/18484 queries. users per second: 215823"
      ]
     },
     "metadata": {},
     "output_type": "display_data"
    },
    {
     "data": {
      "text/html": [
       "<pre>recommendations finished on 13000/18484 queries. users per second: 219398</pre>"
      ],
      "text/plain": [
       "recommendations finished on 13000/18484 queries. users per second: 219398"
      ]
     },
     "metadata": {},
     "output_type": "display_data"
    },
    {
     "data": {
      "text/html": [
       "<pre>recommendations finished on 14000/18484 queries. users per second: 220674</pre>"
      ],
      "text/plain": [
       "recommendations finished on 14000/18484 queries. users per second: 220674"
      ]
     },
     "metadata": {},
     "output_type": "display_data"
    },
    {
     "data": {
      "text/html": [
       "<pre>recommendations finished on 15000/18484 queries. users per second: 218700</pre>"
      ],
      "text/plain": [
       "recommendations finished on 15000/18484 queries. users per second: 218700"
      ]
     },
     "metadata": {},
     "output_type": "display_data"
    },
    {
     "data": {
      "text/html": [
       "<pre>recommendations finished on 16000/18484 queries. users per second: 213981</pre>"
      ],
      "text/plain": [
       "recommendations finished on 16000/18484 queries. users per second: 213981"
      ]
     },
     "metadata": {},
     "output_type": "display_data"
    },
    {
     "data": {
      "text/html": [
       "<pre>recommendations finished on 17000/18484 queries. users per second: 211759</pre>"
      ],
      "text/plain": [
       "recommendations finished on 17000/18484 queries. users per second: 211759"
      ]
     },
     "metadata": {},
     "output_type": "display_data"
    },
    {
     "data": {
      "text/html": [
       "<pre>recommendations finished on 18000/18484 queries. users per second: 204216</pre>"
      ],
      "text/plain": [
       "recommendations finished on 18000/18484 queries. users per second: 204216"
      ]
     },
     "metadata": {},
     "output_type": "display_data"
    },
    {
     "name": "stdout",
     "output_type": "stream",
     "text": [
      "+------------+-----------+--------------------+------+\n",
      "| customerid | productid |       score        | rank |\n",
      "+------------+-----------+--------------------+------+\n",
      "|   11000    |    480    | 1.080391661399314  |  1   |\n",
      "|   11000    |    529    | 1.0533782179628457 |  2   |\n",
      "|   11000    |    528    | 1.041674399852322  |  3   |\n",
      "|   11000    |    477    | 1.0406209467517833 |  4   |\n",
      "|   11000    |    539    | 1.0384664213357693 |  5   |\n",
      "|   11000    |    222    | 1.0335896955808759 |  6   |\n",
      "|   11000    |    484    | 1.0335470413745838 |  7   |\n",
      "|   11000    |    217    | 1.0264670986686795 |  8   |\n",
      "|   11000    |    535    | 1.0255460906554668 |  9   |\n",
      "|   11000    |    225    | 1.0240146435894661 |  10  |\n",
      "|   11001    |    480    | 1.0833192818953827 |  1   |\n",
      "|   11001    |    529    | 1.058114546726467  |  2   |\n",
      "|   11001    |    528    | 1.0443920810814364 |  3   |\n",
      "|   11001    |    539    | 1.041689804336688  |  4   |\n",
      "|   11001    |    477    | 1.0415250257462618 |  5   |\n",
      "|   11001    |    530    | 1.0388315239149246 |  6   |\n",
      "|   11001    |    214    |  1.03683536876556  |  7   |\n",
      "|   11001    |    222    | 1.0363011353521876 |  8   |\n",
      "|   11001    |    484    | 1.034961176473041  |  9   |\n",
      "|   11001    |    535    | 1.0290857497383563 |  10  |\n",
      "|   11002    |    480    | 1.0777037750420067 |  1   |\n",
      "|   11002    |    529    | 1.052383572903737  |  2   |\n",
      "|   11002    |    528    | 1.0396259446735843 |  3   |\n",
      "|   11002    |    477    | 1.0389566360580424 |  4   |\n",
      "|   11002    |    539    | 1.0367159968314892 |  5   |\n",
      "|   11002    |    214    | 1.033811288795609  |  6   |\n",
      "|   11002    |    484    | 1.0333305424035983 |  7   |\n",
      "|   11002    |    530    | 1.0317424029138174 |  8   |\n",
      "|   11002    |    535    | 1.0308823529411761 |  9   |\n",
      "|   11002    |    217    | 1.027697405592069  |  10  |\n",
      "+------------+-----------+--------------------+------+\n",
      "[184840 rows x 4 columns]\n",
      "\n"
     ]
    }
   ],
   "source": [
    "name = 'pearson'\n",
    "target = 'purchase_count'\n",
    "pear = model(train_data, name, user_id, item_id, target, users_to_recommend, n_rec, n_display)"
   ]
  },
  {
   "cell_type": "code",
   "execution_count": 23,
   "metadata": {},
   "outputs": [
    {
     "data": {
      "text/html": [
       "<pre>Warning: Ignoring columns purchase_count;</pre>"
      ],
      "text/plain": [
       "Warning: Ignoring columns purchase_count;"
      ]
     },
     "metadata": {},
     "output_type": "display_data"
    },
    {
     "data": {
      "text/html": [
       "<pre>    To use these columns in scoring predictions, use a model that allows the use of additional features.</pre>"
      ],
      "text/plain": [
       "    To use these columns in scoring predictions, use a model that allows the use of additional features."
      ]
     },
     "metadata": {},
     "output_type": "display_data"
    },
    {
     "data": {
      "text/html": [
       "<pre>Preparing data set.</pre>"
      ],
      "text/plain": [
       "Preparing data set."
      ]
     },
     "metadata": {},
     "output_type": "display_data"
    },
    {
     "data": {
      "text/html": [
       "<pre>    Data has 47240 observations with 17785 users and 158 items.</pre>"
      ],
      "text/plain": [
       "    Data has 47240 observations with 17785 users and 158 items."
      ]
     },
     "metadata": {},
     "output_type": "display_data"
    },
    {
     "data": {
      "text/html": [
       "<pre>    Data prepared in: 0.07918s</pre>"
      ],
      "text/plain": [
       "    Data prepared in: 0.07918s"
      ]
     },
     "metadata": {},
     "output_type": "display_data"
    },
    {
     "data": {
      "text/html": [
       "<pre>Training model from provided data.</pre>"
      ],
      "text/plain": [
       "Training model from provided data."
      ]
     },
     "metadata": {},
     "output_type": "display_data"
    },
    {
     "data": {
      "text/html": [
       "<pre>Gathering per-item and per-user statistics.</pre>"
      ],
      "text/plain": [
       "Gathering per-item and per-user statistics."
      ]
     },
     "metadata": {},
     "output_type": "display_data"
    },
    {
     "data": {
      "text/html": [
       "<pre>+--------------------------------+------------+</pre>"
      ],
      "text/plain": [
       "+--------------------------------+------------+"
      ]
     },
     "metadata": {},
     "output_type": "display_data"
    },
    {
     "data": {
      "text/html": [
       "<pre>| Elapsed Time (Item Statistics) | % Complete |</pre>"
      ],
      "text/plain": [
       "| Elapsed Time (Item Statistics) | % Complete |"
      ]
     },
     "metadata": {},
     "output_type": "display_data"
    },
    {
     "data": {
      "text/html": [
       "<pre>+--------------------------------+------------+</pre>"
      ],
      "text/plain": [
       "+--------------------------------+------------+"
      ]
     },
     "metadata": {},
     "output_type": "display_data"
    },
    {
     "data": {
      "text/html": [
       "<pre>| 3.195ms                        | 5.5        |</pre>"
      ],
      "text/plain": [
       "| 3.195ms                        | 5.5        |"
      ]
     },
     "metadata": {},
     "output_type": "display_data"
    },
    {
     "data": {
      "text/html": [
       "<pre>| 12.583ms                       | 100        |</pre>"
      ],
      "text/plain": [
       "| 12.583ms                       | 100        |"
      ]
     },
     "metadata": {},
     "output_type": "display_data"
    },
    {
     "data": {
      "text/html": [
       "<pre>+--------------------------------+------------+</pre>"
      ],
      "text/plain": [
       "+--------------------------------+------------+"
      ]
     },
     "metadata": {},
     "output_type": "display_data"
    },
    {
     "data": {
      "text/html": [
       "<pre>Setting up lookup tables.</pre>"
      ],
      "text/plain": [
       "Setting up lookup tables."
      ]
     },
     "metadata": {},
     "output_type": "display_data"
    },
    {
     "data": {
      "text/html": [
       "<pre>Processing data in one pass using dense lookup tables.</pre>"
      ],
      "text/plain": [
       "Processing data in one pass using dense lookup tables."
      ]
     },
     "metadata": {},
     "output_type": "display_data"
    },
    {
     "data": {
      "text/html": [
       "<pre>+-------------------------------------+------------------+-----------------+</pre>"
      ],
      "text/plain": [
       "+-------------------------------------+------------------+-----------------+"
      ]
     },
     "metadata": {},
     "output_type": "display_data"
    },
    {
     "data": {
      "text/html": [
       "<pre>| Elapsed Time (Constructing Lookups) | Total % Complete | Items Processed |</pre>"
      ],
      "text/plain": [
       "| Elapsed Time (Constructing Lookups) | Total % Complete | Items Processed |"
      ]
     },
     "metadata": {},
     "output_type": "display_data"
    },
    {
     "data": {
      "text/html": [
       "<pre>+-------------------------------------+------------------+-----------------+</pre>"
      ],
      "text/plain": [
       "+-------------------------------------+------------------+-----------------+"
      ]
     },
     "metadata": {},
     "output_type": "display_data"
    },
    {
     "data": {
      "text/html": [
       "<pre>| 13.812ms                            | 0                | 0               |</pre>"
      ],
      "text/plain": [
       "| 13.812ms                            | 0                | 0               |"
      ]
     },
     "metadata": {},
     "output_type": "display_data"
    },
    {
     "data": {
      "text/html": [
       "<pre>| 32.172ms                            | 100              | 158             |</pre>"
      ],
      "text/plain": [
       "| 32.172ms                            | 100              | 158             |"
      ]
     },
     "metadata": {},
     "output_type": "display_data"
    },
    {
     "data": {
      "text/html": [
       "<pre>+-------------------------------------+------------------+-----------------+</pre>"
      ],
      "text/plain": [
       "+-------------------------------------+------------------+-----------------+"
      ]
     },
     "metadata": {},
     "output_type": "display_data"
    },
    {
     "data": {
      "text/html": [
       "<pre>Finalizing lookup tables.</pre>"
      ],
      "text/plain": [
       "Finalizing lookup tables."
      ]
     },
     "metadata": {},
     "output_type": "display_data"
    },
    {
     "data": {
      "text/html": [
       "<pre>Generating candidate set for working with new users.</pre>"
      ],
      "text/plain": [
       "Generating candidate set for working with new users."
      ]
     },
     "metadata": {},
     "output_type": "display_data"
    },
    {
     "data": {
      "text/html": [
       "<pre>Finished training in 0.037722s</pre>"
      ],
      "text/plain": [
       "Finished training in 0.037722s"
      ]
     },
     "metadata": {},
     "output_type": "display_data"
    },
    {
     "data": {
      "text/html": [
       "<pre>recommendations finished on 1000/18484 queries. users per second: 96385.5</pre>"
      ],
      "text/plain": [
       "recommendations finished on 1000/18484 queries. users per second: 96385.5"
      ]
     },
     "metadata": {},
     "output_type": "display_data"
    },
    {
     "data": {
      "text/html": [
       "<pre>recommendations finished on 2000/18484 queries. users per second: 122167</pre>"
      ],
      "text/plain": [
       "recommendations finished on 2000/18484 queries. users per second: 122167"
      ]
     },
     "metadata": {},
     "output_type": "display_data"
    },
    {
     "data": {
      "text/html": [
       "<pre>recommendations finished on 3000/18484 queries. users per second: 143273</pre>"
      ],
      "text/plain": [
       "recommendations finished on 3000/18484 queries. users per second: 143273"
      ]
     },
     "metadata": {},
     "output_type": "display_data"
    },
    {
     "data": {
      "text/html": [
       "<pre>recommendations finished on 4000/18484 queries. users per second: 147863</pre>"
      ],
      "text/plain": [
       "recommendations finished on 4000/18484 queries. users per second: 147863"
      ]
     },
     "metadata": {},
     "output_type": "display_data"
    },
    {
     "data": {
      "text/html": [
       "<pre>recommendations finished on 5000/18484 queries. users per second: 157327</pre>"
      ],
      "text/plain": [
       "recommendations finished on 5000/18484 queries. users per second: 157327"
      ]
     },
     "metadata": {},
     "output_type": "display_data"
    },
    {
     "data": {
      "text/html": [
       "<pre>recommendations finished on 6000/18484 queries. users per second: 166537</pre>"
      ],
      "text/plain": [
       "recommendations finished on 6000/18484 queries. users per second: 166537"
      ]
     },
     "metadata": {},
     "output_type": "display_data"
    },
    {
     "data": {
      "text/html": [
       "<pre>recommendations finished on 7000/18484 queries. users per second: 172062</pre>"
      ],
      "text/plain": [
       "recommendations finished on 7000/18484 queries. users per second: 172062"
      ]
     },
     "metadata": {},
     "output_type": "display_data"
    },
    {
     "data": {
      "text/html": [
       "<pre>recommendations finished on 8000/18484 queries. users per second: 176161</pre>"
      ],
      "text/plain": [
       "recommendations finished on 8000/18484 queries. users per second: 176161"
      ]
     },
     "metadata": {},
     "output_type": "display_data"
    },
    {
     "data": {
      "text/html": [
       "<pre>recommendations finished on 9000/18484 queries. users per second: 179219</pre>"
      ],
      "text/plain": [
       "recommendations finished on 9000/18484 queries. users per second: 179219"
      ]
     },
     "metadata": {},
     "output_type": "display_data"
    },
    {
     "data": {
      "text/html": [
       "<pre>recommendations finished on 10000/18484 queries. users per second: 183298</pre>"
      ],
      "text/plain": [
       "recommendations finished on 10000/18484 queries. users per second: 183298"
      ]
     },
     "metadata": {},
     "output_type": "display_data"
    },
    {
     "data": {
      "text/html": [
       "<pre>recommendations finished on 11000/18484 queries. users per second: 188945</pre>"
      ],
      "text/plain": [
       "recommendations finished on 11000/18484 queries. users per second: 188945"
      ]
     },
     "metadata": {},
     "output_type": "display_data"
    },
    {
     "data": {
      "text/html": [
       "<pre>recommendations finished on 12000/18484 queries. users per second: 194301</pre>"
      ],
      "text/plain": [
       "recommendations finished on 12000/18484 queries. users per second: 194301"
      ]
     },
     "metadata": {},
     "output_type": "display_data"
    },
    {
     "data": {
      "text/html": [
       "<pre>recommendations finished on 13000/18484 queries. users per second: 199109</pre>"
      ],
      "text/plain": [
       "recommendations finished on 13000/18484 queries. users per second: 199109"
      ]
     },
     "metadata": {},
     "output_type": "display_data"
    },
    {
     "data": {
      "text/html": [
       "<pre>recommendations finished on 14000/18484 queries. users per second: 202149</pre>"
      ],
      "text/plain": [
       "recommendations finished on 14000/18484 queries. users per second: 202149"
      ]
     },
     "metadata": {},
     "output_type": "display_data"
    },
    {
     "data": {
      "text/html": [
       "<pre>recommendations finished on 15000/18484 queries. users per second: 197371</pre>"
      ],
      "text/plain": [
       "recommendations finished on 15000/18484 queries. users per second: 197371"
      ]
     },
     "metadata": {},
     "output_type": "display_data"
    },
    {
     "data": {
      "text/html": [
       "<pre>recommendations finished on 16000/18484 queries. users per second: 199379</pre>"
      ],
      "text/plain": [
       "recommendations finished on 16000/18484 queries. users per second: 199379"
      ]
     },
     "metadata": {},
     "output_type": "display_data"
    },
    {
     "data": {
      "text/html": [
       "<pre>recommendations finished on 17000/18484 queries. users per second: 200335</pre>"
      ],
      "text/plain": [
       "recommendations finished on 17000/18484 queries. users per second: 200335"
      ]
     },
     "metadata": {},
     "output_type": "display_data"
    },
    {
     "data": {
      "text/html": [
       "<pre>recommendations finished on 18000/18484 queries. users per second: 199263</pre>"
      ],
      "text/plain": [
       "recommendations finished on 18000/18484 queries. users per second: 199263"
      ]
     },
     "metadata": {},
     "output_type": "display_data"
    },
    {
     "name": "stdout",
     "output_type": "stream",
     "text": [
      "+------------+-----------+-------+------+\n",
      "| customerid | productid | score | rank |\n",
      "+------------+-----------+-------+------+\n",
      "|   11000    |    477    |  0.0  |  1   |\n",
      "|   11000    |    484    |  0.0  |  2   |\n",
      "|   11000    |    465    |  0.0  |  3   |\n",
      "|   11000    |    478    |  0.0  |  4   |\n",
      "|   11000    |    333    |  0.0  |  5   |\n",
      "|   11000    |    536    |  0.0  |  6   |\n",
      "|   11000    |    579    |  0.0  |  7   |\n",
      "|   11000    |    390    |  0.0  |  8   |\n",
      "|   11000    |    540    |  0.0  |  9   |\n",
      "|   11000    |    217    |  0.0  |  10  |\n",
      "|   11001    |    537    |  0.0  |  1   |\n",
      "|   11001    |    484    |  0.0  |  2   |\n",
      "|   11001    |    465    |  0.0  |  3   |\n",
      "|   11001    |    333    |  0.0  |  4   |\n",
      "|   11001    |    536    |  0.0  |  5   |\n",
      "|   11001    |    579    |  0.0  |  6   |\n",
      "|   11001    |    390    |  0.0  |  7   |\n",
      "|   11001    |    488    |  0.0  |  8   |\n",
      "|   11001    |    540    |  0.0  |  9   |\n",
      "|   11001    |    214    |  0.0  |  10  |\n",
      "|   11002    |    465    |  0.0  |  1   |\n",
      "|   11002    |    478    |  0.0  |  2   |\n",
      "|   11002    |    333    |  0.0  |  3   |\n",
      "|   11002    |    536    |  0.0  |  4   |\n",
      "|   11002    |    579    |  0.0  |  5   |\n",
      "|   11002    |    390    |  0.0  |  6   |\n",
      "|   11002    |    488    |  0.0  |  7   |\n",
      "|   11002    |    540    |  0.0  |  8   |\n",
      "|   11002    |    217    |  0.0  |  9   |\n",
      "|   11002    |    214    |  0.0  |  10  |\n",
      "+------------+-----------+-------+------+\n",
      "[184840 rows x 4 columns]\n",
      "\n"
     ]
    }
   ],
   "source": [
    "name = 'pearson'\n",
    "target = 'purchase_dummy'\n",
    "pear_dummy = model(train_data_dummy, name, user_id, item_id, target, users_to_recommend, n_rec, n_display)"
   ]
  },
  {
   "cell_type": "code",
   "execution_count": 24,
   "metadata": {},
   "outputs": [
    {
     "data": {
      "text/html": [
       "<pre>Preparing data set.</pre>"
      ],
      "text/plain": [
       "Preparing data set."
      ]
     },
     "metadata": {},
     "output_type": "display_data"
    },
    {
     "data": {
      "text/html": [
       "<pre>    Data has 32024 observations with 15312 users and 36 items.</pre>"
      ],
      "text/plain": [
       "    Data has 32024 observations with 15312 users and 36 items."
      ]
     },
     "metadata": {},
     "output_type": "display_data"
    },
    {
     "data": {
      "text/html": [
       "<pre>    Data prepared in: 0.064855s</pre>"
      ],
      "text/plain": [
       "    Data prepared in: 0.064855s"
      ]
     },
     "metadata": {},
     "output_type": "display_data"
    },
    {
     "data": {
      "text/html": [
       "<pre>Training model from provided data.</pre>"
      ],
      "text/plain": [
       "Training model from provided data."
      ]
     },
     "metadata": {},
     "output_type": "display_data"
    },
    {
     "data": {
      "text/html": [
       "<pre>Gathering per-item and per-user statistics.</pre>"
      ],
      "text/plain": [
       "Gathering per-item and per-user statistics."
      ]
     },
     "metadata": {},
     "output_type": "display_data"
    },
    {
     "data": {
      "text/html": [
       "<pre>+--------------------------------+------------+</pre>"
      ],
      "text/plain": [
       "+--------------------------------+------------+"
      ]
     },
     "metadata": {},
     "output_type": "display_data"
    },
    {
     "data": {
      "text/html": [
       "<pre>| Elapsed Time (Item Statistics) | % Complete |</pre>"
      ],
      "text/plain": [
       "| Elapsed Time (Item Statistics) | % Complete |"
      ]
     },
     "metadata": {},
     "output_type": "display_data"
    },
    {
     "data": {
      "text/html": [
       "<pre>+--------------------------------+------------+</pre>"
      ],
      "text/plain": [
       "+--------------------------------+------------+"
      ]
     },
     "metadata": {},
     "output_type": "display_data"
    },
    {
     "data": {
      "text/html": [
       "<pre>| 2.268ms                        | 6.5        |</pre>"
      ],
      "text/plain": [
       "| 2.268ms                        | 6.5        |"
      ]
     },
     "metadata": {},
     "output_type": "display_data"
    },
    {
     "data": {
      "text/html": [
       "<pre>| 15.087ms                       | 100        |</pre>"
      ],
      "text/plain": [
       "| 15.087ms                       | 100        |"
      ]
     },
     "metadata": {},
     "output_type": "display_data"
    },
    {
     "data": {
      "text/html": [
       "<pre>+--------------------------------+------------+</pre>"
      ],
      "text/plain": [
       "+--------------------------------+------------+"
      ]
     },
     "metadata": {},
     "output_type": "display_data"
    },
    {
     "data": {
      "text/html": [
       "<pre>Setting up lookup tables.</pre>"
      ],
      "text/plain": [
       "Setting up lookup tables."
      ]
     },
     "metadata": {},
     "output_type": "display_data"
    },
    {
     "data": {
      "text/html": [
       "<pre>Processing data in one pass using dense lookup tables.</pre>"
      ],
      "text/plain": [
       "Processing data in one pass using dense lookup tables."
      ]
     },
     "metadata": {},
     "output_type": "display_data"
    },
    {
     "data": {
      "text/html": [
       "<pre>+-------------------------------------+------------------+-----------------+</pre>"
      ],
      "text/plain": [
       "+-------------------------------------+------------------+-----------------+"
      ]
     },
     "metadata": {},
     "output_type": "display_data"
    },
    {
     "data": {
      "text/html": [
       "<pre>| Elapsed Time (Constructing Lookups) | Total % Complete | Items Processed |</pre>"
      ],
      "text/plain": [
       "| Elapsed Time (Constructing Lookups) | Total % Complete | Items Processed |"
      ]
     },
     "metadata": {},
     "output_type": "display_data"
    },
    {
     "data": {
      "text/html": [
       "<pre>+-------------------------------------+------------------+-----------------+</pre>"
      ],
      "text/plain": [
       "+-------------------------------------+------------------+-----------------+"
      ]
     },
     "metadata": {},
     "output_type": "display_data"
    },
    {
     "data": {
      "text/html": [
       "<pre>| 15.964ms                            | 0                | 0               |</pre>"
      ],
      "text/plain": [
       "| 15.964ms                            | 0                | 0               |"
      ]
     },
     "metadata": {},
     "output_type": "display_data"
    },
    {
     "data": {
      "text/html": [
       "<pre>| 29.089ms                            | 100              | 36              |</pre>"
      ],
      "text/plain": [
       "| 29.089ms                            | 100              | 36              |"
      ]
     },
     "metadata": {},
     "output_type": "display_data"
    },
    {
     "data": {
      "text/html": [
       "<pre>+-------------------------------------+------------------+-----------------+</pre>"
      ],
      "text/plain": [
       "+-------------------------------------+------------------+-----------------+"
      ]
     },
     "metadata": {},
     "output_type": "display_data"
    },
    {
     "data": {
      "text/html": [
       "<pre>Finalizing lookup tables.</pre>"
      ],
      "text/plain": [
       "Finalizing lookup tables."
      ]
     },
     "metadata": {},
     "output_type": "display_data"
    },
    {
     "data": {
      "text/html": [
       "<pre>Generating candidate set for working with new users.</pre>"
      ],
      "text/plain": [
       "Generating candidate set for working with new users."
      ]
     },
     "metadata": {},
     "output_type": "display_data"
    },
    {
     "data": {
      "text/html": [
       "<pre>Finished training in 0.046814s</pre>"
      ],
      "text/plain": [
       "Finished training in 0.046814s"
      ]
     },
     "metadata": {},
     "output_type": "display_data"
    },
    {
     "data": {
      "text/html": [
       "<pre>recommendations finished on 1000/18484 queries. users per second: 153799</pre>"
      ],
      "text/plain": [
       "recommendations finished on 1000/18484 queries. users per second: 153799"
      ]
     },
     "metadata": {},
     "output_type": "display_data"
    },
    {
     "data": {
      "text/html": [
       "<pre>recommendations finished on 2000/18484 queries. users per second: 192252</pre>"
      ],
      "text/plain": [
       "recommendations finished on 2000/18484 queries. users per second: 192252"
      ]
     },
     "metadata": {},
     "output_type": "display_data"
    },
    {
     "data": {
      "text/html": [
       "<pre>recommendations finished on 3000/18484 queries. users per second: 207068</pre>"
      ],
      "text/plain": [
       "recommendations finished on 3000/18484 queries. users per second: 207068"
      ]
     },
     "metadata": {},
     "output_type": "display_data"
    },
    {
     "data": {
      "text/html": [
       "<pre>recommendations finished on 4000/18484 queries. users per second: 218520</pre>"
      ],
      "text/plain": [
       "recommendations finished on 4000/18484 queries. users per second: 218520"
      ]
     },
     "metadata": {},
     "output_type": "display_data"
    },
    {
     "data": {
      "text/html": [
       "<pre>recommendations finished on 5000/18484 queries. users per second: 221769</pre>"
      ],
      "text/plain": [
       "recommendations finished on 5000/18484 queries. users per second: 221769"
      ]
     },
     "metadata": {},
     "output_type": "display_data"
    },
    {
     "data": {
      "text/html": [
       "<pre>recommendations finished on 6000/18484 queries. users per second: 230105</pre>"
      ],
      "text/plain": [
       "recommendations finished on 6000/18484 queries. users per second: 230105"
      ]
     },
     "metadata": {},
     "output_type": "display_data"
    },
    {
     "data": {
      "text/html": [
       "<pre>recommendations finished on 7000/18484 queries. users per second: 237877</pre>"
      ],
      "text/plain": [
       "recommendations finished on 7000/18484 queries. users per second: 237877"
      ]
     },
     "metadata": {},
     "output_type": "display_data"
    },
    {
     "data": {
      "text/html": [
       "<pre>recommendations finished on 8000/18484 queries. users per second: 236791</pre>"
      ],
      "text/plain": [
       "recommendations finished on 8000/18484 queries. users per second: 236791"
      ]
     },
     "metadata": {},
     "output_type": "display_data"
    },
    {
     "data": {
      "text/html": [
       "<pre>recommendations finished on 9000/18484 queries. users per second: 239751</pre>"
      ],
      "text/plain": [
       "recommendations finished on 9000/18484 queries. users per second: 239751"
      ]
     },
     "metadata": {},
     "output_type": "display_data"
    },
    {
     "data": {
      "text/html": [
       "<pre>recommendations finished on 10000/18484 queries. users per second: 239498</pre>"
      ],
      "text/plain": [
       "recommendations finished on 10000/18484 queries. users per second: 239498"
      ]
     },
     "metadata": {},
     "output_type": "display_data"
    },
    {
     "data": {
      "text/html": [
       "<pre>recommendations finished on 11000/18484 queries. users per second: 238752</pre>"
      ],
      "text/plain": [
       "recommendations finished on 11000/18484 queries. users per second: 238752"
      ]
     },
     "metadata": {},
     "output_type": "display_data"
    },
    {
     "data": {
      "text/html": [
       "<pre>recommendations finished on 12000/18484 queries. users per second: 240491</pre>"
      ],
      "text/plain": [
       "recommendations finished on 12000/18484 queries. users per second: 240491"
      ]
     },
     "metadata": {},
     "output_type": "display_data"
    },
    {
     "data": {
      "text/html": [
       "<pre>recommendations finished on 13000/18484 queries. users per second: 242537</pre>"
      ],
      "text/plain": [
       "recommendations finished on 13000/18484 queries. users per second: 242537"
      ]
     },
     "metadata": {},
     "output_type": "display_data"
    },
    {
     "data": {
      "text/html": [
       "<pre>recommendations finished on 14000/18484 queries. users per second: 242942</pre>"
      ],
      "text/plain": [
       "recommendations finished on 14000/18484 queries. users per second: 242942"
      ]
     },
     "metadata": {},
     "output_type": "display_data"
    },
    {
     "data": {
      "text/html": [
       "<pre>recommendations finished on 15000/18484 queries. users per second: 240914</pre>"
      ],
      "text/plain": [
       "recommendations finished on 15000/18484 queries. users per second: 240914"
      ]
     },
     "metadata": {},
     "output_type": "display_data"
    },
    {
     "data": {
      "text/html": [
       "<pre>recommendations finished on 16000/18484 queries. users per second: 238838</pre>"
      ],
      "text/plain": [
       "recommendations finished on 16000/18484 queries. users per second: 238838"
      ]
     },
     "metadata": {},
     "output_type": "display_data"
    },
    {
     "data": {
      "text/html": [
       "<pre>recommendations finished on 17000/18484 queries. users per second: 233703</pre>"
      ],
      "text/plain": [
       "recommendations finished on 17000/18484 queries. users per second: 233703"
      ]
     },
     "metadata": {},
     "output_type": "display_data"
    },
    {
     "data": {
      "text/html": [
       "<pre>recommendations finished on 18000/18484 queries. users per second: 217649</pre>"
      ],
      "text/plain": [
       "recommendations finished on 18000/18484 queries. users per second: 217649"
      ]
     },
     "metadata": {},
     "output_type": "display_data"
    },
    {
     "name": "stdout",
     "output_type": "stream",
     "text": [
      "+------------+-----------+----------------------+------+\n",
      "| customerid | productid |        score         | rank |\n",
      "+------------+-----------+----------------------+------+\n",
      "|   11000    |    486    | 0.021947981237055186 |  1   |\n",
      "|   11000    |    539    | 0.018843276500701906 |  2   |\n",
      "|   11000    |    540    | 0.015141092205441284 |  3   |\n",
      "|   11000    |    561    | 0.014285106318337577 |  4   |\n",
      "|   11000    |    467    | 0.014211470956747236 |  5   |\n",
      "|   11000    |    481    | 0.013025334606999938 |  6   |\n",
      "|   11000    |    465    | 0.01278133798020049  |  7   |\n",
      "|   11000    |    463    | 0.01254470599325079  |  8   |\n",
      "|   11000    |    491    | 0.012365866966129086 |  9   |\n",
      "|   11000    |    483    | 0.011752374181634344 |  10  |\n",
      "|   11001    |    486    | 0.024872244714380626 |  1   |\n",
      "|   11001    |    539    | 0.02477716326713562  |  2   |\n",
      "|   11001    |    540    | 0.02462709989587097  |  3   |\n",
      "|   11001    |    535    | 0.018592558402583427 |  4   |\n",
      "|   11001    |    463    | 0.018307289010600032 |  5   |\n",
      "|   11001    |    529    | 0.016093320732062828 |  6   |\n",
      "|   11001    |    231    | 0.01601126470427582  |  7   |\n",
      "|   11001    |    481    | 0.01597446712894716  |  8   |\n",
      "|   11001    |    528    | 0.01528996488322381  |  9   |\n",
      "|   11001    |    467    | 0.015224078372264407 |  10  |\n",
      "|   11002    |    486    | 0.021978021978021983 |  1   |\n",
      "|   11002    |    539    | 0.018681336641311646 |  2   |\n",
      "|   11002    |    540    | 0.015207748079693603 |  3   |\n",
      "|   11002    |    467    | 0.013424773092214765 |  4   |\n",
      "|   11002    |    481    | 0.01279257250868756  |  5   |\n",
      "|   11002    |    465    | 0.012743566516806325 |  6   |\n",
      "|   11002    |    491    | 0.012206710643649837 |  7   |\n",
      "|   11002    |    463    | 0.01168464673192877  |  8   |\n",
      "|   11002    |    483    | 0.011632372150308051 |  9   |\n",
      "|   11002    |    231    | 0.011381593130636903 |  10  |\n",
      "+------------+-----------+----------------------+------+\n",
      "[184840 rows x 4 columns]\n",
      "\n"
     ]
    }
   ],
   "source": [
    "name = 'pearson'\n",
    "target = 'scaled_purchase_freq'\n",
    "pear_norm = model(train_data_norm, name, user_id, item_id, target, users_to_recommend, n_rec, n_display)"
   ]
  },
  {
   "cell_type": "code",
   "execution_count": null,
   "metadata": {},
   "outputs": [],
   "source": []
  },
  {
   "cell_type": "code",
   "execution_count": 25,
   "metadata": {},
   "outputs": [],
   "source": [
    "popularity_model =popularity"
   ]
  },
  {
   "cell_type": "code",
   "execution_count": 26,
   "metadata": {},
   "outputs": [],
   "source": [
    "models_w_counts = [popularity_model, cos, pear]\n",
    "models_w_dummy = [pop_dummy, cos_dummy, pear_dummy]\n",
    "models_w_norm = [pop_norm, cos_norm, pear_norm]\n",
    "names_w_counts = ['Popularity Model on Purchase Counts', 'Cosine Similarity on Purchase Counts', 'Pearson Similarity on Purchase Counts']\n",
    "names_w_dummy = ['Popularity Model on Purchase Dummy', 'Cosine Similarity on Purchase Dummy', 'Pearson Similarity on Purchase Dummy']\n",
    "names_w_norm = ['Popularity Model on Scaled Purchase Counts', 'Cosine Similarity on Scaled Purchase Counts', 'Pearson Similarity on Scaled Purchase Counts']"
   ]
  },
  {
   "cell_type": "code",
   "execution_count": 27,
   "metadata": {},
   "outputs": [
    {
     "name": "stdout",
     "output_type": "stream",
     "text": [
      "PROGRESS: Evaluate model Popularity Model on Purchase Counts\n"
     ]
    },
    {
     "data": {
      "text/html": [
       "<pre>recommendations finished on 1000/8714 queries. users per second: 71638.4</pre>"
      ],
      "text/plain": [
       "recommendations finished on 1000/8714 queries. users per second: 71638.4"
      ]
     },
     "metadata": {},
     "output_type": "display_data"
    },
    {
     "data": {
      "text/html": [
       "<pre>recommendations finished on 2000/8714 queries. users per second: 84122</pre>"
      ],
      "text/plain": [
       "recommendations finished on 2000/8714 queries. users per second: 84122"
      ]
     },
     "metadata": {},
     "output_type": "display_data"
    },
    {
     "data": {
      "text/html": [
       "<pre>recommendations finished on 3000/8714 queries. users per second: 91569.5</pre>"
      ],
      "text/plain": [
       "recommendations finished on 3000/8714 queries. users per second: 91569.5"
      ]
     },
     "metadata": {},
     "output_type": "display_data"
    },
    {
     "data": {
      "text/html": [
       "<pre>recommendations finished on 4000/8714 queries. users per second: 95792.3</pre>"
      ],
      "text/plain": [
       "recommendations finished on 4000/8714 queries. users per second: 95792.3"
      ]
     },
     "metadata": {},
     "output_type": "display_data"
    },
    {
     "data": {
      "text/html": [
       "<pre>recommendations finished on 5000/8714 queries. users per second: 98311</pre>"
      ],
      "text/plain": [
       "recommendations finished on 5000/8714 queries. users per second: 98311"
      ]
     },
     "metadata": {},
     "output_type": "display_data"
    },
    {
     "data": {
      "text/html": [
       "<pre>recommendations finished on 6000/8714 queries. users per second: 95895.7</pre>"
      ],
      "text/plain": [
       "recommendations finished on 6000/8714 queries. users per second: 95895.7"
      ]
     },
     "metadata": {},
     "output_type": "display_data"
    },
    {
     "data": {
      "text/html": [
       "<pre>recommendations finished on 7000/8714 queries. users per second: 101098</pre>"
      ],
      "text/plain": [
       "recommendations finished on 7000/8714 queries. users per second: 101098"
      ]
     },
     "metadata": {},
     "output_type": "display_data"
    },
    {
     "data": {
      "text/html": [
       "<pre>recommendations finished on 8000/8714 queries. users per second: 98094.5</pre>"
      ],
      "text/plain": [
       "recommendations finished on 8000/8714 queries. users per second: 98094.5"
      ]
     },
     "metadata": {},
     "output_type": "display_data"
    },
    {
     "name": "stdout",
     "output_type": "stream",
     "text": [
      "\n",
      "Precision and recall summary statistics by cutoff\n",
      "+--------+---------------------+---------------------+\n",
      "| cutoff |    mean_precision   |     mean_recall     |\n",
      "+--------+---------------------+---------------------+\n",
      "|   1    | 0.08354372274500814 | 0.06291713571665368 |\n",
      "|   2    | 0.07005967408767494 | 0.10465079000768696 |\n",
      "|   3    | 0.06939025323234643 | 0.15576016153535094 |\n",
      "|   4    |  0.0562887307780583 | 0.16641246889697678 |\n",
      "|   5    | 0.06359880651824623 | 0.23536896473836996 |\n",
      "|   6    | 0.06112768724657635 | 0.27162648319981353 |\n",
      "|   7    | 0.05939539001278737 |  0.3089449198698683 |\n",
      "|   8    | 0.05687686481523985 |  0.3365829845058675 |\n",
      "|   9    | 0.05289062300767605 |  0.3500940832304155 |\n",
      "|   10   | 0.05078035345421155 |  0.3740868553067317 |\n",
      "+--------+---------------------+---------------------+\n",
      "[10 rows x 3 columns]\n",
      "\n",
      "\n",
      "Overall RMSE: 0.2671344715660716\n",
      "\n",
      "Per User RMSE (best)\n",
      "+------------+------+-------+\n",
      "| customerid | rmse | count |\n",
      "+------------+------+-------+\n",
      "|   12004    | 0.0  |   1   |\n",
      "+------------+------+-------+\n",
      "[1 rows x 3 columns]\n",
      "\n",
      "\n",
      "Per User RMSE (worst)\n",
      "+------------+-------------------+-------+\n",
      "| customerid |        rmse       | count |\n",
      "+------------+-------------------+-------+\n",
      "|   11566    | 6.090767766540227 |   7   |\n",
      "+------------+-------------------+-------+\n",
      "[1 rows x 3 columns]\n",
      "\n",
      "\n",
      "Per Item RMSE (best)\n",
      "+-----------+------+-------+\n",
      "| productid | rmse | count |\n",
      "+-----------+------+-------+\n",
      "|    375    | 0.0  |   30  |\n",
      "+-----------+------+-------+\n",
      "[1 rows x 3 columns]\n",
      "\n",
      "\n",
      "Per Item RMSE (worst)\n",
      "+-----------+--------------------+-------+\n",
      "| productid |        rmse        | count |\n",
      "+-----------+--------------------+-------+\n",
      "|    530    | 0.9668918844426421 |  278  |\n",
      "+-----------+--------------------+-------+\n",
      "[1 rows x 3 columns]\n",
      "\n",
      "PROGRESS: Evaluate model Cosine Similarity on Purchase Counts\n"
     ]
    },
    {
     "data": {
      "text/html": [
       "<pre>recommendations finished on 1000/8714 queries. users per second: 62084.8</pre>"
      ],
      "text/plain": [
       "recommendations finished on 1000/8714 queries. users per second: 62084.8"
      ]
     },
     "metadata": {},
     "output_type": "display_data"
    },
    {
     "data": {
      "text/html": [
       "<pre>recommendations finished on 2000/8714 queries. users per second: 59092.9</pre>"
      ],
      "text/plain": [
       "recommendations finished on 2000/8714 queries. users per second: 59092.9"
      ]
     },
     "metadata": {},
     "output_type": "display_data"
    },
    {
     "data": {
      "text/html": [
       "<pre>recommendations finished on 3000/8714 queries. users per second: 48055.4</pre>"
      ],
      "text/plain": [
       "recommendations finished on 3000/8714 queries. users per second: 48055.4"
      ]
     },
     "metadata": {},
     "output_type": "display_data"
    },
    {
     "data": {
      "text/html": [
       "<pre>recommendations finished on 4000/8714 queries. users per second: 47400.7</pre>"
      ],
      "text/plain": [
       "recommendations finished on 4000/8714 queries. users per second: 47400.7"
      ]
     },
     "metadata": {},
     "output_type": "display_data"
    },
    {
     "data": {
      "text/html": [
       "<pre>recommendations finished on 5000/8714 queries. users per second: 48240.2</pre>"
      ],
      "text/plain": [
       "recommendations finished on 5000/8714 queries. users per second: 48240.2"
      ]
     },
     "metadata": {},
     "output_type": "display_data"
    },
    {
     "data": {
      "text/html": [
       "<pre>recommendations finished on 6000/8714 queries. users per second: 47628.1</pre>"
      ],
      "text/plain": [
       "recommendations finished on 6000/8714 queries. users per second: 47628.1"
      ]
     },
     "metadata": {},
     "output_type": "display_data"
    },
    {
     "data": {
      "text/html": [
       "<pre>recommendations finished on 7000/8714 queries. users per second: 49020.6</pre>"
      ],
      "text/plain": [
       "recommendations finished on 7000/8714 queries. users per second: 49020.6"
      ]
     },
     "metadata": {},
     "output_type": "display_data"
    },
    {
     "data": {
      "text/html": [
       "<pre>recommendations finished on 8000/8714 queries. users per second: 47317.4</pre>"
      ],
      "text/plain": [
       "recommendations finished on 8000/8714 queries. users per second: 47317.4"
      ]
     },
     "metadata": {},
     "output_type": "display_data"
    },
    {
     "name": "stdout",
     "output_type": "stream",
     "text": [
      "\n",
      "Precision and recall summary statistics by cutoff\n",
      "+--------+---------------------+---------------------+\n",
      "| cutoff |    mean_precision   |     mean_recall     |\n",
      "+--------+---------------------+---------------------+\n",
      "|   1    | 0.26807436309387234 | 0.20951155957754505 |\n",
      "|   2    | 0.19061280697727795 | 0.29094678878360325 |\n",
      "|   3    | 0.15167163950730647 |  0.3451084461785633 |\n",
      "|   4    | 0.12901652513197137 |  0.3912179269994281 |\n",
      "|   5    |  0.1136102823043378 |  0.4283719229410075 |\n",
      "|   6    | 0.10224925407390402 | 0.46159664615597634 |\n",
      "|   7    |  0.093003049280304  | 0.48818280927243546 |\n",
      "|   8    | 0.08669956392012851 |  0.5199988797446906 |\n",
      "|   9    | 0.08024124652538694 |  0.5386237162602785 |\n",
      "|   10   | 0.07458113380766593 |  0.5553804132011606 |\n",
      "+--------+---------------------+---------------------+\n",
      "[10 rows x 3 columns]\n",
      "\n",
      "\n",
      "Overall RMSE: 0.9632051196852778\n",
      "\n",
      "Per User RMSE (best)\n",
      "+------------+---------------------+-------+\n",
      "| customerid |         rmse        | count |\n",
      "+------------+---------------------+-------+\n",
      "|   16346    | 0.32945185899734497 |   1   |\n",
      "+------------+---------------------+-------+\n",
      "[1 rows x 3 columns]\n",
      "\n",
      "\n",
      "Per User RMSE (worst)\n",
      "+------------+-------------------+-------+\n",
      "| customerid |        rmse       | count |\n",
      "+------------+-------------------+-------+\n",
      "|   11566    | 6.443369221033144 |   7   |\n",
      "+------------+-------------------+-------+\n",
      "[1 rows x 3 columns]\n",
      "\n",
      "\n",
      "Per Item RMSE (best)\n",
      "+-----------+--------------------+-------+\n",
      "| productid |        rmse        | count |\n",
      "+-----------+--------------------+-------+\n",
      "|    537    | 0.8332520350088406 |  286  |\n",
      "+-----------+--------------------+-------+\n",
      "[1 rows x 3 columns]\n",
      "\n",
      "\n",
      "Per Item RMSE (worst)\n",
      "+-----------+--------------------+-------+\n",
      "| productid |        rmse        | count |\n",
      "+-----------+--------------------+-------+\n",
      "|    530    | 1.3510961957526515 |  278  |\n",
      "+-----------+--------------------+-------+\n",
      "[1 rows x 3 columns]\n",
      "\n",
      "PROGRESS: Evaluate model Pearson Similarity on Purchase Counts\n"
     ]
    },
    {
     "data": {
      "text/html": [
       "<pre>recommendations finished on 1000/8714 queries. users per second: 69516.9</pre>"
      ],
      "text/plain": [
       "recommendations finished on 1000/8714 queries. users per second: 69516.9"
      ]
     },
     "metadata": {},
     "output_type": "display_data"
    },
    {
     "data": {
      "text/html": [
       "<pre>recommendations finished on 2000/8714 queries. users per second: 61293.3</pre>"
      ],
      "text/plain": [
       "recommendations finished on 2000/8714 queries. users per second: 61293.3"
      ]
     },
     "metadata": {},
     "output_type": "display_data"
    },
    {
     "data": {
      "text/html": [
       "<pre>recommendations finished on 3000/8714 queries. users per second: 61160.8</pre>"
      ],
      "text/plain": [
       "recommendations finished on 3000/8714 queries. users per second: 61160.8"
      ]
     },
     "metadata": {},
     "output_type": "display_data"
    },
    {
     "data": {
      "text/html": [
       "<pre>recommendations finished on 4000/8714 queries. users per second: 59170.7</pre>"
      ],
      "text/plain": [
       "recommendations finished on 4000/8714 queries. users per second: 59170.7"
      ]
     },
     "metadata": {},
     "output_type": "display_data"
    },
    {
     "data": {
      "text/html": [
       "<pre>recommendations finished on 5000/8714 queries. users per second: 63211.1</pre>"
      ],
      "text/plain": [
       "recommendations finished on 5000/8714 queries. users per second: 63211.1"
      ]
     },
     "metadata": {},
     "output_type": "display_data"
    },
    {
     "data": {
      "text/html": [
       "<pre>recommendations finished on 6000/8714 queries. users per second: 58884.7</pre>"
      ],
      "text/plain": [
       "recommendations finished on 6000/8714 queries. users per second: 58884.7"
      ]
     },
     "metadata": {},
     "output_type": "display_data"
    },
    {
     "data": {
      "text/html": [
       "<pre>recommendations finished on 7000/8714 queries. users per second: 58518.6</pre>"
      ],
      "text/plain": [
       "recommendations finished on 7000/8714 queries. users per second: 58518.6"
      ]
     },
     "metadata": {},
     "output_type": "display_data"
    },
    {
     "data": {
      "text/html": [
       "<pre>recommendations finished on 8000/8714 queries. users per second: 58982.7</pre>"
      ],
      "text/plain": [
       "recommendations finished on 8000/8714 queries. users per second: 58982.7"
      ]
     },
     "metadata": {},
     "output_type": "display_data"
    },
    {
     "name": "stdout",
     "output_type": "stream",
     "text": [
      "\n",
      "Precision and recall summary statistics by cutoff\n",
      "+--------+----------------------+---------------------+\n",
      "| cutoff |    mean_precision    |     mean_recall     |\n",
      "+--------+----------------------+---------------------+\n",
      "|   1    | 0.06873995868717012  | 0.05283073944136597 |\n",
      "|   2    | 0.05399357355978886  | 0.08081799585414454 |\n",
      "|   3    | 0.053285900084155645 | 0.11897694277772326 |\n",
      "|   4    | 0.05144021115446409  | 0.15347934904969565 |\n",
      "|   5    | 0.05327059903603376  | 0.19772783989274695 |\n",
      "|   6    | 0.05053171142223246  |  0.2243153691742168 |\n",
      "|   7    | 0.04895242466966143  | 0.25304367902772734 |\n",
      "|   8    | 0.04624741794812945  |  0.2728407762003132 |\n",
      "|   9    | 0.044079769464208295 | 0.29285099511459406 |\n",
      "|   10   | 0.04213908652742716  | 0.31126894870870103 |\n",
      "+--------+----------------------+---------------------+\n",
      "[10 rows x 3 columns]\n",
      "\n",
      "\n",
      "Overall RMSE: 0.2466098741004129\n",
      "\n",
      "Per User RMSE (best)\n",
      "+------------+------+-------+\n",
      "| customerid | rmse | count |\n",
      "+------------+------+-------+\n",
      "|   12004    | 0.0  |   1   |\n",
      "+------------+------+-------+\n",
      "[1 rows x 3 columns]\n",
      "\n",
      "\n",
      "Per User RMSE (worst)\n",
      "+------------+-------------------+-------+\n",
      "| customerid |        rmse       | count |\n",
      "+------------+-------------------+-------+\n",
      "|   11566    | 5.590322835537616 |   7   |\n",
      "+------------+-------------------+-------+\n",
      "[1 rows x 3 columns]\n",
      "\n",
      "\n",
      "Per Item RMSE (best)\n",
      "+-----------+------+-------+\n",
      "| productid | rmse | count |\n",
      "+-----------+------+-------+\n",
      "|    375    | 0.0  |   30  |\n",
      "+-----------+------+-------+\n",
      "[1 rows x 3 columns]\n",
      "\n",
      "\n",
      "Per Item RMSE (worst)\n",
      "+-----------+--------------------+-------+\n",
      "| productid |        rmse        | count |\n",
      "+-----------+--------------------+-------+\n",
      "|    530    | 0.8868640471857281 |  278  |\n",
      "+-----------+--------------------+-------+\n",
      "[1 rows x 3 columns]\n",
      "\n",
      "PROGRESS: Evaluate model Popularity Model on Purchase Dummy\n"
     ]
    },
    {
     "data": {
      "text/html": [
       "<pre>recommendations finished on 1000/8733 queries. users per second: 71270.8</pre>"
      ],
      "text/plain": [
       "recommendations finished on 1000/8733 queries. users per second: 71270.8"
      ]
     },
     "metadata": {},
     "output_type": "display_data"
    },
    {
     "data": {
      "text/html": [
       "<pre>recommendations finished on 2000/8733 queries. users per second: 71653.8</pre>"
      ],
      "text/plain": [
       "recommendations finished on 2000/8733 queries. users per second: 71653.8"
      ]
     },
     "metadata": {},
     "output_type": "display_data"
    },
    {
     "data": {
      "text/html": [
       "<pre>recommendations finished on 3000/8733 queries. users per second: 68692.3</pre>"
      ],
      "text/plain": [
       "recommendations finished on 3000/8733 queries. users per second: 68692.3"
      ]
     },
     "metadata": {},
     "output_type": "display_data"
    },
    {
     "data": {
      "text/html": [
       "<pre>recommendations finished on 4000/8733 queries. users per second: 71344.5</pre>"
      ],
      "text/plain": [
       "recommendations finished on 4000/8733 queries. users per second: 71344.5"
      ]
     },
     "metadata": {},
     "output_type": "display_data"
    },
    {
     "data": {
      "text/html": [
       "<pre>recommendations finished on 5000/8733 queries. users per second: 65269.9</pre>"
      ],
      "text/plain": [
       "recommendations finished on 5000/8733 queries. users per second: 65269.9"
      ]
     },
     "metadata": {},
     "output_type": "display_data"
    },
    {
     "data": {
      "text/html": [
       "<pre>recommendations finished on 6000/8733 queries. users per second: 67271.4</pre>"
      ],
      "text/plain": [
       "recommendations finished on 6000/8733 queries. users per second: 67271.4"
      ]
     },
     "metadata": {},
     "output_type": "display_data"
    },
    {
     "data": {
      "text/html": [
       "<pre>recommendations finished on 7000/8733 queries. users per second: 67847.2</pre>"
      ],
      "text/plain": [
       "recommendations finished on 7000/8733 queries. users per second: 67847.2"
      ]
     },
     "metadata": {},
     "output_type": "display_data"
    },
    {
     "data": {
      "text/html": [
       "<pre>recommendations finished on 8000/8733 queries. users per second: 64370.8</pre>"
      ],
      "text/plain": [
       "recommendations finished on 8000/8733 queries. users per second: 64370.8"
      ]
     },
     "metadata": {},
     "output_type": "display_data"
    },
    {
     "name": "stdout",
     "output_type": "stream",
     "text": [
      "\n",
      "Precision and recall summary statistics by cutoff\n",
      "+--------+----------------------+---------------------+\n",
      "| cutoff |    mean_precision    |     mean_recall     |\n",
      "+--------+----------------------+---------------------+\n",
      "|   1    | 0.051757700675598296 | 0.03763147993652973 |\n",
      "|   2    | 0.04935302874155502  |  0.0727953084359818 |\n",
      "|   3    | 0.03820756517424325  | 0.08470797685844064 |\n",
      "|   4    | 0.030602313065384235 | 0.09068912117692612 |\n",
      "|   5    | 0.025420817588457434 | 0.09435720011123659 |\n",
      "|   6    | 0.02242452001984806  |  0.0996503410708152 |\n",
      "|   7    | 0.02241088809278418  | 0.11663872121618611 |\n",
      "|   8    | 0.02161342035955568  |  0.1267803296745243 |\n",
      "|   9    | 0.023512347799534657 | 0.15322790400942263 |\n",
      "|   10   | 0.02337112103515381  | 0.16907297443195748 |\n",
      "+--------+----------------------+---------------------+\n",
      "[10 rows x 3 columns]\n",
      "\n",
      "\n",
      "Overall RMSE: 0.0\n",
      "\n",
      "Per User RMSE (best)\n",
      "+------------+------+-------+\n",
      "| customerid | rmse | count |\n",
      "+------------+------+-------+\n",
      "|   16436    | 0.0  |   1   |\n",
      "+------------+------+-------+\n",
      "[1 rows x 3 columns]\n",
      "\n",
      "\n",
      "Per User RMSE (worst)\n",
      "+------------+------+-------+\n",
      "| customerid | rmse | count |\n",
      "+------------+------+-------+\n",
      "|   19584    | 0.0  |   2   |\n",
      "+------------+------+-------+\n",
      "[1 rows x 3 columns]\n",
      "\n",
      "\n",
      "Per Item RMSE (best)\n",
      "+-----------+------+-------+\n",
      "| productid | rmse | count |\n",
      "+-----------+------+-------+\n",
      "|    463    | 0.0  |  119  |\n",
      "+-----------+------+-------+\n",
      "[1 rows x 3 columns]\n",
      "\n",
      "\n",
      "Per Item RMSE (worst)\n",
      "+-----------+------+-------+\n",
      "| productid | rmse | count |\n",
      "+-----------+------+-------+\n",
      "|    537    | 0.0  |  307  |\n",
      "+-----------+------+-------+\n",
      "[1 rows x 3 columns]\n",
      "\n",
      "PROGRESS: Evaluate model Cosine Similarity on Purchase Dummy\n"
     ]
    },
    {
     "data": {
      "text/html": [
       "<pre>recommendations finished on 1000/8733 queries. users per second: 70551.7</pre>"
      ],
      "text/plain": [
       "recommendations finished on 1000/8733 queries. users per second: 70551.7"
      ]
     },
     "metadata": {},
     "output_type": "display_data"
    },
    {
     "data": {
      "text/html": [
       "<pre>recommendations finished on 2000/8733 queries. users per second: 60699.9</pre>"
      ],
      "text/plain": [
       "recommendations finished on 2000/8733 queries. users per second: 60699.9"
      ]
     },
     "metadata": {},
     "output_type": "display_data"
    },
    {
     "data": {
      "text/html": [
       "<pre>recommendations finished on 3000/8733 queries. users per second: 58999.4</pre>"
      ],
      "text/plain": [
       "recommendations finished on 3000/8733 queries. users per second: 58999.4"
      ]
     },
     "metadata": {},
     "output_type": "display_data"
    },
    {
     "data": {
      "text/html": [
       "<pre>recommendations finished on 4000/8733 queries. users per second: 59348.1</pre>"
      ],
      "text/plain": [
       "recommendations finished on 4000/8733 queries. users per second: 59348.1"
      ]
     },
     "metadata": {},
     "output_type": "display_data"
    },
    {
     "data": {
      "text/html": [
       "<pre>recommendations finished on 5000/8733 queries. users per second: 56952.1</pre>"
      ],
      "text/plain": [
       "recommendations finished on 5000/8733 queries. users per second: 56952.1"
      ]
     },
     "metadata": {},
     "output_type": "display_data"
    },
    {
     "data": {
      "text/html": [
       "<pre>recommendations finished on 6000/8733 queries. users per second: 55402.2</pre>"
      ],
      "text/plain": [
       "recommendations finished on 6000/8733 queries. users per second: 55402.2"
      ]
     },
     "metadata": {},
     "output_type": "display_data"
    },
    {
     "data": {
      "text/html": [
       "<pre>recommendations finished on 7000/8733 queries. users per second: 53244.9</pre>"
      ],
      "text/plain": [
       "recommendations finished on 7000/8733 queries. users per second: 53244.9"
      ]
     },
     "metadata": {},
     "output_type": "display_data"
    },
    {
     "data": {
      "text/html": [
       "<pre>recommendations finished on 8000/8733 queries. users per second: 54570.6</pre>"
      ],
      "text/plain": [
       "recommendations finished on 8000/8733 queries. users per second: 54570.6"
      ]
     },
     "metadata": {},
     "output_type": "display_data"
    },
    {
     "name": "stdout",
     "output_type": "stream",
     "text": [
      "\n",
      "Precision and recall summary statistics by cutoff\n",
      "+--------+---------------------+---------------------+\n",
      "| cutoff |    mean_precision   |     mean_recall     |\n",
      "+--------+---------------------+---------------------+\n",
      "|   1    |  0.2816901408450708 | 0.21896282846128212 |\n",
      "|   2    | 0.20130539333562353 | 0.30793309995474244 |\n",
      "|   3    |  0.1595099049582048 |  0.3645948863915204 |\n",
      "|   4    | 0.13403183327607932 | 0.40768077298479294 |\n",
      "|   5    | 0.11805794114279174 |  0.448540429569286  |\n",
      "|   6    | 0.10611092026413223 |  0.4830608311113295 |\n",
      "|   7    | 0.09695571804812578 |  0.5139695898971062 |\n",
      "|   8    | 0.08865796404442913 |  0.5360841198955254 |\n",
      "|   9    |  0.0820896471875516 |  0.5569686411149819 |\n",
      "|   10   | 0.07615939539677095 |  0.5735047139203787 |\n",
      "+--------+---------------------+---------------------+\n",
      "[10 rows x 3 columns]\n",
      "\n",
      "\n",
      "Overall RMSE: 0.9125091421482661\n",
      "\n",
      "Per User RMSE (best)\n",
      "+------------+-------------------+-------+\n",
      "| customerid |        rmse       | count |\n",
      "+------------+-------------------+-------+\n",
      "|   26859    | 0.449398398399353 |   1   |\n",
      "+------------+-------------------+-------+\n",
      "[1 rows x 3 columns]\n",
      "\n",
      "\n",
      "Per User RMSE (worst)\n",
      "+------------+------+-------+\n",
      "| customerid | rmse | count |\n",
      "+------------+------+-------+\n",
      "|   17885    | 1.0  |   1   |\n",
      "+------------+------+-------+\n",
      "[1 rows x 3 columns]\n",
      "\n",
      "\n",
      "Per Item RMSE (best)\n",
      "+-----------+--------------------+-------+\n",
      "| productid |        rmse        | count |\n",
      "+-----------+--------------------+-------+\n",
      "|    478    | 0.8309133863191517 |  407  |\n",
      "+-----------+--------------------+-------+\n",
      "[1 rows x 3 columns]\n",
      "\n",
      "\n",
      "Per Item RMSE (worst)\n",
      "+-----------+------+-------+\n",
      "| productid | rmse | count |\n",
      "+-----------+------+-------+\n",
      "|    322    | 1.0  |   1   |\n",
      "+-----------+------+-------+\n",
      "[1 rows x 3 columns]\n",
      "\n",
      "PROGRESS: Evaluate model Pearson Similarity on Purchase Dummy\n"
     ]
    },
    {
     "data": {
      "text/html": [
       "<pre>recommendations finished on 1000/8733 queries. users per second: 67535.6</pre>"
      ],
      "text/plain": [
       "recommendations finished on 1000/8733 queries. users per second: 67535.6"
      ]
     },
     "metadata": {},
     "output_type": "display_data"
    },
    {
     "data": {
      "text/html": [
       "<pre>recommendations finished on 2000/8733 queries. users per second: 83734.6</pre>"
      ],
      "text/plain": [
       "recommendations finished on 2000/8733 queries. users per second: 83734.6"
      ]
     },
     "metadata": {},
     "output_type": "display_data"
    },
    {
     "data": {
      "text/html": [
       "<pre>recommendations finished on 3000/8733 queries. users per second: 85699.6</pre>"
      ],
      "text/plain": [
       "recommendations finished on 3000/8733 queries. users per second: 85699.6"
      ]
     },
     "metadata": {},
     "output_type": "display_data"
    },
    {
     "data": {
      "text/html": [
       "<pre>recommendations finished on 4000/8733 queries. users per second: 91397.2</pre>"
      ],
      "text/plain": [
       "recommendations finished on 4000/8733 queries. users per second: 91397.2"
      ]
     },
     "metadata": {},
     "output_type": "display_data"
    },
    {
     "data": {
      "text/html": [
       "<pre>recommendations finished on 5000/8733 queries. users per second: 96760.5</pre>"
      ],
      "text/plain": [
       "recommendations finished on 5000/8733 queries. users per second: 96760.5"
      ]
     },
     "metadata": {},
     "output_type": "display_data"
    },
    {
     "data": {
      "text/html": [
       "<pre>recommendations finished on 6000/8733 queries. users per second: 89245.9</pre>"
      ],
      "text/plain": [
       "recommendations finished on 6000/8733 queries. users per second: 89245.9"
      ]
     },
     "metadata": {},
     "output_type": "display_data"
    },
    {
     "data": {
      "text/html": [
       "<pre>recommendations finished on 7000/8733 queries. users per second: 92267.9</pre>"
      ],
      "text/plain": [
       "recommendations finished on 7000/8733 queries. users per second: 92267.9"
      ]
     },
     "metadata": {},
     "output_type": "display_data"
    },
    {
     "data": {
      "text/html": [
       "<pre>recommendations finished on 8000/8733 queries. users per second: 94368.6</pre>"
      ],
      "text/plain": [
       "recommendations finished on 8000/8733 queries. users per second: 94368.6"
      ]
     },
     "metadata": {},
     "output_type": "display_data"
    },
    {
     "name": "stdout",
     "output_type": "stream",
     "text": [
      "\n",
      "Precision and recall summary statistics by cutoff\n",
      "+--------+----------------------+---------------------+\n",
      "| cutoff |    mean_precision    |     mean_recall     |\n",
      "+--------+----------------------+---------------------+\n",
      "|   1    | 0.05175770067559829  | 0.03763147993652976 |\n",
      "|   2    | 0.049353028741555005 | 0.07279530843598184 |\n",
      "|   3    | 0.03820756517424327  | 0.08470797685844077 |\n",
      "|   4    | 0.030602313065384155 | 0.09068912117692612 |\n",
      "|   5    | 0.025420817588457455 | 0.09435720011123667 |\n",
      "|   6    | 0.022424520019848057 | 0.09965034107081518 |\n",
      "|   7    | 0.02241088809278413  | 0.11663872121618617 |\n",
      "|   8    | 0.021613420359555723 | 0.12678032967452413 |\n",
      "|   9    | 0.023512347799534684 | 0.15322790400942213 |\n",
      "|   10   | 0.023371121035153826 |  0.1690729744319577 |\n",
      "+--------+----------------------+---------------------+\n",
      "[10 rows x 3 columns]\n",
      "\n",
      "\n",
      "Overall RMSE: 1.0\n",
      "\n",
      "Per User RMSE (best)\n",
      "+------------+------+-------+\n",
      "| customerid | rmse | count |\n",
      "+------------+------+-------+\n",
      "|   16436    | 1.0  |   1   |\n",
      "+------------+------+-------+\n",
      "[1 rows x 3 columns]\n",
      "\n",
      "\n",
      "Per User RMSE (worst)\n",
      "+------------+------+-------+\n",
      "| customerid | rmse | count |\n",
      "+------------+------+-------+\n",
      "|   19584    | 1.0  |   2   |\n",
      "+------------+------+-------+\n",
      "[1 rows x 3 columns]\n",
      "\n",
      "\n",
      "Per Item RMSE (best)\n",
      "+-----------+------+-------+\n",
      "| productid | rmse | count |\n",
      "+-----------+------+-------+\n",
      "|    463    | 1.0  |  119  |\n",
      "+-----------+------+-------+\n",
      "[1 rows x 3 columns]\n",
      "\n",
      "\n",
      "Per Item RMSE (worst)\n",
      "+-----------+------+-------+\n",
      "| productid | rmse | count |\n",
      "+-----------+------+-------+\n",
      "|    537    | 1.0  |  307  |\n",
      "+-----------+------+-------+\n",
      "[1 rows x 3 columns]\n",
      "\n",
      "PROGRESS: Evaluate model Popularity Model on Scaled Purchase Counts\n"
     ]
    },
    {
     "data": {
      "text/html": [
       "<pre>recommendations finished on 1000/6470 queries. users per second: 83291.7</pre>"
      ],
      "text/plain": [
       "recommendations finished on 1000/6470 queries. users per second: 83291.7"
      ]
     },
     "metadata": {},
     "output_type": "display_data"
    },
    {
     "data": {
      "text/html": [
       "<pre>recommendations finished on 2000/6470 queries. users per second: 91738.9</pre>"
      ],
      "text/plain": [
       "recommendations finished on 2000/6470 queries. users per second: 91738.9"
      ]
     },
     "metadata": {},
     "output_type": "display_data"
    },
    {
     "data": {
      "text/html": [
       "<pre>recommendations finished on 3000/6470 queries. users per second: 79630.5</pre>"
      ],
      "text/plain": [
       "recommendations finished on 3000/6470 queries. users per second: 79630.5"
      ]
     },
     "metadata": {},
     "output_type": "display_data"
    },
    {
     "data": {
      "text/html": [
       "<pre>recommendations finished on 4000/6470 queries. users per second: 81413.3</pre>"
      ],
      "text/plain": [
       "recommendations finished on 4000/6470 queries. users per second: 81413.3"
      ]
     },
     "metadata": {},
     "output_type": "display_data"
    },
    {
     "data": {
      "text/html": [
       "<pre>recommendations finished on 5000/6470 queries. users per second: 83042.7</pre>"
      ],
      "text/plain": [
       "recommendations finished on 5000/6470 queries. users per second: 83042.7"
      ]
     },
     "metadata": {},
     "output_type": "display_data"
    },
    {
     "data": {
      "text/html": [
       "<pre>recommendations finished on 6000/6470 queries. users per second: 83963.1</pre>"
      ],
      "text/plain": [
       "recommendations finished on 6000/6470 queries. users per second: 83963.1"
      ]
     },
     "metadata": {},
     "output_type": "display_data"
    },
    {
     "name": "stdout",
     "output_type": "stream",
     "text": [
      "\n",
      "Precision and recall summary statistics by cutoff\n",
      "+--------+----------------------+----------------------+\n",
      "| cutoff |    mean_precision    |     mean_recall      |\n",
      "+--------+----------------------+----------------------+\n",
      "|   1    | 0.009737248840803707 | 0.007677927430632224 |\n",
      "|   2    | 0.018701700154559502 | 0.028995731213660128 |\n",
      "|   3    | 0.021432251416795455 | 0.04958820931773018  |\n",
      "|   4    | 0.019204018547140624 | 0.05982777655111503  |\n",
      "|   5    | 0.016754250386398894 | 0.06436409803488609  |\n",
      "|   6    | 0.01656362699639364  | 0.07596121292411867  |\n",
      "|   7    | 0.01651578714948111  | 0.08819864576433363  |\n",
      "|   8    | 0.015996908809891797 |  0.097302200632958   |\n",
      "|   9    | 0.015936802335566037 | 0.10913777875910796  |\n",
      "|   10   | 0.015996908809891783 | 0.12220210495326414  |\n",
      "+--------+----------------------+----------------------+\n",
      "[10 rows x 3 columns]\n",
      "\n",
      "\n",
      "Overall RMSE: 0.06612971082198302\n",
      "\n",
      "Per User RMSE (best)\n",
      "+------------+----------------------+-------+\n",
      "| customerid |         rmse         | count |\n",
      "+------------+----------------------+-------+\n",
      "|   12532    | 0.003148897885739991 |   1   |\n",
      "+------------+----------------------+-------+\n",
      "[1 rows x 3 columns]\n",
      "\n",
      "\n",
      "Per User RMSE (worst)\n",
      "+------------+--------------------+-------+\n",
      "| customerid |        rmse        | count |\n",
      "+------------+--------------------+-------+\n",
      "|   18322    | 0.9940191387559809 |   1   |\n",
      "+------------+--------------------+-------+\n",
      "[1 rows x 3 columns]\n",
      "\n",
      "\n",
      "Per Item RMSE (best)\n",
      "+-----------+----------------------+-------+\n",
      "| productid |         rmse         | count |\n",
      "+-----------+----------------------+-------+\n",
      "|    482    | 0.004694835680751173 |   56  |\n",
      "+-----------+----------------------+-------+\n",
      "[1 rows x 3 columns]\n",
      "\n",
      "\n",
      "Per Item RMSE (worst)\n",
      "+-----------+---------------------+-------+\n",
      "| productid |         rmse        | count |\n",
      "+-----------+---------------------+-------+\n",
      "|    463    | 0.19878105135245472 |   99  |\n",
      "+-----------+---------------------+-------+\n",
      "[1 rows x 3 columns]\n",
      "\n",
      "PROGRESS: Evaluate model Cosine Similarity on Scaled Purchase Counts\n"
     ]
    },
    {
     "data": {
      "text/html": [
       "<pre>recommendations finished on 1000/6470 queries. users per second: 81599.3</pre>"
      ],
      "text/plain": [
       "recommendations finished on 1000/6470 queries. users per second: 81599.3"
      ]
     },
     "metadata": {},
     "output_type": "display_data"
    },
    {
     "data": {
      "text/html": [
       "<pre>recommendations finished on 2000/6470 queries. users per second: 93619.8</pre>"
      ],
      "text/plain": [
       "recommendations finished on 2000/6470 queries. users per second: 93619.8"
      ]
     },
     "metadata": {},
     "output_type": "display_data"
    },
    {
     "data": {
      "text/html": [
       "<pre>recommendations finished on 3000/6470 queries. users per second: 102484</pre>"
      ],
      "text/plain": [
       "recommendations finished on 3000/6470 queries. users per second: 102484"
      ]
     },
     "metadata": {},
     "output_type": "display_data"
    },
    {
     "data": {
      "text/html": [
       "<pre>recommendations finished on 4000/6470 queries. users per second: 96114.6</pre>"
      ],
      "text/plain": [
       "recommendations finished on 4000/6470 queries. users per second: 96114.6"
      ]
     },
     "metadata": {},
     "output_type": "display_data"
    },
    {
     "data": {
      "text/html": [
       "<pre>recommendations finished on 5000/6470 queries. users per second: 94263.1</pre>"
      ],
      "text/plain": [
       "recommendations finished on 5000/6470 queries. users per second: 94263.1"
      ]
     },
     "metadata": {},
     "output_type": "display_data"
    },
    {
     "data": {
      "text/html": [
       "<pre>recommendations finished on 6000/6470 queries. users per second: 94567.1</pre>"
      ],
      "text/plain": [
       "recommendations finished on 6000/6470 queries. users per second: 94567.1"
      ]
     },
     "metadata": {},
     "output_type": "display_data"
    },
    {
     "name": "stdout",
     "output_type": "stream",
     "text": [
      "\n",
      "Precision and recall summary statistics by cutoff\n",
      "+--------+----------------------+---------------------+\n",
      "| cutoff |    mean_precision    |     mean_recall     |\n",
      "+--------+----------------------+---------------------+\n",
      "|   1    | 0.08315301391035552  | 0.06451203356149252 |\n",
      "|   2    | 0.06754250386398775  | 0.10229300066239788 |\n",
      "|   3    | 0.08083462132921146  | 0.19089570913373083 |\n",
      "|   4    | 0.06649922720247314  | 0.20735519246338385 |\n",
      "|   5    | 0.06380216383307549  | 0.24955140943548962 |\n",
      "|   6    | 0.06164348274085522  | 0.28770847133289146 |\n",
      "|   7    | 0.06228748068006197  | 0.34202583351733273 |\n",
      "|   8    | 0.06163060278207113  | 0.38826746154412284 |\n",
      "|   9    | 0.06172076249355999  |  0.4410973724884082 |\n",
      "|   10   | 0.060927357032457594 | 0.48828181349819677 |\n",
      "+--------+----------------------+---------------------+\n",
      "[10 rows x 3 columns]\n",
      "\n",
      "\n",
      "Overall RMSE: 0.06183381961328656\n",
      "\n",
      "Per User RMSE (best)\n",
      "+------------+------+-------+\n",
      "| customerid | rmse | count |\n",
      "+------------+------+-------+\n",
      "|   16436    | 0.0  |   1   |\n",
      "+------------+------+-------+\n",
      "[1 rows x 3 columns]\n",
      "\n",
      "\n",
      "Per User RMSE (worst)\n",
      "+------------+------+-------+\n",
      "| customerid | rmse | count |\n",
      "+------------+------+-------+\n",
      "|   12672    | 1.0  |   1   |\n",
      "+------------+------+-------+\n",
      "[1 rows x 3 columns]\n",
      "\n",
      "\n",
      "Per Item RMSE (best)\n",
      "+-----------+------------------------+-------+\n",
      "| productid |          rmse          | count |\n",
      "+-----------+------------------------+-------+\n",
      "|    561    | 1.7163757270764055e-06 |   30  |\n",
      "+-----------+------------------------+-------+\n",
      "[1 rows x 3 columns]\n",
      "\n",
      "\n",
      "Per Item RMSE (worst)\n",
      "+-----------+---------------------+-------+\n",
      "| productid |         rmse        | count |\n",
      "+-----------+---------------------+-------+\n",
      "|    463    | 0.19656914943402168 |   99  |\n",
      "+-----------+---------------------+-------+\n",
      "[1 rows x 3 columns]\n",
      "\n",
      "PROGRESS: Evaluate model Pearson Similarity on Scaled Purchase Counts\n"
     ]
    },
    {
     "data": {
      "text/html": [
       "<pre>recommendations finished on 1000/6470 queries. users per second: 86229.2</pre>"
      ],
      "text/plain": [
       "recommendations finished on 1000/6470 queries. users per second: 86229.2"
      ]
     },
     "metadata": {},
     "output_type": "display_data"
    },
    {
     "data": {
      "text/html": [
       "<pre>recommendations finished on 2000/6470 queries. users per second: 79713</pre>"
      ],
      "text/plain": [
       "recommendations finished on 2000/6470 queries. users per second: 79713"
      ]
     },
     "metadata": {},
     "output_type": "display_data"
    },
    {
     "data": {
      "text/html": [
       "<pre>recommendations finished on 3000/6470 queries. users per second: 77827.1</pre>"
      ],
      "text/plain": [
       "recommendations finished on 3000/6470 queries. users per second: 77827.1"
      ]
     },
     "metadata": {},
     "output_type": "display_data"
    },
    {
     "data": {
      "text/html": [
       "<pre>recommendations finished on 4000/6470 queries. users per second: 77569</pre>"
      ],
      "text/plain": [
       "recommendations finished on 4000/6470 queries. users per second: 77569"
      ]
     },
     "metadata": {},
     "output_type": "display_data"
    },
    {
     "data": {
      "text/html": [
       "<pre>recommendations finished on 5000/6470 queries. users per second: 78825.8</pre>"
      ],
      "text/plain": [
       "recommendations finished on 5000/6470 queries. users per second: 78825.8"
      ]
     },
     "metadata": {},
     "output_type": "display_data"
    },
    {
     "data": {
      "text/html": [
       "<pre>recommendations finished on 6000/6470 queries. users per second: 77749.4</pre>"
      ],
      "text/plain": [
       "recommendations finished on 6000/6470 queries. users per second: 77749.4"
      ]
     },
     "metadata": {},
     "output_type": "display_data"
    },
    {
     "name": "stdout",
     "output_type": "stream",
     "text": [
      "\n",
      "Precision and recall summary statistics by cutoff\n",
      "+--------+----------------------+----------------------+\n",
      "| cutoff |    mean_precision    |     mean_recall      |\n",
      "+--------+----------------------+----------------------+\n",
      "|   1    | 0.01282843894899537  | 0.009112754839184518 |\n",
      "|   2    | 0.01924265842349305  | 0.02772576727754472  |\n",
      "|   3    | 0.01885625965996905  | 0.03978803267829542  |\n",
      "|   4    | 0.018083462132921155 |  0.0499698240965629  |\n",
      "|   5    | 0.017496136012364837 |  0.060780157503496   |\n",
      "|   6    | 0.018031942297784695 | 0.07528188709796141  |\n",
      "|   7    | 0.01761978361669239  | 0.08638073158165892  |\n",
      "|   8    |  0.0178323029366306  | 0.10092478104070073  |\n",
      "|   9    | 0.017757169843723334 |  0.1148145285935085  |\n",
      "|   10   | 0.017851622874806714 | 0.12979392065945417  |\n",
      "+--------+----------------------+----------------------+\n",
      "[10 rows x 3 columns]\n",
      "\n",
      "\n",
      "Overall RMSE: 0.06158153457025342\n",
      "\n",
      "Per User RMSE (best)\n",
      "+------------+------------------------+-------+\n",
      "| customerid |          rmse          | count |\n",
      "+------------+------------------------+-------+\n",
      "|   12620    | 1.9615604763948725e-06 |   1   |\n",
      "+------------+------------------------+-------+\n",
      "[1 rows x 3 columns]\n",
      "\n",
      "\n",
      "Per User RMSE (worst)\n",
      "+------------+--------------------+-------+\n",
      "| customerid |        rmse        | count |\n",
      "+------------+--------------------+-------+\n",
      "|   18322    | 0.9940191387559808 |   1   |\n",
      "+------------+--------------------+-------+\n",
      "[1 rows x 3 columns]\n",
      "\n",
      "\n",
      "Per Item RMSE (best)\n",
      "+-----------+----------------------+-------+\n",
      "| productid |         rmse         | count |\n",
      "+-----------+----------------------+-------+\n",
      "|    482    | 0.004740519305054217 |   56  |\n",
      "+-----------+----------------------+-------+\n",
      "[1 rows x 3 columns]\n",
      "\n",
      "\n",
      "Per Item RMSE (worst)\n",
      "+-----------+---------------------+-------+\n",
      "| productid |         rmse        | count |\n",
      "+-----------+---------------------+-------+\n",
      "|    463    | 0.19487355106895288 |   99  |\n",
      "+-----------+---------------------+-------+\n",
      "[1 rows x 3 columns]\n",
      "\n"
     ]
    }
   ],
   "source": [
    "eval_counts = tc.recommender.util.compare_models(test_data, models_w_counts, model_names=names_w_counts)\n",
    "eval_dummy = tc.recommender.util.compare_models(test_data_dummy, models_w_dummy, model_names=names_w_dummy)\n",
    "eval_norm = tc.recommender.util.compare_models(test_data_norm, models_w_norm, model_names=names_w_norm)"
   ]
  },
  {
   "cell_type": "markdown",
   "metadata": {},
   "source": [
    "# we select Cosine similarity on Purchase dummy approach as our final model"
   ]
  },
  {
   "cell_type": "code",
   "execution_count": 28,
   "metadata": {},
   "outputs": [
    {
     "data": {
      "text/html": [
       "<pre>Warning: Ignoring columns purchase_count;</pre>"
      ],
      "text/plain": [
       "Warning: Ignoring columns purchase_count;"
      ]
     },
     "metadata": {},
     "output_type": "display_data"
    },
    {
     "data": {
      "text/html": [
       "<pre>    To use these columns in scoring predictions, use a model that allows the use of additional features.</pre>"
      ],
      "text/plain": [
       "    To use these columns in scoring predictions, use a model that allows the use of additional features."
      ]
     },
     "metadata": {},
     "output_type": "display_data"
    },
    {
     "data": {
      "text/html": [
       "<pre>Preparing data set.</pre>"
      ],
      "text/plain": [
       "Preparing data set."
      ]
     },
     "metadata": {},
     "output_type": "display_data"
    },
    {
     "data": {
      "text/html": [
       "<pre>    Data has 59051 observations with 18484 users and 158 items.</pre>"
      ],
      "text/plain": [
       "    Data has 59051 observations with 18484 users and 158 items."
      ]
     },
     "metadata": {},
     "output_type": "display_data"
    },
    {
     "data": {
      "text/html": [
       "<pre>    Data prepared in: 0.085911s</pre>"
      ],
      "text/plain": [
       "    Data prepared in: 0.085911s"
      ]
     },
     "metadata": {},
     "output_type": "display_data"
    },
    {
     "data": {
      "text/html": [
       "<pre>Training model from provided data.</pre>"
      ],
      "text/plain": [
       "Training model from provided data."
      ]
     },
     "metadata": {},
     "output_type": "display_data"
    },
    {
     "data": {
      "text/html": [
       "<pre>Gathering per-item and per-user statistics.</pre>"
      ],
      "text/plain": [
       "Gathering per-item and per-user statistics."
      ]
     },
     "metadata": {},
     "output_type": "display_data"
    },
    {
     "data": {
      "text/html": [
       "<pre>+--------------------------------+------------+</pre>"
      ],
      "text/plain": [
       "+--------------------------------+------------+"
      ]
     },
     "metadata": {},
     "output_type": "display_data"
    },
    {
     "data": {
      "text/html": [
       "<pre>| Elapsed Time (Item Statistics) | % Complete |</pre>"
      ],
      "text/plain": [
       "| Elapsed Time (Item Statistics) | % Complete |"
      ]
     },
     "metadata": {},
     "output_type": "display_data"
    },
    {
     "data": {
      "text/html": [
       "<pre>+--------------------------------+------------+</pre>"
      ],
      "text/plain": [
       "+--------------------------------+------------+"
      ]
     },
     "metadata": {},
     "output_type": "display_data"
    },
    {
     "data": {
      "text/html": [
       "<pre>| 13.63ms                        | 5.25       |</pre>"
      ],
      "text/plain": [
       "| 13.63ms                        | 5.25       |"
      ]
     },
     "metadata": {},
     "output_type": "display_data"
    },
    {
     "data": {
      "text/html": [
       "<pre>| 22.848ms                       | 100        |</pre>"
      ],
      "text/plain": [
       "| 22.848ms                       | 100        |"
      ]
     },
     "metadata": {},
     "output_type": "display_data"
    },
    {
     "data": {
      "text/html": [
       "<pre>+--------------------------------+------------+</pre>"
      ],
      "text/plain": [
       "+--------------------------------+------------+"
      ]
     },
     "metadata": {},
     "output_type": "display_data"
    },
    {
     "data": {
      "text/html": [
       "<pre>Setting up lookup tables.</pre>"
      ],
      "text/plain": [
       "Setting up lookup tables."
      ]
     },
     "metadata": {},
     "output_type": "display_data"
    },
    {
     "data": {
      "text/html": [
       "<pre>Processing data in one pass using dense lookup tables.</pre>"
      ],
      "text/plain": [
       "Processing data in one pass using dense lookup tables."
      ]
     },
     "metadata": {},
     "output_type": "display_data"
    },
    {
     "data": {
      "text/html": [
       "<pre>+-------------------------------------+------------------+-----------------+</pre>"
      ],
      "text/plain": [
       "+-------------------------------------+------------------+-----------------+"
      ]
     },
     "metadata": {},
     "output_type": "display_data"
    },
    {
     "data": {
      "text/html": [
       "<pre>| Elapsed Time (Constructing Lookups) | Total % Complete | Items Processed |</pre>"
      ],
      "text/plain": [
       "| Elapsed Time (Constructing Lookups) | Total % Complete | Items Processed |"
      ]
     },
     "metadata": {},
     "output_type": "display_data"
    },
    {
     "data": {
      "text/html": [
       "<pre>+-------------------------------------+------------------+-----------------+</pre>"
      ],
      "text/plain": [
       "+-------------------------------------+------------------+-----------------+"
      ]
     },
     "metadata": {},
     "output_type": "display_data"
    },
    {
     "data": {
      "text/html": [
       "<pre>| 23.914ms                            | 0                | 0               |</pre>"
      ],
      "text/plain": [
       "| 23.914ms                            | 0                | 0               |"
      ]
     },
     "metadata": {},
     "output_type": "display_data"
    },
    {
     "data": {
      "text/html": [
       "<pre>| 39.919ms                            | 100              | 158             |</pre>"
      ],
      "text/plain": [
       "| 39.919ms                            | 100              | 158             |"
      ]
     },
     "metadata": {},
     "output_type": "display_data"
    },
    {
     "data": {
      "text/html": [
       "<pre>+-------------------------------------+------------------+-----------------+</pre>"
      ],
      "text/plain": [
       "+-------------------------------------+------------------+-----------------+"
      ]
     },
     "metadata": {},
     "output_type": "display_data"
    },
    {
     "data": {
      "text/html": [
       "<pre>Finalizing lookup tables.</pre>"
      ],
      "text/plain": [
       "Finalizing lookup tables."
      ]
     },
     "metadata": {},
     "output_type": "display_data"
    },
    {
     "data": {
      "text/html": [
       "<pre>Generating candidate set for working with new users.</pre>"
      ],
      "text/plain": [
       "Generating candidate set for working with new users."
      ]
     },
     "metadata": {},
     "output_type": "display_data"
    },
    {
     "data": {
      "text/html": [
       "<pre>Finished training in 0.047458s</pre>"
      ],
      "text/plain": [
       "Finished training in 0.047458s"
      ]
     },
     "metadata": {},
     "output_type": "display_data"
    },
    {
     "data": {
      "text/html": [
       "<pre>recommendations finished on 1000/18484 queries. users per second: 129266</pre>"
      ],
      "text/plain": [
       "recommendations finished on 1000/18484 queries. users per second: 129266"
      ]
     },
     "metadata": {},
     "output_type": "display_data"
    },
    {
     "data": {
      "text/html": [
       "<pre>recommendations finished on 2000/18484 queries. users per second: 166917</pre>"
      ],
      "text/plain": [
       "recommendations finished on 2000/18484 queries. users per second: 166917"
      ]
     },
     "metadata": {},
     "output_type": "display_data"
    },
    {
     "data": {
      "text/html": [
       "<pre>recommendations finished on 3000/18484 queries. users per second: 169377</pre>"
      ],
      "text/plain": [
       "recommendations finished on 3000/18484 queries. users per second: 169377"
      ]
     },
     "metadata": {},
     "output_type": "display_data"
    },
    {
     "data": {
      "text/html": [
       "<pre>recommendations finished on 4000/18484 queries. users per second: 131536</pre>"
      ],
      "text/plain": [
       "recommendations finished on 4000/18484 queries. users per second: 131536"
      ]
     },
     "metadata": {},
     "output_type": "display_data"
    },
    {
     "data": {
      "text/html": [
       "<pre>recommendations finished on 5000/18484 queries. users per second: 136362</pre>"
      ],
      "text/plain": [
       "recommendations finished on 5000/18484 queries. users per second: 136362"
      ]
     },
     "metadata": {},
     "output_type": "display_data"
    },
    {
     "data": {
      "text/html": [
       "<pre>recommendations finished on 6000/18484 queries. users per second: 130933</pre>"
      ],
      "text/plain": [
       "recommendations finished on 6000/18484 queries. users per second: 130933"
      ]
     },
     "metadata": {},
     "output_type": "display_data"
    },
    {
     "data": {
      "text/html": [
       "<pre>recommendations finished on 7000/18484 queries. users per second: 131926</pre>"
      ],
      "text/plain": [
       "recommendations finished on 7000/18484 queries. users per second: 131926"
      ]
     },
     "metadata": {},
     "output_type": "display_data"
    },
    {
     "data": {
      "text/html": [
       "<pre>recommendations finished on 8000/18484 queries. users per second: 131707</pre>"
      ],
      "text/plain": [
       "recommendations finished on 8000/18484 queries. users per second: 131707"
      ]
     },
     "metadata": {},
     "output_type": "display_data"
    },
    {
     "data": {
      "text/html": [
       "<pre>recommendations finished on 9000/18484 queries. users per second: 132378</pre>"
      ],
      "text/plain": [
       "recommendations finished on 9000/18484 queries. users per second: 132378"
      ]
     },
     "metadata": {},
     "output_type": "display_data"
    },
    {
     "data": {
      "text/html": [
       "<pre>recommendations finished on 10000/18484 queries. users per second: 126531</pre>"
      ],
      "text/plain": [
       "recommendations finished on 10000/18484 queries. users per second: 126531"
      ]
     },
     "metadata": {},
     "output_type": "display_data"
    },
    {
     "data": {
      "text/html": [
       "<pre>recommendations finished on 11000/18484 queries. users per second: 129905</pre>"
      ],
      "text/plain": [
       "recommendations finished on 11000/18484 queries. users per second: 129905"
      ]
     },
     "metadata": {},
     "output_type": "display_data"
    },
    {
     "data": {
      "text/html": [
       "<pre>recommendations finished on 12000/18484 queries. users per second: 131303</pre>"
      ],
      "text/plain": [
       "recommendations finished on 12000/18484 queries. users per second: 131303"
      ]
     },
     "metadata": {},
     "output_type": "display_data"
    },
    {
     "data": {
      "text/html": [
       "<pre>recommendations finished on 13000/18484 queries. users per second: 135777</pre>"
      ],
      "text/plain": [
       "recommendations finished on 13000/18484 queries. users per second: 135777"
      ]
     },
     "metadata": {},
     "output_type": "display_data"
    },
    {
     "data": {
      "text/html": [
       "<pre>recommendations finished on 14000/18484 queries. users per second: 139262</pre>"
      ],
      "text/plain": [
       "recommendations finished on 14000/18484 queries. users per second: 139262"
      ]
     },
     "metadata": {},
     "output_type": "display_data"
    },
    {
     "data": {
      "text/html": [
       "<pre>recommendations finished on 15000/18484 queries. users per second: 141856</pre>"
      ],
      "text/plain": [
       "recommendations finished on 15000/18484 queries. users per second: 141856"
      ]
     },
     "metadata": {},
     "output_type": "display_data"
    },
    {
     "data": {
      "text/html": [
       "<pre>recommendations finished on 16000/18484 queries. users per second: 134157</pre>"
      ],
      "text/plain": [
       "recommendations finished on 16000/18484 queries. users per second: 134157"
      ]
     },
     "metadata": {},
     "output_type": "display_data"
    },
    {
     "data": {
      "text/html": [
       "<pre>recommendations finished on 17000/18484 queries. users per second: 132902</pre>"
      ],
      "text/plain": [
       "recommendations finished on 17000/18484 queries. users per second: 132902"
      ]
     },
     "metadata": {},
     "output_type": "display_data"
    },
    {
     "data": {
      "text/html": [
       "<pre>recommendations finished on 18000/18484 queries. users per second: 133360</pre>"
      ],
      "text/plain": [
       "recommendations finished on 18000/18484 queries. users per second: 133360"
      ]
     },
     "metadata": {},
     "output_type": "display_data"
    },
    {
     "name": "stdout",
     "output_type": "stream",
     "text": [
      "+------------+-----------+----------------------+------+\n",
      "| customerid | productid |        score         | rank |\n",
      "+------------+-----------+----------------------+------+\n",
      "|   11000    |    478    | 0.10096639394760132  |  1   |\n",
      "|   11000    |    477    |  0.0984770879149437  |  2   |\n",
      "|   11000    |    225    | 0.08770759403705597  |  3   |\n",
      "|   11000    |    480    | 0.08636465668678284  |  4   |\n",
      "|   11000    |    537    | 0.08083739131689072  |  5   |\n",
      "|   11000    |    528    | 0.07649999111890793  |  6   |\n",
      "|   11000    |    217    | 0.07149147987365723  |  7   |\n",
      "|   11000    |    479    | 0.06456053256988525  |  8   |\n",
      "|   11000    |    487    | 0.06324635446071625  |  9   |\n",
      "|   11000    |    467    | 0.05609729140996933  |  10  |\n",
      "|   11001    |    537    | 0.09024447798728943  |  1   |\n",
      "|   11001    |    214    | 0.08879245519638061  |  2   |\n",
      "|   11001    |    528    | 0.08163455724716187  |  3   |\n",
      "|   11001    |    487    | 0.07803999781608581  |  4   |\n",
      "|   11001    |    222    | 0.07320789098739625  |  5   |\n",
      "|   11001    |    484    | 0.06505309343338013  |  6   |\n",
      "|   11001    |    480    | 0.06344848871231079  |  7   |\n",
      "|   11001    |    359    | 0.06295578479766846  |  8   |\n",
      "|   11001    |    363    | 0.06091021299362183  |  9   |\n",
      "|   11001    |    357    | 0.05849393606185913  |  10  |\n",
      "|   11002    |    478    | 0.08891712129116058  |  1   |\n",
      "|   11002    |    477    | 0.08869597315788269  |  2   |\n",
      "|   11002    |    485    | 0.07959368824958801  |  3   |\n",
      "|   11002    |    537    | 0.07275363802909851  |  4   |\n",
      "|   11002    |    528    | 0.06986132264137268  |  5   |\n",
      "|   11002    |    479    | 0.06905122101306915  |  6   |\n",
      "|   11002    |    225    | 0.06608091294765472  |  7   |\n",
      "|   11002    |    541    | 0.05965924263000488  |  8   |\n",
      "|   11002    |    530    | 0.051841557025909424 |  9   |\n",
      "|   11002    |    564    | 0.04926756024360657  |  10  |\n",
      "+------------+-----------+----------------------+------+\n",
      "[184840 rows x 4 columns]\n",
      "\n"
     ]
    }
   ],
   "source": [
    "final_model = tc.item_similarity_recommender.create(tc.SFrame(data_dummy), \n",
    "                                            user_id=user_id, \n",
    "                                            item_id=item_id, \n",
    "                                            target='purchase_dummy', similarity_type='cosine')\n",
    "recom = final_model.recommend(users=users_to_recommend, k=n_rec)\n",
    "recom.print_rows(n_display)"
   ]
  },
  {
   "cell_type": "code",
   "execution_count": 29,
   "metadata": {},
   "outputs": [
    {
     "name": "stdout",
     "output_type": "stream",
     "text": [
      "(184840, 4)\n"
     ]
    },
    {
     "data": {
      "text/html": [
       "<div>\n",
       "<style scoped>\n",
       "    .dataframe tbody tr th:only-of-type {\n",
       "        vertical-align: middle;\n",
       "    }\n",
       "\n",
       "    .dataframe tbody tr th {\n",
       "        vertical-align: top;\n",
       "    }\n",
       "\n",
       "    .dataframe thead th {\n",
       "        text-align: right;\n",
       "    }\n",
       "</style>\n",
       "<table border=\"1\" class=\"dataframe\">\n",
       "  <thead>\n",
       "    <tr style=\"text-align: right;\">\n",
       "      <th></th>\n",
       "      <th>customerid</th>\n",
       "      <th>productid</th>\n",
       "      <th>score</th>\n",
       "      <th>rank</th>\n",
       "    </tr>\n",
       "  </thead>\n",
       "  <tbody>\n",
       "    <tr>\n",
       "      <th>0</th>\n",
       "      <td>11000</td>\n",
       "      <td>478</td>\n",
       "      <td>0.100966</td>\n",
       "      <td>1</td>\n",
       "    </tr>\n",
       "    <tr>\n",
       "      <th>1</th>\n",
       "      <td>11000</td>\n",
       "      <td>477</td>\n",
       "      <td>0.098477</td>\n",
       "      <td>2</td>\n",
       "    </tr>\n",
       "    <tr>\n",
       "      <th>2</th>\n",
       "      <td>11000</td>\n",
       "      <td>225</td>\n",
       "      <td>0.087708</td>\n",
       "      <td>3</td>\n",
       "    </tr>\n",
       "    <tr>\n",
       "      <th>3</th>\n",
       "      <td>11000</td>\n",
       "      <td>480</td>\n",
       "      <td>0.086365</td>\n",
       "      <td>4</td>\n",
       "    </tr>\n",
       "    <tr>\n",
       "      <th>4</th>\n",
       "      <td>11000</td>\n",
       "      <td>537</td>\n",
       "      <td>0.080837</td>\n",
       "      <td>5</td>\n",
       "    </tr>\n",
       "  </tbody>\n",
       "</table>\n",
       "</div>"
      ],
      "text/plain": [
       "   customerid  productid     score  rank\n",
       "0       11000        478  0.100966     1\n",
       "1       11000        477  0.098477     2\n",
       "2       11000        225  0.087708     3\n",
       "3       11000        480  0.086365     4\n",
       "4       11000        537  0.080837     5"
      ]
     },
     "execution_count": 29,
     "metadata": {},
     "output_type": "execute_result"
    }
   ],
   "source": [
    "#csv output file\n",
    "df_rec = recom.to_dataframe()\n",
    "print(df_rec.shape)\n",
    "df_rec.head()"
   ]
  },
  {
   "cell_type": "code",
   "execution_count": 30,
   "metadata": {},
   "outputs": [],
   "source": [
    "def create_output(model, users_to_recommend, n_rec, print_csv=True):\n",
    "    recomendation = model.recommend(users=users_to_recommend, k=n_rec)\n",
    "    df_rec = recomendation.to_dataframe()\n",
    "    df_rec['recommendedProducts'] = df_rec.groupby([user_id])[item_id] \\\n",
    "        .transform(lambda x: '|'.join(x.astype(str)))\n",
    "    df_output = df_rec[['customerid', 'recommendedProducts']].drop_duplicates() \\\n",
    "        .sort_values('customerid').set_index('customerid')\n",
    "    if print_csv:\n",
    "        df_output.to_csv('option1_recommendation.csv')\n",
    "        print(\"An output file can be found in 'output' folder with name 'option1_recommendation.csv'\")\n",
    "    return df_output"
   ]
  },
  {
   "cell_type": "code",
   "execution_count": 31,
   "metadata": {},
   "outputs": [
    {
     "data": {
      "text/html": [
       "<pre>recommendations finished on 1000/18484 queries. users per second: 111334</pre>"
      ],
      "text/plain": [
       "recommendations finished on 1000/18484 queries. users per second: 111334"
      ]
     },
     "metadata": {},
     "output_type": "display_data"
    },
    {
     "data": {
      "text/html": [
       "<pre>recommendations finished on 2000/18484 queries. users per second: 145741</pre>"
      ],
      "text/plain": [
       "recommendations finished on 2000/18484 queries. users per second: 145741"
      ]
     },
     "metadata": {},
     "output_type": "display_data"
    },
    {
     "data": {
      "text/html": [
       "<pre>recommendations finished on 3000/18484 queries. users per second: 163559</pre>"
      ],
      "text/plain": [
       "recommendations finished on 3000/18484 queries. users per second: 163559"
      ]
     },
     "metadata": {},
     "output_type": "display_data"
    },
    {
     "data": {
      "text/html": [
       "<pre>recommendations finished on 4000/18484 queries. users per second: 184749</pre>"
      ],
      "text/plain": [
       "recommendations finished on 4000/18484 queries. users per second: 184749"
      ]
     },
     "metadata": {},
     "output_type": "display_data"
    },
    {
     "data": {
      "text/html": [
       "<pre>recommendations finished on 5000/18484 queries. users per second: 202897</pre>"
      ],
      "text/plain": [
       "recommendations finished on 5000/18484 queries. users per second: 202897"
      ]
     },
     "metadata": {},
     "output_type": "display_data"
    },
    {
     "data": {
      "text/html": [
       "<pre>recommendations finished on 6000/18484 queries. users per second: 211760</pre>"
      ],
      "text/plain": [
       "recommendations finished on 6000/18484 queries. users per second: 211760"
      ]
     },
     "metadata": {},
     "output_type": "display_data"
    },
    {
     "data": {
      "text/html": [
       "<pre>recommendations finished on 7000/18484 queries. users per second: 193997</pre>"
      ],
      "text/plain": [
       "recommendations finished on 7000/18484 queries. users per second: 193997"
      ]
     },
     "metadata": {},
     "output_type": "display_data"
    },
    {
     "data": {
      "text/html": [
       "<pre>recommendations finished on 8000/18484 queries. users per second: 203749</pre>"
      ],
      "text/plain": [
       "recommendations finished on 8000/18484 queries. users per second: 203749"
      ]
     },
     "metadata": {},
     "output_type": "display_data"
    },
    {
     "data": {
      "text/html": [
       "<pre>recommendations finished on 9000/18484 queries. users per second: 209722</pre>"
      ],
      "text/plain": [
       "recommendations finished on 9000/18484 queries. users per second: 209722"
      ]
     },
     "metadata": {},
     "output_type": "display_data"
    },
    {
     "data": {
      "text/html": [
       "<pre>recommendations finished on 10000/18484 queries. users per second: 196726</pre>"
      ],
      "text/plain": [
       "recommendations finished on 10000/18484 queries. users per second: 196726"
      ]
     },
     "metadata": {},
     "output_type": "display_data"
    },
    {
     "data": {
      "text/html": [
       "<pre>recommendations finished on 11000/18484 queries. users per second: 202478</pre>"
      ],
      "text/plain": [
       "recommendations finished on 11000/18484 queries. users per second: 202478"
      ]
     },
     "metadata": {},
     "output_type": "display_data"
    },
    {
     "data": {
      "text/html": [
       "<pre>recommendations finished on 12000/18484 queries. users per second: 191165</pre>"
      ],
      "text/plain": [
       "recommendations finished on 12000/18484 queries. users per second: 191165"
      ]
     },
     "metadata": {},
     "output_type": "display_data"
    },
    {
     "data": {
      "text/html": [
       "<pre>recommendations finished on 13000/18484 queries. users per second: 193251</pre>"
      ],
      "text/plain": [
       "recommendations finished on 13000/18484 queries. users per second: 193251"
      ]
     },
     "metadata": {},
     "output_type": "display_data"
    },
    {
     "data": {
      "text/html": [
       "<pre>recommendations finished on 14000/18484 queries. users per second: 196175</pre>"
      ],
      "text/plain": [
       "recommendations finished on 14000/18484 queries. users per second: 196175"
      ]
     },
     "metadata": {},
     "output_type": "display_data"
    },
    {
     "data": {
      "text/html": [
       "<pre>recommendations finished on 15000/18484 queries. users per second: 196312</pre>"
      ],
      "text/plain": [
       "recommendations finished on 15000/18484 queries. users per second: 196312"
      ]
     },
     "metadata": {},
     "output_type": "display_data"
    },
    {
     "data": {
      "text/html": [
       "<pre>recommendations finished on 16000/18484 queries. users per second: 198012</pre>"
      ],
      "text/plain": [
       "recommendations finished on 16000/18484 queries. users per second: 198012"
      ]
     },
     "metadata": {},
     "output_type": "display_data"
    },
    {
     "data": {
      "text/html": [
       "<pre>recommendations finished on 17000/18484 queries. users per second: 195891</pre>"
      ],
      "text/plain": [
       "recommendations finished on 17000/18484 queries. users per second: 195891"
      ]
     },
     "metadata": {},
     "output_type": "display_data"
    },
    {
     "data": {
      "text/html": [
       "<pre>recommendations finished on 18000/18484 queries. users per second: 194719</pre>"
      ],
      "text/plain": [
       "recommendations finished on 18000/18484 queries. users per second: 194719"
      ]
     },
     "metadata": {},
     "output_type": "display_data"
    },
    {
     "name": "stdout",
     "output_type": "stream",
     "text": [
      "An output file can be found in 'output' folder with name 'option1_recommendation.csv'\n",
      "(18484, 1)\n"
     ]
    },
    {
     "data": {
      "text/html": [
       "<div>\n",
       "<style scoped>\n",
       "    .dataframe tbody tr th:only-of-type {\n",
       "        vertical-align: middle;\n",
       "    }\n",
       "\n",
       "    .dataframe tbody tr th {\n",
       "        vertical-align: top;\n",
       "    }\n",
       "\n",
       "    .dataframe thead th {\n",
       "        text-align: right;\n",
       "    }\n",
       "</style>\n",
       "<table border=\"1\" class=\"dataframe\">\n",
       "  <thead>\n",
       "    <tr style=\"text-align: right;\">\n",
       "      <th></th>\n",
       "      <th>recommendedProducts</th>\n",
       "    </tr>\n",
       "    <tr>\n",
       "      <th>customerid</th>\n",
       "      <th></th>\n",
       "    </tr>\n",
       "  </thead>\n",
       "  <tbody>\n",
       "    <tr>\n",
       "      <th>11000</th>\n",
       "      <td>486|539|540|561|467|481|465|463|491|483</td>\n",
       "    </tr>\n",
       "    <tr>\n",
       "      <th>11001</th>\n",
       "      <td>486|539|540|535|463|529|231|481|528|467</td>\n",
       "    </tr>\n",
       "    <tr>\n",
       "      <th>11002</th>\n",
       "      <td>486|539|540|467|481|465|491|463|483|231</td>\n",
       "    </tr>\n",
       "    <tr>\n",
       "      <th>11003</th>\n",
       "      <td>486|539|561|467|540|481|465|491|463|483</td>\n",
       "    </tr>\n",
       "    <tr>\n",
       "      <th>11004</th>\n",
       "      <td>486|539|540|561|467|481|465|491|463|483</td>\n",
       "    </tr>\n",
       "  </tbody>\n",
       "</table>\n",
       "</div>"
      ],
      "text/plain": [
       "                                recommendedProducts\n",
       "customerid                                         \n",
       "11000       486|539|540|561|467|481|465|463|491|483\n",
       "11001       486|539|540|535|463|529|231|481|528|467\n",
       "11002       486|539|540|467|481|465|491|463|483|231\n",
       "11003       486|539|561|467|540|481|465|491|463|483\n",
       "11004       486|539|540|561|467|481|465|491|463|483"
      ]
     },
     "execution_count": 31,
     "metadata": {},
     "output_type": "execute_result"
    }
   ],
   "source": [
    "df_output = create_output(pear_norm, users_to_recommend, n_rec, print_csv=True)\n",
    "print(df_output.shape)\n",
    "df_output.head()"
   ]
  },
  {
   "cell_type": "code",
   "execution_count": null,
   "metadata": {},
   "outputs": [],
   "source": []
  }
 ],
 "metadata": {
  "kernelspec": {
   "display_name": "Python 3",
   "language": "python",
   "name": "python3"
  },
  "language_info": {
   "codemirror_mode": {
    "name": "ipython",
    "version": 3
   },
   "file_extension": ".py",
   "mimetype": "text/x-python",
   "name": "python",
   "nbconvert_exporter": "python",
   "pygments_lexer": "ipython3",
   "version": "3.7.3"
  }
 },
 "nbformat": 4,
 "nbformat_minor": 2
}
